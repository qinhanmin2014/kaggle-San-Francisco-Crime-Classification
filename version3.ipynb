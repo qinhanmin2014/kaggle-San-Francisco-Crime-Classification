{
 "cells": [
  {
   "cell_type": "markdown",
   "metadata": {},
   "source": [
    "- Dates - timestamp of the crime incident\n",
    "- Category - category of the crime incident (only in train.csv). This is the target variable you are going to predict.\n",
    "- Descript - detailed description of the crime incident (only in train.csv)\n",
    "- DayOfWeek - the day of the week\n",
    "- PdDistrict - name of the Police Department District\n",
    "- Resolution - how the crime incident was resolved (only in train.csv)\n",
    "- Address - the approximate street address of the crime incident \n",
    "- X - Longitude\n",
    "- Y - Latitude"
   ]
  },
  {
   "cell_type": "code",
   "execution_count": 1,
   "metadata": {},
   "outputs": [],
   "source": [
    "import numpy as np\n",
    "import pandas as pd\n",
    "pd.set_option(\"display.max_columns\", None)\n",
    "import matplotlib.pyplot as plt\n",
    "%matplotlib inline\n",
    "from sklearn.preprocessing import LabelEncoder, OrdinalEncoder, OneHotEncoder\n",
    "from sklearn.compose import ColumnTransformer\n",
    "from sklearn.base import clone\n",
    "from sklearn.model_selection import StratifiedKFold, train_test_split\n",
    "from sklearn.metrics import log_loss\n",
    "from sklearn.decomposition import PCA\n",
    "from sklearn.mixture import GaussianMixture\n",
    "import catboost\n",
    "import gensim"
   ]
  },
  {
   "cell_type": "code",
   "execution_count": 2,
   "metadata": {},
   "outputs": [],
   "source": [
    "X_train = pd.read_csv(\"data/train.csv\")\n",
    "X_test = pd.read_csv(\"data/test.csv\")"
   ]
  },
  {
   "cell_type": "code",
   "execution_count": 3,
   "metadata": {},
   "outputs": [
    {
     "data": {
      "text/html": [
       "<div>\n",
       "<style scoped>\n",
       "    .dataframe tbody tr th:only-of-type {\n",
       "        vertical-align: middle;\n",
       "    }\n",
       "\n",
       "    .dataframe tbody tr th {\n",
       "        vertical-align: top;\n",
       "    }\n",
       "\n",
       "    .dataframe thead th {\n",
       "        text-align: right;\n",
       "    }\n",
       "</style>\n",
       "<table border=\"1\" class=\"dataframe\">\n",
       "  <thead>\n",
       "    <tr style=\"text-align: right;\">\n",
       "      <th></th>\n",
       "      <th>Dates</th>\n",
       "      <th>Category</th>\n",
       "      <th>Descript</th>\n",
       "      <th>DayOfWeek</th>\n",
       "      <th>PdDistrict</th>\n",
       "      <th>Resolution</th>\n",
       "      <th>Address</th>\n",
       "      <th>X</th>\n",
       "      <th>Y</th>\n",
       "    </tr>\n",
       "  </thead>\n",
       "  <tbody>\n",
       "    <tr>\n",
       "      <th>0</th>\n",
       "      <td>2015-05-13 23:53:00</td>\n",
       "      <td>WARRANTS</td>\n",
       "      <td>WARRANT ARREST</td>\n",
       "      <td>Wednesday</td>\n",
       "      <td>NORTHERN</td>\n",
       "      <td>ARREST, BOOKED</td>\n",
       "      <td>OAK ST / LAGUNA ST</td>\n",
       "      <td>-122.425892</td>\n",
       "      <td>37.774599</td>\n",
       "    </tr>\n",
       "    <tr>\n",
       "      <th>1</th>\n",
       "      <td>2015-05-13 23:53:00</td>\n",
       "      <td>OTHER OFFENSES</td>\n",
       "      <td>TRAFFIC VIOLATION ARREST</td>\n",
       "      <td>Wednesday</td>\n",
       "      <td>NORTHERN</td>\n",
       "      <td>ARREST, BOOKED</td>\n",
       "      <td>OAK ST / LAGUNA ST</td>\n",
       "      <td>-122.425892</td>\n",
       "      <td>37.774599</td>\n",
       "    </tr>\n",
       "    <tr>\n",
       "      <th>2</th>\n",
       "      <td>2015-05-13 23:33:00</td>\n",
       "      <td>OTHER OFFENSES</td>\n",
       "      <td>TRAFFIC VIOLATION ARREST</td>\n",
       "      <td>Wednesday</td>\n",
       "      <td>NORTHERN</td>\n",
       "      <td>ARREST, BOOKED</td>\n",
       "      <td>VANNESS AV / GREENWICH ST</td>\n",
       "      <td>-122.424363</td>\n",
       "      <td>37.800414</td>\n",
       "    </tr>\n",
       "    <tr>\n",
       "      <th>3</th>\n",
       "      <td>2015-05-13 23:30:00</td>\n",
       "      <td>LARCENY/THEFT</td>\n",
       "      <td>GRAND THEFT FROM LOCKED AUTO</td>\n",
       "      <td>Wednesday</td>\n",
       "      <td>NORTHERN</td>\n",
       "      <td>NONE</td>\n",
       "      <td>1500 Block of LOMBARD ST</td>\n",
       "      <td>-122.426995</td>\n",
       "      <td>37.800873</td>\n",
       "    </tr>\n",
       "    <tr>\n",
       "      <th>4</th>\n",
       "      <td>2015-05-13 23:30:00</td>\n",
       "      <td>LARCENY/THEFT</td>\n",
       "      <td>GRAND THEFT FROM LOCKED AUTO</td>\n",
       "      <td>Wednesday</td>\n",
       "      <td>PARK</td>\n",
       "      <td>NONE</td>\n",
       "      <td>100 Block of BRODERICK ST</td>\n",
       "      <td>-122.438738</td>\n",
       "      <td>37.771541</td>\n",
       "    </tr>\n",
       "  </tbody>\n",
       "</table>\n",
       "</div>"
      ],
      "text/plain": [
       "                 Dates        Category                      Descript  \\\n",
       "0  2015-05-13 23:53:00        WARRANTS                WARRANT ARREST   \n",
       "1  2015-05-13 23:53:00  OTHER OFFENSES      TRAFFIC VIOLATION ARREST   \n",
       "2  2015-05-13 23:33:00  OTHER OFFENSES      TRAFFIC VIOLATION ARREST   \n",
       "3  2015-05-13 23:30:00   LARCENY/THEFT  GRAND THEFT FROM LOCKED AUTO   \n",
       "4  2015-05-13 23:30:00   LARCENY/THEFT  GRAND THEFT FROM LOCKED AUTO   \n",
       "\n",
       "   DayOfWeek PdDistrict      Resolution                    Address  \\\n",
       "0  Wednesday   NORTHERN  ARREST, BOOKED         OAK ST / LAGUNA ST   \n",
       "1  Wednesday   NORTHERN  ARREST, BOOKED         OAK ST / LAGUNA ST   \n",
       "2  Wednesday   NORTHERN  ARREST, BOOKED  VANNESS AV / GREENWICH ST   \n",
       "3  Wednesday   NORTHERN            NONE   1500 Block of LOMBARD ST   \n",
       "4  Wednesday       PARK            NONE  100 Block of BRODERICK ST   \n",
       "\n",
       "            X          Y  \n",
       "0 -122.425892  37.774599  \n",
       "1 -122.425892  37.774599  \n",
       "2 -122.424363  37.800414  \n",
       "3 -122.426995  37.800873  \n",
       "4 -122.438738  37.771541  "
      ]
     },
     "execution_count": 3,
     "metadata": {},
     "output_type": "execute_result"
    }
   ],
   "source": [
    "X_train[:5]"
   ]
  },
  {
   "cell_type": "code",
   "execution_count": 4,
   "metadata": {},
   "outputs": [
    {
     "name": "stdout",
     "output_type": "stream",
     "text": [
      "2323\n"
     ]
    }
   ],
   "source": [
    "print(X_train.duplicated().sum())\n",
    "X_train.drop_duplicates(inplace=True)\n",
    "assert X_train.duplicated().sum() == 0"
   ]
  },
  {
   "cell_type": "code",
   "execution_count": 5,
   "metadata": {},
   "outputs": [
    {
     "data": {
      "text/html": [
       "<div>\n",
       "<style scoped>\n",
       "    .dataframe tbody tr th:only-of-type {\n",
       "        vertical-align: middle;\n",
       "    }\n",
       "\n",
       "    .dataframe tbody tr th {\n",
       "        vertical-align: top;\n",
       "    }\n",
       "\n",
       "    .dataframe thead th {\n",
       "        text-align: right;\n",
       "    }\n",
       "</style>\n",
       "<table border=\"1\" class=\"dataframe\">\n",
       "  <thead>\n",
       "    <tr style=\"text-align: right;\">\n",
       "      <th></th>\n",
       "      <th>Id</th>\n",
       "      <th>Dates</th>\n",
       "      <th>DayOfWeek</th>\n",
       "      <th>PdDistrict</th>\n",
       "      <th>Address</th>\n",
       "      <th>X</th>\n",
       "      <th>Y</th>\n",
       "    </tr>\n",
       "  </thead>\n",
       "  <tbody>\n",
       "    <tr>\n",
       "      <th>0</th>\n",
       "      <td>0</td>\n",
       "      <td>2015-05-10 23:59:00</td>\n",
       "      <td>Sunday</td>\n",
       "      <td>BAYVIEW</td>\n",
       "      <td>2000 Block of THOMAS AV</td>\n",
       "      <td>-122.399588</td>\n",
       "      <td>37.735051</td>\n",
       "    </tr>\n",
       "    <tr>\n",
       "      <th>1</th>\n",
       "      <td>1</td>\n",
       "      <td>2015-05-10 23:51:00</td>\n",
       "      <td>Sunday</td>\n",
       "      <td>BAYVIEW</td>\n",
       "      <td>3RD ST / REVERE AV</td>\n",
       "      <td>-122.391523</td>\n",
       "      <td>37.732432</td>\n",
       "    </tr>\n",
       "    <tr>\n",
       "      <th>2</th>\n",
       "      <td>2</td>\n",
       "      <td>2015-05-10 23:50:00</td>\n",
       "      <td>Sunday</td>\n",
       "      <td>NORTHERN</td>\n",
       "      <td>2000 Block of GOUGH ST</td>\n",
       "      <td>-122.426002</td>\n",
       "      <td>37.792212</td>\n",
       "    </tr>\n",
       "    <tr>\n",
       "      <th>3</th>\n",
       "      <td>3</td>\n",
       "      <td>2015-05-10 23:45:00</td>\n",
       "      <td>Sunday</td>\n",
       "      <td>INGLESIDE</td>\n",
       "      <td>4700 Block of MISSION ST</td>\n",
       "      <td>-122.437394</td>\n",
       "      <td>37.721412</td>\n",
       "    </tr>\n",
       "    <tr>\n",
       "      <th>4</th>\n",
       "      <td>4</td>\n",
       "      <td>2015-05-10 23:45:00</td>\n",
       "      <td>Sunday</td>\n",
       "      <td>INGLESIDE</td>\n",
       "      <td>4700 Block of MISSION ST</td>\n",
       "      <td>-122.437394</td>\n",
       "      <td>37.721412</td>\n",
       "    </tr>\n",
       "  </tbody>\n",
       "</table>\n",
       "</div>"
      ],
      "text/plain": [
       "   Id                Dates DayOfWeek PdDistrict                   Address  \\\n",
       "0   0  2015-05-10 23:59:00    Sunday    BAYVIEW   2000 Block of THOMAS AV   \n",
       "1   1  2015-05-10 23:51:00    Sunday    BAYVIEW        3RD ST / REVERE AV   \n",
       "2   2  2015-05-10 23:50:00    Sunday   NORTHERN    2000 Block of GOUGH ST   \n",
       "3   3  2015-05-10 23:45:00    Sunday  INGLESIDE  4700 Block of MISSION ST   \n",
       "4   4  2015-05-10 23:45:00    Sunday  INGLESIDE  4700 Block of MISSION ST   \n",
       "\n",
       "            X          Y  \n",
       "0 -122.399588  37.735051  \n",
       "1 -122.391523  37.732432  \n",
       "2 -122.426002  37.792212  \n",
       "3 -122.437394  37.721412  \n",
       "4 -122.437394  37.721412  "
      ]
     },
     "execution_count": 5,
     "metadata": {},
     "output_type": "execute_result"
    }
   ],
   "source": [
    "X_test[:5]"
   ]
  },
  {
   "cell_type": "code",
   "execution_count": 6,
   "metadata": {},
   "outputs": [],
   "source": [
    "y_train = X_train['Category']\n",
    "X_train_description = X_train['Descript']\n",
    "X_train_resolution = X_train['Resolution']\n",
    "X_train.drop([\"Category\", \"Descript\", \"Resolution\"], axis=1, inplace=True)"
   ]
  },
  {
   "cell_type": "code",
   "execution_count": 7,
   "metadata": {},
   "outputs": [],
   "source": [
    "test_ID = X_test[\"Id\"]\n",
    "X_test.drop(\"Id\", axis=1, inplace=True)"
   ]
  },
  {
   "cell_type": "code",
   "execution_count": 8,
   "metadata": {},
   "outputs": [
    {
     "data": {
      "text/html": [
       "<div>\n",
       "<style scoped>\n",
       "    .dataframe tbody tr th:only-of-type {\n",
       "        vertical-align: middle;\n",
       "    }\n",
       "\n",
       "    .dataframe tbody tr th {\n",
       "        vertical-align: top;\n",
       "    }\n",
       "\n",
       "    .dataframe thead th {\n",
       "        text-align: right;\n",
       "    }\n",
       "</style>\n",
       "<table border=\"1\" class=\"dataframe\">\n",
       "  <thead>\n",
       "    <tr style=\"text-align: right;\">\n",
       "      <th></th>\n",
       "      <th>Dates</th>\n",
       "      <th>DayOfWeek</th>\n",
       "      <th>PdDistrict</th>\n",
       "      <th>Address</th>\n",
       "      <th>X</th>\n",
       "      <th>Y</th>\n",
       "    </tr>\n",
       "  </thead>\n",
       "  <tbody>\n",
       "    <tr>\n",
       "      <th>0</th>\n",
       "      <td>2015-05-13 23:53:00</td>\n",
       "      <td>Wednesday</td>\n",
       "      <td>NORTHERN</td>\n",
       "      <td>OAK ST / LAGUNA ST</td>\n",
       "      <td>-122.425892</td>\n",
       "      <td>37.774599</td>\n",
       "    </tr>\n",
       "    <tr>\n",
       "      <th>1</th>\n",
       "      <td>2015-05-13 23:53:00</td>\n",
       "      <td>Wednesday</td>\n",
       "      <td>NORTHERN</td>\n",
       "      <td>OAK ST / LAGUNA ST</td>\n",
       "      <td>-122.425892</td>\n",
       "      <td>37.774599</td>\n",
       "    </tr>\n",
       "    <tr>\n",
       "      <th>2</th>\n",
       "      <td>2015-05-13 23:33:00</td>\n",
       "      <td>Wednesday</td>\n",
       "      <td>NORTHERN</td>\n",
       "      <td>VANNESS AV / GREENWICH ST</td>\n",
       "      <td>-122.424363</td>\n",
       "      <td>37.800414</td>\n",
       "    </tr>\n",
       "    <tr>\n",
       "      <th>3</th>\n",
       "      <td>2015-05-13 23:30:00</td>\n",
       "      <td>Wednesday</td>\n",
       "      <td>NORTHERN</td>\n",
       "      <td>1500 Block of LOMBARD ST</td>\n",
       "      <td>-122.426995</td>\n",
       "      <td>37.800873</td>\n",
       "    </tr>\n",
       "    <tr>\n",
       "      <th>4</th>\n",
       "      <td>2015-05-13 23:30:00</td>\n",
       "      <td>Wednesday</td>\n",
       "      <td>PARK</td>\n",
       "      <td>100 Block of BRODERICK ST</td>\n",
       "      <td>-122.438738</td>\n",
       "      <td>37.771541</td>\n",
       "    </tr>\n",
       "  </tbody>\n",
       "</table>\n",
       "</div>"
      ],
      "text/plain": [
       "                 Dates  DayOfWeek PdDistrict                    Address  \\\n",
       "0  2015-05-13 23:53:00  Wednesday   NORTHERN         OAK ST / LAGUNA ST   \n",
       "1  2015-05-13 23:53:00  Wednesday   NORTHERN         OAK ST / LAGUNA ST   \n",
       "2  2015-05-13 23:33:00  Wednesday   NORTHERN  VANNESS AV / GREENWICH ST   \n",
       "3  2015-05-13 23:30:00  Wednesday   NORTHERN   1500 Block of LOMBARD ST   \n",
       "4  2015-05-13 23:30:00  Wednesday       PARK  100 Block of BRODERICK ST   \n",
       "\n",
       "            X          Y  \n",
       "0 -122.425892  37.774599  \n",
       "1 -122.425892  37.774599  \n",
       "2 -122.424363  37.800414  \n",
       "3 -122.426995  37.800873  \n",
       "4 -122.438738  37.771541  "
      ]
     },
     "execution_count": 8,
     "metadata": {},
     "output_type": "execute_result"
    }
   ],
   "source": [
    "X_train[:5]"
   ]
  },
  {
   "cell_type": "code",
   "execution_count": 9,
   "metadata": {},
   "outputs": [
    {
     "data": {
      "text/html": [
       "<div>\n",
       "<style scoped>\n",
       "    .dataframe tbody tr th:only-of-type {\n",
       "        vertical-align: middle;\n",
       "    }\n",
       "\n",
       "    .dataframe tbody tr th {\n",
       "        vertical-align: top;\n",
       "    }\n",
       "\n",
       "    .dataframe thead th {\n",
       "        text-align: right;\n",
       "    }\n",
       "</style>\n",
       "<table border=\"1\" class=\"dataframe\">\n",
       "  <thead>\n",
       "    <tr style=\"text-align: right;\">\n",
       "      <th></th>\n",
       "      <th>Dates</th>\n",
       "      <th>DayOfWeek</th>\n",
       "      <th>PdDistrict</th>\n",
       "      <th>Address</th>\n",
       "      <th>X</th>\n",
       "      <th>Y</th>\n",
       "    </tr>\n",
       "  </thead>\n",
       "  <tbody>\n",
       "    <tr>\n",
       "      <th>0</th>\n",
       "      <td>2015-05-10 23:59:00</td>\n",
       "      <td>Sunday</td>\n",
       "      <td>BAYVIEW</td>\n",
       "      <td>2000 Block of THOMAS AV</td>\n",
       "      <td>-122.399588</td>\n",
       "      <td>37.735051</td>\n",
       "    </tr>\n",
       "    <tr>\n",
       "      <th>1</th>\n",
       "      <td>2015-05-10 23:51:00</td>\n",
       "      <td>Sunday</td>\n",
       "      <td>BAYVIEW</td>\n",
       "      <td>3RD ST / REVERE AV</td>\n",
       "      <td>-122.391523</td>\n",
       "      <td>37.732432</td>\n",
       "    </tr>\n",
       "    <tr>\n",
       "      <th>2</th>\n",
       "      <td>2015-05-10 23:50:00</td>\n",
       "      <td>Sunday</td>\n",
       "      <td>NORTHERN</td>\n",
       "      <td>2000 Block of GOUGH ST</td>\n",
       "      <td>-122.426002</td>\n",
       "      <td>37.792212</td>\n",
       "    </tr>\n",
       "    <tr>\n",
       "      <th>3</th>\n",
       "      <td>2015-05-10 23:45:00</td>\n",
       "      <td>Sunday</td>\n",
       "      <td>INGLESIDE</td>\n",
       "      <td>4700 Block of MISSION ST</td>\n",
       "      <td>-122.437394</td>\n",
       "      <td>37.721412</td>\n",
       "    </tr>\n",
       "    <tr>\n",
       "      <th>4</th>\n",
       "      <td>2015-05-10 23:45:00</td>\n",
       "      <td>Sunday</td>\n",
       "      <td>INGLESIDE</td>\n",
       "      <td>4700 Block of MISSION ST</td>\n",
       "      <td>-122.437394</td>\n",
       "      <td>37.721412</td>\n",
       "    </tr>\n",
       "  </tbody>\n",
       "</table>\n",
       "</div>"
      ],
      "text/plain": [
       "                 Dates DayOfWeek PdDistrict                   Address  \\\n",
       "0  2015-05-10 23:59:00    Sunday    BAYVIEW   2000 Block of THOMAS AV   \n",
       "1  2015-05-10 23:51:00    Sunday    BAYVIEW        3RD ST / REVERE AV   \n",
       "2  2015-05-10 23:50:00    Sunday   NORTHERN    2000 Block of GOUGH ST   \n",
       "3  2015-05-10 23:45:00    Sunday  INGLESIDE  4700 Block of MISSION ST   \n",
       "4  2015-05-10 23:45:00    Sunday  INGLESIDE  4700 Block of MISSION ST   \n",
       "\n",
       "            X          Y  \n",
       "0 -122.399588  37.735051  \n",
       "1 -122.391523  37.732432  \n",
       "2 -122.426002  37.792212  \n",
       "3 -122.437394  37.721412  \n",
       "4 -122.437394  37.721412  "
      ]
     },
     "execution_count": 9,
     "metadata": {},
     "output_type": "execute_result"
    }
   ],
   "source": [
    "X_test[:5]"
   ]
  },
  {
   "cell_type": "code",
   "execution_count": 10,
   "metadata": {},
   "outputs": [
    {
     "data": {
      "text/plain": [
       "(875726, 6)"
      ]
     },
     "execution_count": 10,
     "metadata": {},
     "output_type": "execute_result"
    }
   ],
   "source": [
    "X_train.shape"
   ]
  },
  {
   "cell_type": "code",
   "execution_count": 11,
   "metadata": {},
   "outputs": [
    {
     "data": {
      "text/plain": [
       "(884262, 6)"
      ]
     },
     "execution_count": 11,
     "metadata": {},
     "output_type": "execute_result"
    }
   ],
   "source": [
    "X_test.shape"
   ]
  },
  {
   "cell_type": "code",
   "execution_count": 12,
   "metadata": {},
   "outputs": [
    {
     "data": {
      "text/plain": [
       "LARCENY/THEFT                  174320\n",
       "OTHER OFFENSES                 125960\n",
       "NON-CRIMINAL                    91915\n",
       "ASSAULT                         76815\n",
       "DRUG/NARCOTIC                   53919\n",
       "VEHICLE THEFT                   53706\n",
       "VANDALISM                       44581\n",
       "WARRANTS                        42145\n",
       "BURGLARY                        36600\n",
       "SUSPICIOUS OCC                  31394\n",
       "MISSING PERSON                  25669\n",
       "ROBBERY                         22988\n",
       "FRAUD                           16637\n",
       "FORGERY/COUNTERFEITING          10592\n",
       "SECONDARY CODES                  9979\n",
       "WEAPON LAWS                      8550\n",
       "PROSTITUTION                     7446\n",
       "TRESPASS                         7318\n",
       "STOLEN PROPERTY                  4537\n",
       "SEX OFFENSES FORCIBLE            4380\n",
       "DISORDERLY CONDUCT               4313\n",
       "DRUNKENNESS                      4277\n",
       "RECOVERED VEHICLE                3132\n",
       "KIDNAPPING                       2340\n",
       "DRIVING UNDER THE INFLUENCE      2268\n",
       "LIQUOR LAWS                      1899\n",
       "RUNAWAY                          1894\n",
       "ARSON                            1512\n",
       "LOITERING                        1207\n",
       "EMBEZZLEMENT                     1164\n",
       "SUICIDE                           508\n",
       "FAMILY OFFENSES                   488\n",
       "BAD CHECKS                        406\n",
       "BRIBERY                           289\n",
       "EXTORTION                         256\n",
       "SEX OFFENSES NON FORCIBLE         148\n",
       "GAMBLING                          146\n",
       "PORNOGRAPHY/OBSCENE MAT            22\n",
       "TREA                                6\n",
       "Name: Category, dtype: int64"
      ]
     },
     "execution_count": 12,
     "metadata": {},
     "output_type": "execute_result"
    }
   ],
   "source": [
    "y_train.value_counts()"
   ]
  },
  {
   "cell_type": "code",
   "execution_count": 13,
   "metadata": {},
   "outputs": [
    {
     "name": "stdout",
     "output_type": "stream",
     "text": [
      "['ARSON' 'ASSAULT' 'BAD CHECKS' 'BRIBERY' 'BURGLARY' 'DISORDERLY CONDUCT'\n",
      " 'DRIVING UNDER THE INFLUENCE' 'DRUG/NARCOTIC' 'DRUNKENNESS'\n",
      " 'EMBEZZLEMENT' 'EXTORTION' 'FAMILY OFFENSES' 'FORGERY/COUNTERFEITING'\n",
      " 'FRAUD' 'GAMBLING' 'KIDNAPPING' 'LARCENY/THEFT' 'LIQUOR LAWS' 'LOITERING'\n",
      " 'MISSING PERSON' 'NON-CRIMINAL' 'OTHER OFFENSES'\n",
      " 'PORNOGRAPHY/OBSCENE MAT' 'PROSTITUTION' 'RECOVERED VEHICLE' 'ROBBERY'\n",
      " 'RUNAWAY' 'SECONDARY CODES' 'SEX OFFENSES FORCIBLE'\n",
      " 'SEX OFFENSES NON FORCIBLE' 'STOLEN PROPERTY' 'SUICIDE' 'SUSPICIOUS OCC'\n",
      " 'TREA' 'TRESPASS' 'VANDALISM' 'VEHICLE THEFT' 'WARRANTS' 'WEAPON LAWS']\n"
     ]
    }
   ],
   "source": [
    "le = LabelEncoder()\n",
    "y_train = le.fit_transform(y_train)\n",
    "print(le.classes_)"
   ]
  },
  {
   "cell_type": "code",
   "execution_count": 14,
   "metadata": {},
   "outputs": [],
   "source": [
    "num_train = X_train.shape[0]\n",
    "all_data = pd.concat((X_train, X_test), ignore_index=True)"
   ]
  },
  {
   "cell_type": "code",
   "execution_count": 15,
   "metadata": {},
   "outputs": [],
   "source": [
    "date = pd.to_datetime(all_data['Dates'])\n",
    "all_data['year'] = date.dt.year\n",
    "all_data['month'] = date.dt.month\n",
    "all_data['day'] = date.dt.day\n",
    "all_data['hour'] = date.dt.hour\n",
    "all_data['minute'] = date.dt.minute\n",
    "all_data['special_time'] = all_data['minute'].isin([0, 30]).astype(int)\n",
    "# all_data['second'] = date.dt.second  # all zero\n",
    "all_data[\"n_days\"] = (date - date.min()).apply(lambda x: x.days)\n",
    "all_data.drop(\"Dates\", axis=1, inplace=True)"
   ]
  },
  {
   "cell_type": "code",
   "execution_count": 16,
   "metadata": {},
   "outputs": [
    {
     "data": {
      "text/plain": [
       "Friday       268074\n",
       "Wednesday    259228\n",
       "Saturday     253507\n",
       "Tuesday      251543\n",
       "Thursday     251298\n",
       "Monday       243529\n",
       "Sunday       232809\n",
       "Name: DayOfWeek, dtype: int64"
      ]
     },
     "execution_count": 16,
     "metadata": {},
     "output_type": "execute_result"
    }
   ],
   "source": [
    "all_data[\"DayOfWeek\"].value_counts()"
   ]
  },
  {
   "cell_type": "code",
   "execution_count": 17,
   "metadata": {},
   "outputs": [
    {
     "data": {
      "text/plain": [
       "SOUTHERN      313984\n",
       "MISSION       240172\n",
       "NORTHERN      212122\n",
       "BAYVIEW       178689\n",
       "CENTRAL       171397\n",
       "TENDERLOIN    163389\n",
       "INGLESIDE     158806\n",
       "TARAVAL       132017\n",
       "PARK           99360\n",
       "RICHMOND       90052\n",
       "Name: PdDistrict, dtype: int64"
      ]
     },
     "execution_count": 17,
     "metadata": {},
     "output_type": "execute_result"
    }
   ],
   "source": [
    "all_data[\"PdDistrict\"].value_counts()"
   ]
  },
  {
   "cell_type": "code",
   "execution_count": 18,
   "metadata": {},
   "outputs": [],
   "source": [
    "sentences = []\n",
    "for s in all_data[\"Address\"]:\n",
    "    sentences.append(s.split(\" \"))\n",
    "address_model = gensim.models.Word2Vec(sentences, min_count=1)\n",
    "encoded_address = np.zeros((all_data.shape[0], 100))\n",
    "for i in range(len(sentences)):\n",
    "    for j in range(len(sentences[i])):\n",
    "        encoded_address[i] += address_model.wv[sentences[i][j]]\n",
    "    encoded_address[j] /= len(sentences[i])"
   ]
  },
  {
   "cell_type": "code",
   "execution_count": 19,
   "metadata": {},
   "outputs": [],
   "source": [
    "all_data['block'] = all_data[\"Address\"].str.contains(\"block\", case=False)\n",
    "all_data.drop(\"Address\", axis=1, inplace=True)"
   ]
  },
  {
   "cell_type": "code",
   "execution_count": 20,
   "metadata": {},
   "outputs": [
    {
     "name": "stdout",
     "output_type": "stream",
     "text": [
      "-122.51364206429 -120.5\n",
      "37.7078790224135 90.0\n"
     ]
    }
   ],
   "source": [
    "print(all_data[\"X\"].min(), all_data[\"X\"].max())\n",
    "print(all_data[\"Y\"].min(), all_data[\"Y\"].max())"
   ]
  },
  {
   "cell_type": "code",
   "execution_count": 21,
   "metadata": {},
   "outputs": [],
   "source": [
    "X_median = all_data[all_data[\"X\"] < -120.5][\"X\"].median()\n",
    "Y_median = all_data[all_data[\"Y\"] < 90][\"Y\"].median()\n",
    "all_data.loc[all_data[\"X\"] >= -120.5, \"X\"] = X_median\n",
    "all_data.loc[all_data[\"Y\"] >= 90, \"Y\"] = Y_median"
   ]
  },
  {
   "cell_type": "code",
   "execution_count": 22,
   "metadata": {},
   "outputs": [
    {
     "name": "stdout",
     "output_type": "stream",
     "text": [
      "-122.51364206429 -122.364750704393\n",
      "37.7078790224135 37.82062083807021\n"
     ]
    }
   ],
   "source": [
    "print(all_data[\"X\"].min(), all_data[\"X\"].max())\n",
    "print(all_data[\"Y\"].min(), all_data[\"Y\"].max())"
   ]
  },
  {
   "cell_type": "code",
   "execution_count": 23,
   "metadata": {},
   "outputs": [],
   "source": [
    "all_data[\"X+Y\"] = all_data[\"X\"] + all_data[\"Y\"]\n",
    "all_data[\"X-Y\"] = all_data[\"X\"] - all_data[\"Y\"]\n",
    "all_data[\"XY30_1\"] = all_data[\"X\"] * np.cos(np.pi / 6) + all_data[\"Y\"] * np.sin(np.pi / 6)\n",
    "all_data[\"XY30_2\"] = all_data[\"Y\"] * np.cos(np.pi / 6) - all_data[\"X\"] * np.sin(np.pi / 6)\n",
    "all_data[\"XY60_1\"] = all_data[\"X\"] * np.cos(np.pi / 3) + all_data[\"Y\"] * np.sin(np.pi / 3)\n",
    "all_data[\"XY60_2\"] = all_data[\"Y\"] * np.cos(np.pi / 3) - all_data[\"X\"] * np.sin(np.pi / 3)\n",
    "all_data[\"XY1\"] = (all_data[\"X\"] - all_data[\"X\"].min()) ** 2 + (all_data[\"Y\"] - all_data[\"Y\"].min()) ** 2\n",
    "all_data[\"XY2\"] = (all_data[\"X\"].max() - all_data[\"X\"]) ** 2 + (all_data[\"Y\"] - all_data[\"Y\"].min()) ** 2\n",
    "all_data[\"XY3\"] = (all_data[\"X\"] - all_data[\"X\"].min()) ** 2 + (all_data[\"Y\"].max() - all_data[\"Y\"]) ** 2\n",
    "all_data[\"XY4\"] = (all_data[\"X\"].max() - all_data[\"X\"]) ** 2 + (all_data[\"Y\"].max() - all_data[\"Y\"]) ** 2\n",
    "all_data[\"XY5\"] = (all_data[\"X\"] - X_median) ** 2 + (all_data[\"Y\"] - Y_median) ** 2\n",
    "pca = PCA(n_components=2).fit(all_data[[\"X\", \"Y\"]])\n",
    "XYt = pca.transform(all_data[[\"X\", \"Y\"]])\n",
    "all_data[\"XYpca1\"] = XYt[:, 0]\n",
    "all_data[\"XYpca2\"] = XYt[:, 1]\n",
    "# n_components selected by aic/bic\n",
    "clf = GaussianMixture(n_components=150, covariance_type=\"diag\",\n",
    "                      random_state=0).fit(all_data[[\"X\", \"Y\"]])\n",
    "all_data[\"XYcluster\"] = clf.predict(all_data[[\"X\", \"Y\"]])"
   ]
  },
  {
   "cell_type": "code",
   "execution_count": 24,
   "metadata": {},
   "outputs": [],
   "source": [
    "categorical_features = [\"DayOfWeek\", \"PdDistrict\", \"block\", \"special_time\", \"XYcluster\"]\n",
    "ct = ColumnTransformer(transformers=[(\"categorical_features\", OrdinalEncoder(), categorical_features)],\n",
    "                       remainder=\"passthrough\")\n",
    "all_data = ct.fit_transform(all_data)"
   ]
  },
  {
   "cell_type": "code",
   "execution_count": 25,
   "metadata": {},
   "outputs": [],
   "source": [
    "all_data = np.hstack((all_data, encoded_address))"
   ]
  },
  {
   "cell_type": "code",
   "execution_count": 26,
   "metadata": {},
   "outputs": [],
   "source": [
    "X_train = all_data[:num_train]\n",
    "X_test = all_data[num_train:]"
   ]
  },
  {
   "cell_type": "code",
   "execution_count": 27,
   "metadata": {},
   "outputs": [],
   "source": [
    "def cross_val_score_prod(clf, X, y):\n",
    "    scores = []\n",
    "    cv = StratifiedKFold(n_splits=3, shuffle=True, random_state=0)\n",
    "    for train_index, test_index in cv.split(X, y):\n",
    "        est = clone(clf)\n",
    "        est.fit(X[train_index], y[train_index])\n",
    "        prob = est.predict_proba(X[test_index])\n",
    "        scores.append(log_loss(y[test_index], prob))\n",
    "    return scores"
   ]
  },
  {
   "cell_type": "code",
   "execution_count": 28,
   "metadata": {
    "scrolled": false
   },
   "outputs": [
    {
     "name": "stdout",
     "output_type": "stream",
     "text": [
      "0:\tlearn: 3.4591855\ttest: 3.4581954\tbest: 3.4581954 (0)\ttotal: 305ms\tremaining: 25m 24s\n",
      "50:\tlearn: 2.4115088\ttest: 2.4123301\tbest: 2.4123301 (50)\ttotal: 13.9s\tremaining: 22m 30s\n",
      "100:\tlearn: 2.3443610\ttest: 2.3479929\tbest: 2.3479929 (100)\ttotal: 27s\tremaining: 21m 49s\n",
      "150:\tlearn: 2.3172307\ttest: 2.3240027\tbest: 2.3240027 (150)\ttotal: 40s\tremaining: 21m 23s\n",
      "200:\tlearn: 2.2987508\ttest: 2.3090604\tbest: 2.3090604 (200)\ttotal: 53.5s\tremaining: 21m 17s\n",
      "250:\tlearn: 2.2838801\ttest: 2.2976955\tbest: 2.2976955 (250)\ttotal: 1m 7s\tremaining: 21m 11s\n",
      "300:\tlearn: 2.2712466\ttest: 2.2882375\tbest: 2.2882375 (300)\ttotal: 1m 20s\tremaining: 21m 2s\n",
      "350:\tlearn: 2.2604814\ttest: 2.2808161\tbest: 2.2808161 (350)\ttotal: 1m 34s\tremaining: 20m 51s\n",
      "400:\tlearn: 2.2510209\ttest: 2.2747082\tbest: 2.2747082 (400)\ttotal: 1m 48s\tremaining: 20m 41s\n",
      "450:\tlearn: 2.2422915\ttest: 2.2692978\tbest: 2.2692978 (450)\ttotal: 2m 1s\tremaining: 20m 29s\n",
      "500:\tlearn: 2.2340224\ttest: 2.2642526\tbest: 2.2642526 (500)\ttotal: 2m 15s\tremaining: 20m 19s\n",
      "550:\tlearn: 2.2264506\ttest: 2.2598915\tbest: 2.2598915 (550)\ttotal: 2m 29s\tremaining: 20m 7s\n",
      "600:\tlearn: 2.2193313\ttest: 2.2561034\tbest: 2.2561034 (600)\ttotal: 2m 43s\tremaining: 19m 56s\n",
      "650:\tlearn: 2.2128767\ttest: 2.2528897\tbest: 2.2528897 (650)\ttotal: 2m 57s\tremaining: 19m 45s\n",
      "700:\tlearn: 2.2068240\ttest: 2.2498316\tbest: 2.2498316 (700)\ttotal: 3m 11s\tremaining: 19m 32s\n",
      "750:\tlearn: 2.2010059\ttest: 2.2470881\tbest: 2.2470881 (750)\ttotal: 3m 24s\tremaining: 19m 19s\n",
      "800:\tlearn: 2.1955463\ttest: 2.2446858\tbest: 2.2446858 (800)\ttotal: 3m 38s\tremaining: 19m 7s\n",
      "850:\tlearn: 2.1904391\ttest: 2.2425188\tbest: 2.2425188 (850)\ttotal: 3m 52s\tremaining: 18m 52s\n",
      "900:\tlearn: 2.1854874\ttest: 2.2405696\tbest: 2.2405696 (900)\ttotal: 4m 6s\tremaining: 18m 39s\n",
      "950:\tlearn: 2.1806676\ttest: 2.2387749\tbest: 2.2387749 (950)\ttotal: 4m 19s\tremaining: 18m 26s\n",
      "1000:\tlearn: 2.1762156\ttest: 2.2371915\tbest: 2.2371915 (1000)\ttotal: 4m 33s\tremaining: 18m 12s\n",
      "1050:\tlearn: 2.1718212\ttest: 2.2356487\tbest: 2.2356487 (1050)\ttotal: 4m 47s\tremaining: 17m 58s\n",
      "1100:\tlearn: 2.1675537\ttest: 2.2342144\tbest: 2.2342144 (1100)\ttotal: 5m 15s\tremaining: 18m 37s\n",
      "1150:\tlearn: 2.1635106\ttest: 2.2329096\tbest: 2.2329096 (1150)\ttotal: 5m 28s\tremaining: 18m 19s\n",
      "1200:\tlearn: 2.1594781\ttest: 2.2316830\tbest: 2.2316830 (1200)\ttotal: 5m 42s\tremaining: 18m 3s\n",
      "1250:\tlearn: 2.1558912\ttest: 2.2306260\tbest: 2.2306260 (1250)\ttotal: 5m 56s\tremaining: 17m 47s\n",
      "1300:\tlearn: 2.1519544\ttest: 2.2294353\tbest: 2.2294353 (1300)\ttotal: 6m 9s\tremaining: 17m 31s\n",
      "1350:\tlearn: 2.1483045\ttest: 2.2284148\tbest: 2.2284148 (1350)\ttotal: 6m 23s\tremaining: 17m 15s\n",
      "1400:\tlearn: 2.1448662\ttest: 2.2275113\tbest: 2.2275113 (1400)\ttotal: 6m 36s\tremaining: 16m 59s\n",
      "1450:\tlearn: 2.1414656\ttest: 2.2265337\tbest: 2.2265337 (1450)\ttotal: 6m 50s\tremaining: 16m 43s\n",
      "1500:\tlearn: 2.1380517\ttest: 2.2255648\tbest: 2.2255648 (1500)\ttotal: 7m 3s\tremaining: 16m 28s\n",
      "1550:\tlearn: 2.1345182\ttest: 2.2246771\tbest: 2.2246771 (1550)\ttotal: 7m 17s\tremaining: 16m 13s\n",
      "1600:\tlearn: 2.1311669\ttest: 2.2238632\tbest: 2.2238632 (1600)\ttotal: 7m 31s\tremaining: 15m 57s\n",
      "1650:\tlearn: 2.1280046\ttest: 2.2231797\tbest: 2.2231797 (1650)\ttotal: 7m 44s\tremaining: 15m 42s\n",
      "1700:\tlearn: 2.1248024\ttest: 2.2224292\tbest: 2.2224292 (1700)\ttotal: 7m 58s\tremaining: 15m 27s\n",
      "1750:\tlearn: 2.1217265\ttest: 2.2217743\tbest: 2.2217743 (1750)\ttotal: 8m 11s\tremaining: 15m 12s\n",
      "1800:\tlearn: 2.1186782\ttest: 2.2211758\tbest: 2.2211758 (1800)\ttotal: 8m 25s\tremaining: 14m 57s\n",
      "1850:\tlearn: 2.1153368\ttest: 2.2204290\tbest: 2.2204290 (1850)\ttotal: 8m 38s\tremaining: 14m 42s\n",
      "1900:\tlearn: 2.1123838\ttest: 2.2198618\tbest: 2.2198618 (1900)\ttotal: 8m 52s\tremaining: 14m 27s\n",
      "1950:\tlearn: 2.1092165\ttest: 2.2192404\tbest: 2.2192404 (1950)\ttotal: 9m 6s\tremaining: 14m 13s\n",
      "2000:\tlearn: 2.1060879\ttest: 2.2186755\tbest: 2.2186755 (2000)\ttotal: 9m 19s\tremaining: 13m 58s\n",
      "2050:\tlearn: 2.1031585\ttest: 2.2181945\tbest: 2.2181945 (2050)\ttotal: 9m 33s\tremaining: 13m 44s\n",
      "2100:\tlearn: 2.1001893\ttest: 2.2176536\tbest: 2.2176536 (2100)\ttotal: 9m 46s\tremaining: 13m 29s\n",
      "2150:\tlearn: 2.0974447\ttest: 2.2171847\tbest: 2.2171847 (2150)\ttotal: 10m\tremaining: 13m 15s\n",
      "2200:\tlearn: 2.0945140\ttest: 2.2166881\tbest: 2.2166881 (2200)\ttotal: 10m 13s\tremaining: 13m\n",
      "2250:\tlearn: 2.0915184\ttest: 2.2162561\tbest: 2.2162561 (2250)\ttotal: 10m 27s\tremaining: 12m 46s\n",
      "2300:\tlearn: 2.0885862\ttest: 2.2158691\tbest: 2.2158691 (2300)\ttotal: 10m 40s\tremaining: 12m 31s\n",
      "2350:\tlearn: 2.0858995\ttest: 2.2155000\tbest: 2.2155000 (2350)\ttotal: 10m 54s\tremaining: 12m 17s\n",
      "2400:\tlearn: 2.0831256\ttest: 2.2150721\tbest: 2.2150721 (2400)\ttotal: 11m 7s\tremaining: 12m 3s\n",
      "2450:\tlearn: 2.0801791\ttest: 2.2147066\tbest: 2.2147066 (2450)\ttotal: 11m 21s\tremaining: 11m 48s\n",
      "2500:\tlearn: 2.0773797\ttest: 2.2142851\tbest: 2.2142851 (2500)\ttotal: 11m 34s\tremaining: 11m 34s\n",
      "2550:\tlearn: 2.0748479\ttest: 2.2140232\tbest: 2.2140221 (2549)\ttotal: 11m 47s\tremaining: 11m 19s\n",
      "2600:\tlearn: 2.0722536\ttest: 2.2137146\tbest: 2.2137146 (2600)\ttotal: 12m 1s\tremaining: 11m 5s\n",
      "2650:\tlearn: 2.0696425\ttest: 2.2133843\tbest: 2.2133843 (2650)\ttotal: 12m 15s\tremaining: 10m 51s\n",
      "2700:\tlearn: 2.0670007\ttest: 2.2131095\tbest: 2.2131095 (2700)\ttotal: 12m 28s\tremaining: 10m 36s\n",
      "2750:\tlearn: 2.0641965\ttest: 2.2127127\tbest: 2.2127127 (2750)\ttotal: 12m 41s\tremaining: 10m 22s\n",
      "2800:\tlearn: 2.0616209\ttest: 2.2124351\tbest: 2.2124351 (2800)\ttotal: 12m 55s\tremaining: 10m 8s\n",
      "2850:\tlearn: 2.0590646\ttest: 2.2121372\tbest: 2.2121369 (2849)\ttotal: 13m 8s\tremaining: 9m 54s\n",
      "2900:\tlearn: 2.0565522\ttest: 2.2119123\tbest: 2.2119123 (2900)\ttotal: 13m 22s\tremaining: 9m 40s\n",
      "2950:\tlearn: 2.0538984\ttest: 2.2116775\tbest: 2.2116775 (2950)\ttotal: 13m 35s\tremaining: 9m 26s\n",
      "3000:\tlearn: 2.0514377\ttest: 2.2114584\tbest: 2.2114561 (2999)\ttotal: 13m 49s\tremaining: 9m 12s\n",
      "3050:\tlearn: 2.0488193\ttest: 2.2112465\tbest: 2.2112434 (3049)\ttotal: 14m 2s\tremaining: 8m 58s\n",
      "3100:\tlearn: 2.0462219\ttest: 2.2109502\tbest: 2.2109502 (3100)\ttotal: 14m 16s\tremaining: 8m 44s\n",
      "3150:\tlearn: 2.0435837\ttest: 2.2106926\tbest: 2.2106926 (3150)\ttotal: 14m 29s\tremaining: 8m 30s\n",
      "3200:\tlearn: 2.0410098\ttest: 2.2104773\tbest: 2.2104769 (3199)\ttotal: 14m 43s\tremaining: 8m 16s\n",
      "3250:\tlearn: 2.0384845\ttest: 2.2102448\tbest: 2.2102448 (3250)\ttotal: 14m 56s\tremaining: 8m 2s\n",
      "3300:\tlearn: 2.0358876\ttest: 2.2099125\tbest: 2.2099125 (3300)\ttotal: 15m 10s\tremaining: 7m 48s\n",
      "3350:\tlearn: 2.0333324\ttest: 2.2096998\tbest: 2.2096987 (3349)\ttotal: 15m 23s\tremaining: 7m 34s\n",
      "3400:\tlearn: 2.0309606\ttest: 2.2095250\tbest: 2.2095194 (3398)\ttotal: 15m 37s\tremaining: 7m 20s\n",
      "3450:\tlearn: 2.0285565\ttest: 2.2093385\tbest: 2.2093385 (3450)\ttotal: 15m 50s\tremaining: 7m 6s\n",
      "3500:\tlearn: 2.0262034\ttest: 2.2091867\tbest: 2.2091867 (3500)\ttotal: 16m 3s\tremaining: 6m 52s\n",
      "3550:\tlearn: 2.0238741\ttest: 2.2090665\tbest: 2.2090665 (3550)\ttotal: 16m 17s\tremaining: 6m 38s\n",
      "3600:\tlearn: 2.0214786\ttest: 2.2089122\tbest: 2.2089068 (3592)\ttotal: 16m 30s\tremaining: 6m 24s\n",
      "3650:\tlearn: 2.0190126\ttest: 2.2087325\tbest: 2.2087325 (3650)\ttotal: 16m 44s\tremaining: 6m 11s\n",
      "3700:\tlearn: 2.0166677\ttest: 2.2085782\tbest: 2.2085782 (3700)\ttotal: 16m 57s\tremaining: 5m 57s\n",
      "3750:\tlearn: 2.0143723\ttest: 2.2084680\tbest: 2.2084677 (3749)\ttotal: 17m 11s\tremaining: 5m 43s\n",
      "3800:\tlearn: 2.0119147\ttest: 2.2083704\tbest: 2.2083678 (3788)\ttotal: 17m 24s\tremaining: 5m 29s\n",
      "3850:\tlearn: 2.0094238\ttest: 2.2082593\tbest: 2.2082520 (3849)\ttotal: 17m 38s\tremaining: 5m 15s\n",
      "3900:\tlearn: 2.0072030\ttest: 2.2081774\tbest: 2.2081774 (3900)\ttotal: 17m 51s\tremaining: 5m 1s\n",
      "3950:\tlearn: 2.0048931\ttest: 2.2080682\tbest: 2.2080610 (3947)\ttotal: 18m 5s\tremaining: 4m 48s\n",
      "4000:\tlearn: 2.0024905\ttest: 2.2079256\tbest: 2.2079150 (3992)\ttotal: 18m 18s\tremaining: 4m 34s\n",
      "4050:\tlearn: 2.0001561\ttest: 2.2077646\tbest: 2.2077646 (4050)\ttotal: 18m 32s\tremaining: 4m 20s\n",
      "4100:\tlearn: 1.9977908\ttest: 2.2076542\tbest: 2.2076542 (4100)\ttotal: 18m 45s\tremaining: 4m 6s\n",
      "4150:\tlearn: 1.9954778\ttest: 2.2075328\tbest: 2.2075328 (4150)\ttotal: 18m 59s\tremaining: 3m 52s\n",
      "4200:\tlearn: 1.9931984\ttest: 2.2074705\tbest: 2.2074600 (4193)\ttotal: 19m 12s\tremaining: 3m 39s\n",
      "4250:\tlearn: 1.9907838\ttest: 2.2073676\tbest: 2.2073676 (4250)\ttotal: 19m 26s\tremaining: 3m 25s\n",
      "4300:\tlearn: 1.9884252\ttest: 2.2072484\tbest: 2.2072474 (4294)\ttotal: 19m 39s\tremaining: 3m 11s\n"
     ]
    },
    {
     "name": "stdout",
     "output_type": "stream",
     "text": [
      "4350:\tlearn: 1.9862048\ttest: 2.2071882\tbest: 2.2071882 (4349)\ttotal: 19m 53s\tremaining: 2m 57s\n",
      "4400:\tlearn: 1.9840306\ttest: 2.2071545\tbest: 2.2071519 (4398)\ttotal: 20m 6s\tremaining: 2m 44s\n",
      "4450:\tlearn: 1.9817428\ttest: 2.2070754\tbest: 2.2070754 (4450)\ttotal: 20m 19s\tremaining: 2m 30s\n",
      "4500:\tlearn: 1.9794570\ttest: 2.2070175\tbest: 2.2070175 (4500)\ttotal: 20m 33s\tremaining: 2m 16s\n",
      "4550:\tlearn: 1.9771930\ttest: 2.2069845\tbest: 2.2069794 (4536)\ttotal: 20m 47s\tremaining: 2m 3s\n",
      "4600:\tlearn: 1.9749528\ttest: 2.2068902\tbest: 2.2068793 (4597)\ttotal: 21m\tremaining: 1m 49s\n",
      "4650:\tlearn: 1.9726537\ttest: 2.2068676\tbest: 2.2068625 (4647)\ttotal: 21m 14s\tremaining: 1m 35s\n",
      "4700:\tlearn: 1.9705012\ttest: 2.2067704\tbest: 2.2067704 (4700)\ttotal: 21m 27s\tremaining: 1m 21s\n",
      "4750:\tlearn: 1.9682775\ttest: 2.2067030\tbest: 2.2067030 (4750)\ttotal: 21m 41s\tremaining: 1m 8s\n",
      "4800:\tlearn: 1.9660337\ttest: 2.2066441\tbest: 2.2066441 (4800)\ttotal: 21m 54s\tremaining: 54.5s\n",
      "4850:\tlearn: 1.9637725\ttest: 2.2065955\tbest: 2.2065955 (4850)\ttotal: 22m 8s\tremaining: 40.8s\n",
      "4900:\tlearn: 1.9614824\ttest: 2.2065644\tbest: 2.2065616 (4899)\ttotal: 22m 21s\tremaining: 27.1s\n",
      "4950:\tlearn: 1.9594190\ttest: 2.2065113\tbest: 2.2065059 (4949)\ttotal: 22m 35s\tremaining: 13.4s\n",
      "4999:\tlearn: 1.9573689\ttest: 2.2064659\tbest: 2.2064639 (4992)\ttotal: 22m 48s\tremaining: 0us\n",
      "bestTest = 2.206463936\n",
      "bestIteration = 4992\n",
      "Shrink model to first 4993 iterations.\n"
     ]
    },
    {
     "data": {
      "text/plain": [
       "<catboost.core.CatBoostClassifier at 0x7fc925bb3208>"
      ]
     },
     "execution_count": 28,
     "metadata": {},
     "output_type": "execute_result"
    }
   ],
   "source": [
    "X_train_1, X_train_2, y_train_1, y_train_2 = train_test_split(X_train, y_train, random_state=0, stratify=y_train)\n",
    "clf = catboost.CatBoostClassifier(n_estimators=5000, learning_rate=0.05,\n",
    "                                  cat_features=np.arange(len(categorical_features)),\n",
    "                                  random_seed=0, task_type=\"GPU\", devices=\"0\", verbose=50)\n",
    "clf.fit(X_train_1, y_train_1, eval_set=(X_train_2, y_train_2))"
   ]
  },
  {
   "cell_type": "code",
   "execution_count": 29,
   "metadata": {},
   "outputs": [],
   "source": [
    "clf = catboost.CatBoostClassifier(n_estimators=5000, learning_rate=0.05,\n",
    "                                  cat_features=np.arange(len(categorical_features)),\n",
    "                                  random_seed=0, task_type=\"GPU\", devices=\"0\", verbose=50)"
   ]
  },
  {
   "cell_type": "code",
   "execution_count": 30,
   "metadata": {},
   "outputs": [],
   "source": [
    "# scores = cross_val_score_prod(clf, X_train, y_train)\n",
    "# print(np.mean(scores), np.std(scores))"
   ]
  },
  {
   "cell_type": "code",
   "execution_count": 31,
   "metadata": {},
   "outputs": [
    {
     "name": "stdout",
     "output_type": "stream",
     "text": [
      "0:\tlearn: 3.4586714\ttotal: 393ms\tremaining: 32m 43s\n",
      "50:\tlearn: 2.4113510\ttotal: 18.3s\tremaining: 29m 33s\n",
      "100:\tlearn: 2.3439746\ttotal: 36.1s\tremaining: 29m 9s\n",
      "150:\tlearn: 2.3178548\ttotal: 53.8s\tremaining: 28m 49s\n",
      "200:\tlearn: 2.2994341\ttotal: 1m 11s\tremaining: 28m 24s\n",
      "250:\tlearn: 2.2857706\ttotal: 1m 28s\tremaining: 27m 58s\n",
      "300:\tlearn: 2.2737738\ttotal: 1m 46s\tremaining: 27m 40s\n",
      "350:\tlearn: 2.2633217\ttotal: 2m 3s\tremaining: 27m 22s\n",
      "400:\tlearn: 2.2543457\ttotal: 2m 21s\tremaining: 27m 2s\n",
      "450:\tlearn: 2.2461650\ttotal: 2m 38s\tremaining: 26m 43s\n",
      "500:\tlearn: 2.2388652\ttotal: 2m 56s\tremaining: 26m 23s\n",
      "550:\tlearn: 2.2318572\ttotal: 3m 13s\tremaining: 26m 5s\n",
      "600:\tlearn: 2.2256222\ttotal: 3m 31s\tremaining: 25m 47s\n",
      "650:\tlearn: 2.2198316\ttotal: 3m 48s\tremaining: 25m 28s\n",
      "700:\tlearn: 2.2141869\ttotal: 4m 6s\tremaining: 25m 10s\n",
      "750:\tlearn: 2.2087120\ttotal: 4m 24s\tremaining: 24m 54s\n",
      "800:\tlearn: 2.2036333\ttotal: 4m 41s\tremaining: 24m 37s\n",
      "850:\tlearn: 2.1992010\ttotal: 4m 59s\tremaining: 24m 18s\n",
      "900:\tlearn: 2.1947394\ttotal: 5m 16s\tremaining: 24m\n",
      "950:\tlearn: 2.1903656\ttotal: 5m 34s\tremaining: 23m 43s\n",
      "1000:\tlearn: 2.1862386\ttotal: 5m 52s\tremaining: 23m 26s\n",
      "1050:\tlearn: 2.1822695\ttotal: 6m 9s\tremaining: 23m 8s\n",
      "1100:\tlearn: 2.1783657\ttotal: 6m 27s\tremaining: 22m 51s\n",
      "1150:\tlearn: 2.1745198\ttotal: 6m 44s\tremaining: 22m 33s\n",
      "1200:\tlearn: 2.1709053\ttotal: 7m 2s\tremaining: 22m 16s\n",
      "1250:\tlearn: 2.1674556\ttotal: 7m 19s\tremaining: 21m 58s\n",
      "1300:\tlearn: 2.1640573\ttotal: 7m 37s\tremaining: 21m 40s\n",
      "1350:\tlearn: 2.1608762\ttotal: 7m 54s\tremaining: 21m 22s\n",
      "1400:\tlearn: 2.1578913\ttotal: 8m 12s\tremaining: 21m 4s\n",
      "1450:\tlearn: 2.1548194\ttotal: 8m 29s\tremaining: 20m 47s\n",
      "1500:\tlearn: 2.1518560\ttotal: 8m 47s\tremaining: 20m 29s\n",
      "1550:\tlearn: 2.1489952\ttotal: 9m 4s\tremaining: 20m 11s\n",
      "1600:\tlearn: 2.1460921\ttotal: 9m 22s\tremaining: 19m 53s\n",
      "1650:\tlearn: 2.1432509\ttotal: 9m 39s\tremaining: 19m 35s\n",
      "1700:\tlearn: 2.1402114\ttotal: 9m 57s\tremaining: 19m 17s\n",
      "1750:\tlearn: 2.1375749\ttotal: 10m 14s\tremaining: 19m\n",
      "1800:\tlearn: 2.1350144\ttotal: 10m 32s\tremaining: 18m 42s\n",
      "1850:\tlearn: 2.1323569\ttotal: 10m 49s\tremaining: 18m 24s\n",
      "1900:\tlearn: 2.1295955\ttotal: 11m 7s\tremaining: 18m 7s\n",
      "1950:\tlearn: 2.1269791\ttotal: 11m 24s\tremaining: 17m 49s\n",
      "2000:\tlearn: 2.1245795\ttotal: 11m 41s\tremaining: 17m 31s\n",
      "2050:\tlearn: 2.1221435\ttotal: 11m 59s\tremaining: 17m 14s\n",
      "2100:\tlearn: 2.1196082\ttotal: 12m 16s\tremaining: 16m 56s\n",
      "2150:\tlearn: 2.1169999\ttotal: 12m 34s\tremaining: 16m 39s\n",
      "2200:\tlearn: 2.1146379\ttotal: 12m 51s\tremaining: 16m 21s\n",
      "2250:\tlearn: 2.1122643\ttotal: 13m 9s\tremaining: 16m 3s\n",
      "2300:\tlearn: 2.1098045\ttotal: 13m 26s\tremaining: 15m 46s\n",
      "2350:\tlearn: 2.1074416\ttotal: 13m 44s\tremaining: 15m 28s\n",
      "2400:\tlearn: 2.1050172\ttotal: 14m 1s\tremaining: 15m 10s\n",
      "2450:\tlearn: 2.1024988\ttotal: 14m 19s\tremaining: 14m 53s\n",
      "2500:\tlearn: 2.1001284\ttotal: 14m 36s\tremaining: 14m 36s\n",
      "2550:\tlearn: 2.0978534\ttotal: 14m 54s\tremaining: 14m 18s\n",
      "2600:\tlearn: 2.0955547\ttotal: 15m 11s\tremaining: 14m\n",
      "2650:\tlearn: 2.0933618\ttotal: 15m 29s\tremaining: 13m 43s\n",
      "2700:\tlearn: 2.0910125\ttotal: 15m 46s\tremaining: 13m 25s\n",
      "2750:\tlearn: 2.0886920\ttotal: 16m 4s\tremaining: 13m 8s\n",
      "2800:\tlearn: 2.0863415\ttotal: 16m 21s\tremaining: 12m 50s\n",
      "2850:\tlearn: 2.0840628\ttotal: 16m 39s\tremaining: 12m 33s\n",
      "2900:\tlearn: 2.0818745\ttotal: 16m 57s\tremaining: 12m 15s\n",
      "2950:\tlearn: 2.0797209\ttotal: 17m 14s\tremaining: 11m 58s\n",
      "3000:\tlearn: 2.0775547\ttotal: 17m 31s\tremaining: 11m 40s\n",
      "3050:\tlearn: 2.0755393\ttotal: 17m 48s\tremaining: 11m 22s\n",
      "3100:\tlearn: 2.0734288\ttotal: 18m 6s\tremaining: 11m 5s\n",
      "3150:\tlearn: 2.0712292\ttotal: 18m 24s\tremaining: 10m 47s\n",
      "3200:\tlearn: 2.0690540\ttotal: 18m 41s\tremaining: 10m 30s\n",
      "3250:\tlearn: 2.0668781\ttotal: 18m 59s\tremaining: 10m 12s\n",
      "3300:\tlearn: 2.0646712\ttotal: 19m 16s\tremaining: 9m 55s\n",
      "3350:\tlearn: 2.0626370\ttotal: 19m 34s\tremaining: 9m 37s\n",
      "3400:\tlearn: 2.0604570\ttotal: 19m 51s\tremaining: 9m 20s\n",
      "3450:\tlearn: 2.0584068\ttotal: 20m 9s\tremaining: 9m 2s\n",
      "3500:\tlearn: 2.0563835\ttotal: 20m 26s\tremaining: 8m 45s\n",
      "3550:\tlearn: 2.0543892\ttotal: 20m 44s\tremaining: 8m 27s\n",
      "3600:\tlearn: 2.0524619\ttotal: 21m 1s\tremaining: 8m 10s\n",
      "3650:\tlearn: 2.0504123\ttotal: 21m 18s\tremaining: 7m 52s\n",
      "3700:\tlearn: 2.0482791\ttotal: 21m 36s\tremaining: 7m 35s\n",
      "3750:\tlearn: 2.0462954\ttotal: 21m 53s\tremaining: 7m 17s\n",
      "3800:\tlearn: 2.0444575\ttotal: 22m 11s\tremaining: 6m 59s\n",
      "3850:\tlearn: 2.0425411\ttotal: 22m 28s\tremaining: 6m 42s\n",
      "3900:\tlearn: 2.0405886\ttotal: 22m 46s\tremaining: 6m 24s\n",
      "3950:\tlearn: 2.0385126\ttotal: 23m 3s\tremaining: 6m 7s\n",
      "4000:\tlearn: 2.0365283\ttotal: 23m 21s\tremaining: 5m 49s\n",
      "4050:\tlearn: 2.0345962\ttotal: 23m 39s\tremaining: 5m 32s\n",
      "4100:\tlearn: 2.0325965\ttotal: 23m 56s\tremaining: 5m 14s\n",
      "4150:\tlearn: 2.0307473\ttotal: 24m 14s\tremaining: 4m 57s\n",
      "4200:\tlearn: 2.0287653\ttotal: 24m 31s\tremaining: 4m 39s\n",
      "4250:\tlearn: 2.0268219\ttotal: 24m 49s\tremaining: 4m 22s\n",
      "4300:\tlearn: 2.0249683\ttotal: 25m 6s\tremaining: 4m 4s\n",
      "4350:\tlearn: 2.0231025\ttotal: 25m 24s\tremaining: 3m 47s\n",
      "4400:\tlearn: 2.0211820\ttotal: 25m 41s\tremaining: 3m 29s\n",
      "4450:\tlearn: 2.0191926\ttotal: 25m 59s\tremaining: 3m 12s\n",
      "4500:\tlearn: 2.0172199\ttotal: 26m 16s\tremaining: 2m 54s\n",
      "4550:\tlearn: 2.0154169\ttotal: 26m 34s\tremaining: 2m 37s\n",
      "4600:\tlearn: 2.0135685\ttotal: 26m 52s\tremaining: 2m 19s\n",
      "4650:\tlearn: 2.0117248\ttotal: 27m 9s\tremaining: 2m 2s\n",
      "4700:\tlearn: 2.0099206\ttotal: 27m 26s\tremaining: 1m 44s\n",
      "4750:\tlearn: 2.0080517\ttotal: 27m 44s\tremaining: 1m 27s\n",
      "4800:\tlearn: 2.0062310\ttotal: 28m 2s\tremaining: 1m 9s\n",
      "4850:\tlearn: 2.0042747\ttotal: 28m 19s\tremaining: 52.2s\n",
      "4900:\tlearn: 2.0024761\ttotal: 28m 37s\tremaining: 34.7s\n",
      "4950:\tlearn: 2.0006268\ttotal: 28m 54s\tremaining: 17.2s\n",
      "4999:\tlearn: 1.9988421\ttotal: 29m 12s\tremaining: 0us\n"
     ]
    }
   ],
   "source": [
    "clf.fit(X_train, y_train)\n",
    "prob = clf.predict_proba(X_test)"
   ]
  },
  {
   "cell_type": "code",
   "execution_count": 32,
   "metadata": {},
   "outputs": [
    {
     "name": "stdout",
     "output_type": "stream",
     "text": [
      "CPU times: user 2min 30s, sys: 0 ns, total: 2min 30s\n",
      "Wall time: 2min 30s\n"
     ]
    }
   ],
   "source": [
    "%%time\n",
    "submission = pd.DataFrame(np.c_[test_ID, prob], columns=[\"Id\"] + list(le.classes_))\n",
    "submission[\"Id\"] = submission[\"Id\"].astype(int)\n",
    "submission.to_csv(\"submission/v3.gz\", compression=\"gzip\", index=False)"
   ]
  }
 ],
 "metadata": {
  "kernelspec": {
   "display_name": "work",
   "language": "python",
   "name": "work"
  },
  "language_info": {
   "codemirror_mode": {
    "name": "ipython",
    "version": 3
   },
   "file_extension": ".py",
   "mimetype": "text/x-python",
   "name": "python",
   "nbconvert_exporter": "python",
   "pygments_lexer": "ipython3",
   "version": "3.7.3"
  }
 },
 "nbformat": 4,
 "nbformat_minor": 2
}
