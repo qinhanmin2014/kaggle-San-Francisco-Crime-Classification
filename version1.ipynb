{
 "cells": [
  {
   "cell_type": "markdown",
   "metadata": {},
   "source": [
    "- Dates - timestamp of the crime incident\n",
    "- Category - category of the crime incident (only in train.csv). This is the target variable you are going to predict.\n",
    "- Descript - detailed description of the crime incident (only in train.csv)\n",
    "- DayOfWeek - the day of the week\n",
    "- PdDistrict - name of the Police Department District\n",
    "- Resolution - how the crime incident was resolved (only in train.csv)\n",
    "- Address - the approximate street address of the crime incident \n",
    "- X - Longitude\n",
    "- Y - Latitude"
   ]
  },
  {
   "cell_type": "code",
   "execution_count": 1,
   "metadata": {},
   "outputs": [],
   "source": [
    "import os\n",
    "os.environ[\"CUDA_VISIBLE_DEVICES\"] = \"0\"\n",
    "import numpy as np\n",
    "import pandas as pd\n",
    "pd.set_option(\"display.max_columns\", None)\n",
    "import matplotlib as plt\n",
    "%matplotlib inline\n",
    "from sklearn.preprocessing import LabelEncoder, LabelBinarizer, OrdinalEncoder, OneHotEncoder\n",
    "from sklearn.compose import ColumnTransformer\n",
    "from sklearn.ensemble import RandomForestClassifier, GradientBoostingClassifier\n",
    "from sklearn.base import clone\n",
    "from sklearn.model_selection import StratifiedKFold\n",
    "from sklearn.metrics import log_loss\n",
    "import lightgbm as lgb\n",
    "import catboost"
   ]
  },
  {
   "cell_type": "code",
   "execution_count": 2,
   "metadata": {},
   "outputs": [],
   "source": [
    "X_train = pd.read_csv(\"data/train.csv\")\n",
    "X_test = pd.read_csv(\"data/test.csv\")"
   ]
  },
  {
   "cell_type": "code",
   "execution_count": 3,
   "metadata": {},
   "outputs": [
    {
     "data": {
      "text/html": [
       "<div>\n",
       "<style scoped>\n",
       "    .dataframe tbody tr th:only-of-type {\n",
       "        vertical-align: middle;\n",
       "    }\n",
       "\n",
       "    .dataframe tbody tr th {\n",
       "        vertical-align: top;\n",
       "    }\n",
       "\n",
       "    .dataframe thead th {\n",
       "        text-align: right;\n",
       "    }\n",
       "</style>\n",
       "<table border=\"1\" class=\"dataframe\">\n",
       "  <thead>\n",
       "    <tr style=\"text-align: right;\">\n",
       "      <th></th>\n",
       "      <th>Dates</th>\n",
       "      <th>Category</th>\n",
       "      <th>Descript</th>\n",
       "      <th>DayOfWeek</th>\n",
       "      <th>PdDistrict</th>\n",
       "      <th>Resolution</th>\n",
       "      <th>Address</th>\n",
       "      <th>X</th>\n",
       "      <th>Y</th>\n",
       "    </tr>\n",
       "  </thead>\n",
       "  <tbody>\n",
       "    <tr>\n",
       "      <th>0</th>\n",
       "      <td>2015-05-13 23:53:00</td>\n",
       "      <td>WARRANTS</td>\n",
       "      <td>WARRANT ARREST</td>\n",
       "      <td>Wednesday</td>\n",
       "      <td>NORTHERN</td>\n",
       "      <td>ARREST, BOOKED</td>\n",
       "      <td>OAK ST / LAGUNA ST</td>\n",
       "      <td>-122.425892</td>\n",
       "      <td>37.774599</td>\n",
       "    </tr>\n",
       "    <tr>\n",
       "      <th>1</th>\n",
       "      <td>2015-05-13 23:53:00</td>\n",
       "      <td>OTHER OFFENSES</td>\n",
       "      <td>TRAFFIC VIOLATION ARREST</td>\n",
       "      <td>Wednesday</td>\n",
       "      <td>NORTHERN</td>\n",
       "      <td>ARREST, BOOKED</td>\n",
       "      <td>OAK ST / LAGUNA ST</td>\n",
       "      <td>-122.425892</td>\n",
       "      <td>37.774599</td>\n",
       "    </tr>\n",
       "    <tr>\n",
       "      <th>2</th>\n",
       "      <td>2015-05-13 23:33:00</td>\n",
       "      <td>OTHER OFFENSES</td>\n",
       "      <td>TRAFFIC VIOLATION ARREST</td>\n",
       "      <td>Wednesday</td>\n",
       "      <td>NORTHERN</td>\n",
       "      <td>ARREST, BOOKED</td>\n",
       "      <td>VANNESS AV / GREENWICH ST</td>\n",
       "      <td>-122.424363</td>\n",
       "      <td>37.800414</td>\n",
       "    </tr>\n",
       "    <tr>\n",
       "      <th>3</th>\n",
       "      <td>2015-05-13 23:30:00</td>\n",
       "      <td>LARCENY/THEFT</td>\n",
       "      <td>GRAND THEFT FROM LOCKED AUTO</td>\n",
       "      <td>Wednesday</td>\n",
       "      <td>NORTHERN</td>\n",
       "      <td>NONE</td>\n",
       "      <td>1500 Block of LOMBARD ST</td>\n",
       "      <td>-122.426995</td>\n",
       "      <td>37.800873</td>\n",
       "    </tr>\n",
       "    <tr>\n",
       "      <th>4</th>\n",
       "      <td>2015-05-13 23:30:00</td>\n",
       "      <td>LARCENY/THEFT</td>\n",
       "      <td>GRAND THEFT FROM LOCKED AUTO</td>\n",
       "      <td>Wednesday</td>\n",
       "      <td>PARK</td>\n",
       "      <td>NONE</td>\n",
       "      <td>100 Block of BRODERICK ST</td>\n",
       "      <td>-122.438738</td>\n",
       "      <td>37.771541</td>\n",
       "    </tr>\n",
       "  </tbody>\n",
       "</table>\n",
       "</div>"
      ],
      "text/plain": [
       "                 Dates        Category                      Descript  \\\n",
       "0  2015-05-13 23:53:00        WARRANTS                WARRANT ARREST   \n",
       "1  2015-05-13 23:53:00  OTHER OFFENSES      TRAFFIC VIOLATION ARREST   \n",
       "2  2015-05-13 23:33:00  OTHER OFFENSES      TRAFFIC VIOLATION ARREST   \n",
       "3  2015-05-13 23:30:00   LARCENY/THEFT  GRAND THEFT FROM LOCKED AUTO   \n",
       "4  2015-05-13 23:30:00   LARCENY/THEFT  GRAND THEFT FROM LOCKED AUTO   \n",
       "\n",
       "   DayOfWeek PdDistrict      Resolution                    Address  \\\n",
       "0  Wednesday   NORTHERN  ARREST, BOOKED         OAK ST / LAGUNA ST   \n",
       "1  Wednesday   NORTHERN  ARREST, BOOKED         OAK ST / LAGUNA ST   \n",
       "2  Wednesday   NORTHERN  ARREST, BOOKED  VANNESS AV / GREENWICH ST   \n",
       "3  Wednesday   NORTHERN            NONE   1500 Block of LOMBARD ST   \n",
       "4  Wednesday       PARK            NONE  100 Block of BRODERICK ST   \n",
       "\n",
       "            X          Y  \n",
       "0 -122.425892  37.774599  \n",
       "1 -122.425892  37.774599  \n",
       "2 -122.424363  37.800414  \n",
       "3 -122.426995  37.800873  \n",
       "4 -122.438738  37.771541  "
      ]
     },
     "execution_count": 3,
     "metadata": {},
     "output_type": "execute_result"
    }
   ],
   "source": [
    "X_train[:5]"
   ]
  },
  {
   "cell_type": "code",
   "execution_count": 4,
   "metadata": {},
   "outputs": [
    {
     "data": {
      "text/html": [
       "<div>\n",
       "<style scoped>\n",
       "    .dataframe tbody tr th:only-of-type {\n",
       "        vertical-align: middle;\n",
       "    }\n",
       "\n",
       "    .dataframe tbody tr th {\n",
       "        vertical-align: top;\n",
       "    }\n",
       "\n",
       "    .dataframe thead th {\n",
       "        text-align: right;\n",
       "    }\n",
       "</style>\n",
       "<table border=\"1\" class=\"dataframe\">\n",
       "  <thead>\n",
       "    <tr style=\"text-align: right;\">\n",
       "      <th></th>\n",
       "      <th>Id</th>\n",
       "      <th>Dates</th>\n",
       "      <th>DayOfWeek</th>\n",
       "      <th>PdDistrict</th>\n",
       "      <th>Address</th>\n",
       "      <th>X</th>\n",
       "      <th>Y</th>\n",
       "    </tr>\n",
       "  </thead>\n",
       "  <tbody>\n",
       "    <tr>\n",
       "      <th>0</th>\n",
       "      <td>0</td>\n",
       "      <td>2015-05-10 23:59:00</td>\n",
       "      <td>Sunday</td>\n",
       "      <td>BAYVIEW</td>\n",
       "      <td>2000 Block of THOMAS AV</td>\n",
       "      <td>-122.399588</td>\n",
       "      <td>37.735051</td>\n",
       "    </tr>\n",
       "    <tr>\n",
       "      <th>1</th>\n",
       "      <td>1</td>\n",
       "      <td>2015-05-10 23:51:00</td>\n",
       "      <td>Sunday</td>\n",
       "      <td>BAYVIEW</td>\n",
       "      <td>3RD ST / REVERE AV</td>\n",
       "      <td>-122.391523</td>\n",
       "      <td>37.732432</td>\n",
       "    </tr>\n",
       "    <tr>\n",
       "      <th>2</th>\n",
       "      <td>2</td>\n",
       "      <td>2015-05-10 23:50:00</td>\n",
       "      <td>Sunday</td>\n",
       "      <td>NORTHERN</td>\n",
       "      <td>2000 Block of GOUGH ST</td>\n",
       "      <td>-122.426002</td>\n",
       "      <td>37.792212</td>\n",
       "    </tr>\n",
       "    <tr>\n",
       "      <th>3</th>\n",
       "      <td>3</td>\n",
       "      <td>2015-05-10 23:45:00</td>\n",
       "      <td>Sunday</td>\n",
       "      <td>INGLESIDE</td>\n",
       "      <td>4700 Block of MISSION ST</td>\n",
       "      <td>-122.437394</td>\n",
       "      <td>37.721412</td>\n",
       "    </tr>\n",
       "    <tr>\n",
       "      <th>4</th>\n",
       "      <td>4</td>\n",
       "      <td>2015-05-10 23:45:00</td>\n",
       "      <td>Sunday</td>\n",
       "      <td>INGLESIDE</td>\n",
       "      <td>4700 Block of MISSION ST</td>\n",
       "      <td>-122.437394</td>\n",
       "      <td>37.721412</td>\n",
       "    </tr>\n",
       "  </tbody>\n",
       "</table>\n",
       "</div>"
      ],
      "text/plain": [
       "   Id                Dates DayOfWeek PdDistrict                   Address  \\\n",
       "0   0  2015-05-10 23:59:00    Sunday    BAYVIEW   2000 Block of THOMAS AV   \n",
       "1   1  2015-05-10 23:51:00    Sunday    BAYVIEW        3RD ST / REVERE AV   \n",
       "2   2  2015-05-10 23:50:00    Sunday   NORTHERN    2000 Block of GOUGH ST   \n",
       "3   3  2015-05-10 23:45:00    Sunday  INGLESIDE  4700 Block of MISSION ST   \n",
       "4   4  2015-05-10 23:45:00    Sunday  INGLESIDE  4700 Block of MISSION ST   \n",
       "\n",
       "            X          Y  \n",
       "0 -122.399588  37.735051  \n",
       "1 -122.391523  37.732432  \n",
       "2 -122.426002  37.792212  \n",
       "3 -122.437394  37.721412  \n",
       "4 -122.437394  37.721412  "
      ]
     },
     "execution_count": 4,
     "metadata": {},
     "output_type": "execute_result"
    }
   ],
   "source": [
    "X_test[:5]"
   ]
  },
  {
   "cell_type": "code",
   "execution_count": 5,
   "metadata": {},
   "outputs": [],
   "source": [
    "y_train = X_train['Category']\n",
    "X_train_description = X_train['Descript']\n",
    "X_train_resolution = X_train['Resolution']\n",
    "X_train.drop([\"Category\", \"Descript\", \"Resolution\"], axis=1, inplace=True)"
   ]
  },
  {
   "cell_type": "code",
   "execution_count": 6,
   "metadata": {},
   "outputs": [],
   "source": [
    "test_ID = X_test[\"Id\"]\n",
    "X_test.drop(\"Id\", axis=1, inplace=True)"
   ]
  },
  {
   "cell_type": "code",
   "execution_count": 7,
   "metadata": {},
   "outputs": [
    {
     "data": {
      "text/html": [
       "<div>\n",
       "<style scoped>\n",
       "    .dataframe tbody tr th:only-of-type {\n",
       "        vertical-align: middle;\n",
       "    }\n",
       "\n",
       "    .dataframe tbody tr th {\n",
       "        vertical-align: top;\n",
       "    }\n",
       "\n",
       "    .dataframe thead th {\n",
       "        text-align: right;\n",
       "    }\n",
       "</style>\n",
       "<table border=\"1\" class=\"dataframe\">\n",
       "  <thead>\n",
       "    <tr style=\"text-align: right;\">\n",
       "      <th></th>\n",
       "      <th>Dates</th>\n",
       "      <th>DayOfWeek</th>\n",
       "      <th>PdDistrict</th>\n",
       "      <th>Address</th>\n",
       "      <th>X</th>\n",
       "      <th>Y</th>\n",
       "    </tr>\n",
       "  </thead>\n",
       "  <tbody>\n",
       "    <tr>\n",
       "      <th>0</th>\n",
       "      <td>2015-05-13 23:53:00</td>\n",
       "      <td>Wednesday</td>\n",
       "      <td>NORTHERN</td>\n",
       "      <td>OAK ST / LAGUNA ST</td>\n",
       "      <td>-122.425892</td>\n",
       "      <td>37.774599</td>\n",
       "    </tr>\n",
       "    <tr>\n",
       "      <th>1</th>\n",
       "      <td>2015-05-13 23:53:00</td>\n",
       "      <td>Wednesday</td>\n",
       "      <td>NORTHERN</td>\n",
       "      <td>OAK ST / LAGUNA ST</td>\n",
       "      <td>-122.425892</td>\n",
       "      <td>37.774599</td>\n",
       "    </tr>\n",
       "    <tr>\n",
       "      <th>2</th>\n",
       "      <td>2015-05-13 23:33:00</td>\n",
       "      <td>Wednesday</td>\n",
       "      <td>NORTHERN</td>\n",
       "      <td>VANNESS AV / GREENWICH ST</td>\n",
       "      <td>-122.424363</td>\n",
       "      <td>37.800414</td>\n",
       "    </tr>\n",
       "    <tr>\n",
       "      <th>3</th>\n",
       "      <td>2015-05-13 23:30:00</td>\n",
       "      <td>Wednesday</td>\n",
       "      <td>NORTHERN</td>\n",
       "      <td>1500 Block of LOMBARD ST</td>\n",
       "      <td>-122.426995</td>\n",
       "      <td>37.800873</td>\n",
       "    </tr>\n",
       "    <tr>\n",
       "      <th>4</th>\n",
       "      <td>2015-05-13 23:30:00</td>\n",
       "      <td>Wednesday</td>\n",
       "      <td>PARK</td>\n",
       "      <td>100 Block of BRODERICK ST</td>\n",
       "      <td>-122.438738</td>\n",
       "      <td>37.771541</td>\n",
       "    </tr>\n",
       "  </tbody>\n",
       "</table>\n",
       "</div>"
      ],
      "text/plain": [
       "                 Dates  DayOfWeek PdDistrict                    Address  \\\n",
       "0  2015-05-13 23:53:00  Wednesday   NORTHERN         OAK ST / LAGUNA ST   \n",
       "1  2015-05-13 23:53:00  Wednesday   NORTHERN         OAK ST / LAGUNA ST   \n",
       "2  2015-05-13 23:33:00  Wednesday   NORTHERN  VANNESS AV / GREENWICH ST   \n",
       "3  2015-05-13 23:30:00  Wednesday   NORTHERN   1500 Block of LOMBARD ST   \n",
       "4  2015-05-13 23:30:00  Wednesday       PARK  100 Block of BRODERICK ST   \n",
       "\n",
       "            X          Y  \n",
       "0 -122.425892  37.774599  \n",
       "1 -122.425892  37.774599  \n",
       "2 -122.424363  37.800414  \n",
       "3 -122.426995  37.800873  \n",
       "4 -122.438738  37.771541  "
      ]
     },
     "execution_count": 7,
     "metadata": {},
     "output_type": "execute_result"
    }
   ],
   "source": [
    "X_train[:5]"
   ]
  },
  {
   "cell_type": "code",
   "execution_count": 8,
   "metadata": {},
   "outputs": [
    {
     "data": {
      "text/html": [
       "<div>\n",
       "<style scoped>\n",
       "    .dataframe tbody tr th:only-of-type {\n",
       "        vertical-align: middle;\n",
       "    }\n",
       "\n",
       "    .dataframe tbody tr th {\n",
       "        vertical-align: top;\n",
       "    }\n",
       "\n",
       "    .dataframe thead th {\n",
       "        text-align: right;\n",
       "    }\n",
       "</style>\n",
       "<table border=\"1\" class=\"dataframe\">\n",
       "  <thead>\n",
       "    <tr style=\"text-align: right;\">\n",
       "      <th></th>\n",
       "      <th>Dates</th>\n",
       "      <th>DayOfWeek</th>\n",
       "      <th>PdDistrict</th>\n",
       "      <th>Address</th>\n",
       "      <th>X</th>\n",
       "      <th>Y</th>\n",
       "    </tr>\n",
       "  </thead>\n",
       "  <tbody>\n",
       "    <tr>\n",
       "      <th>0</th>\n",
       "      <td>2015-05-10 23:59:00</td>\n",
       "      <td>Sunday</td>\n",
       "      <td>BAYVIEW</td>\n",
       "      <td>2000 Block of THOMAS AV</td>\n",
       "      <td>-122.399588</td>\n",
       "      <td>37.735051</td>\n",
       "    </tr>\n",
       "    <tr>\n",
       "      <th>1</th>\n",
       "      <td>2015-05-10 23:51:00</td>\n",
       "      <td>Sunday</td>\n",
       "      <td>BAYVIEW</td>\n",
       "      <td>3RD ST / REVERE AV</td>\n",
       "      <td>-122.391523</td>\n",
       "      <td>37.732432</td>\n",
       "    </tr>\n",
       "    <tr>\n",
       "      <th>2</th>\n",
       "      <td>2015-05-10 23:50:00</td>\n",
       "      <td>Sunday</td>\n",
       "      <td>NORTHERN</td>\n",
       "      <td>2000 Block of GOUGH ST</td>\n",
       "      <td>-122.426002</td>\n",
       "      <td>37.792212</td>\n",
       "    </tr>\n",
       "    <tr>\n",
       "      <th>3</th>\n",
       "      <td>2015-05-10 23:45:00</td>\n",
       "      <td>Sunday</td>\n",
       "      <td>INGLESIDE</td>\n",
       "      <td>4700 Block of MISSION ST</td>\n",
       "      <td>-122.437394</td>\n",
       "      <td>37.721412</td>\n",
       "    </tr>\n",
       "    <tr>\n",
       "      <th>4</th>\n",
       "      <td>2015-05-10 23:45:00</td>\n",
       "      <td>Sunday</td>\n",
       "      <td>INGLESIDE</td>\n",
       "      <td>4700 Block of MISSION ST</td>\n",
       "      <td>-122.437394</td>\n",
       "      <td>37.721412</td>\n",
       "    </tr>\n",
       "  </tbody>\n",
       "</table>\n",
       "</div>"
      ],
      "text/plain": [
       "                 Dates DayOfWeek PdDistrict                   Address  \\\n",
       "0  2015-05-10 23:59:00    Sunday    BAYVIEW   2000 Block of THOMAS AV   \n",
       "1  2015-05-10 23:51:00    Sunday    BAYVIEW        3RD ST / REVERE AV   \n",
       "2  2015-05-10 23:50:00    Sunday   NORTHERN    2000 Block of GOUGH ST   \n",
       "3  2015-05-10 23:45:00    Sunday  INGLESIDE  4700 Block of MISSION ST   \n",
       "4  2015-05-10 23:45:00    Sunday  INGLESIDE  4700 Block of MISSION ST   \n",
       "\n",
       "            X          Y  \n",
       "0 -122.399588  37.735051  \n",
       "1 -122.391523  37.732432  \n",
       "2 -122.426002  37.792212  \n",
       "3 -122.437394  37.721412  \n",
       "4 -122.437394  37.721412  "
      ]
     },
     "execution_count": 8,
     "metadata": {},
     "output_type": "execute_result"
    }
   ],
   "source": [
    "X_test[:5]"
   ]
  },
  {
   "cell_type": "code",
   "execution_count": 9,
   "metadata": {},
   "outputs": [
    {
     "data": {
      "text/plain": [
       "(878049, 6)"
      ]
     },
     "execution_count": 9,
     "metadata": {},
     "output_type": "execute_result"
    }
   ],
   "source": [
    "X_train.shape"
   ]
  },
  {
   "cell_type": "code",
   "execution_count": 10,
   "metadata": {},
   "outputs": [
    {
     "data": {
      "text/plain": [
       "(884262, 6)"
      ]
     },
     "execution_count": 10,
     "metadata": {},
     "output_type": "execute_result"
    }
   ],
   "source": [
    "X_test.shape"
   ]
  },
  {
   "cell_type": "code",
   "execution_count": 11,
   "metadata": {},
   "outputs": [
    {
     "data": {
      "text/plain": [
       "LARCENY/THEFT                  174900\n",
       "OTHER OFFENSES                 126182\n",
       "NON-CRIMINAL                    92304\n",
       "ASSAULT                         76876\n",
       "DRUG/NARCOTIC                   53971\n",
       "VEHICLE THEFT                   53781\n",
       "VANDALISM                       44725\n",
       "WARRANTS                        42214\n",
       "BURGLARY                        36755\n",
       "SUSPICIOUS OCC                  31414\n",
       "MISSING PERSON                  25989\n",
       "ROBBERY                         23000\n",
       "FRAUD                           16679\n",
       "FORGERY/COUNTERFEITING          10609\n",
       "SECONDARY CODES                  9985\n",
       "WEAPON LAWS                      8555\n",
       "PROSTITUTION                     7484\n",
       "TRESPASS                         7326\n",
       "STOLEN PROPERTY                  4540\n",
       "SEX OFFENSES FORCIBLE            4388\n",
       "DISORDERLY CONDUCT               4320\n",
       "DRUNKENNESS                      4280\n",
       "RECOVERED VEHICLE                3138\n",
       "KIDNAPPING                       2341\n",
       "DRIVING UNDER THE INFLUENCE      2268\n",
       "RUNAWAY                          1946\n",
       "LIQUOR LAWS                      1903\n",
       "ARSON                            1513\n",
       "LOITERING                        1225\n",
       "EMBEZZLEMENT                     1166\n",
       "SUICIDE                           508\n",
       "FAMILY OFFENSES                   491\n",
       "BAD CHECKS                        406\n",
       "BRIBERY                           289\n",
       "EXTORTION                         256\n",
       "SEX OFFENSES NON FORCIBLE         148\n",
       "GAMBLING                          146\n",
       "PORNOGRAPHY/OBSCENE MAT            22\n",
       "TREA                                6\n",
       "Name: Category, dtype: int64"
      ]
     },
     "execution_count": 11,
     "metadata": {},
     "output_type": "execute_result"
    }
   ],
   "source": [
    "y_train.value_counts()"
   ]
  },
  {
   "cell_type": "code",
   "execution_count": 12,
   "metadata": {},
   "outputs": [
    {
     "name": "stdout",
     "output_type": "stream",
     "text": [
      "['ARSON' 'ASSAULT' 'BAD CHECKS' 'BRIBERY' 'BURGLARY' 'DISORDERLY CONDUCT'\n",
      " 'DRIVING UNDER THE INFLUENCE' 'DRUG/NARCOTIC' 'DRUNKENNESS'\n",
      " 'EMBEZZLEMENT' 'EXTORTION' 'FAMILY OFFENSES' 'FORGERY/COUNTERFEITING'\n",
      " 'FRAUD' 'GAMBLING' 'KIDNAPPING' 'LARCENY/THEFT' 'LIQUOR LAWS' 'LOITERING'\n",
      " 'MISSING PERSON' 'NON-CRIMINAL' 'OTHER OFFENSES'\n",
      " 'PORNOGRAPHY/OBSCENE MAT' 'PROSTITUTION' 'RECOVERED VEHICLE' 'ROBBERY'\n",
      " 'RUNAWAY' 'SECONDARY CODES' 'SEX OFFENSES FORCIBLE'\n",
      " 'SEX OFFENSES NON FORCIBLE' 'STOLEN PROPERTY' 'SUICIDE' 'SUSPICIOUS OCC'\n",
      " 'TREA' 'TRESPASS' 'VANDALISM' 'VEHICLE THEFT' 'WARRANTS' 'WEAPON LAWS']\n"
     ]
    }
   ],
   "source": [
    "le = LabelEncoder()\n",
    "y_train = le.fit_transform(y_train)\n",
    "print(le.classes_)"
   ]
  },
  {
   "cell_type": "code",
   "execution_count": 13,
   "metadata": {},
   "outputs": [],
   "source": [
    "num_train = X_train.shape[0]\n",
    "all_data = pd.concat((X_train, X_test), ignore_index=True)"
   ]
  },
  {
   "cell_type": "code",
   "execution_count": 14,
   "metadata": {},
   "outputs": [],
   "source": [
    "date = pd.DatetimeIndex(all_data['Dates'])\n",
    "all_data['year'] = date.year\n",
    "all_data['month'] = date.month\n",
    "all_data['day'] = date.day\n",
    "all_data['hour'] = date.hour\n",
    "all_data['minute'] = date.minute\n",
    "# all_data['second'] = date.second  # all zero\n",
    "all_data.drop(\"Dates\", axis=1, inplace=True)"
   ]
  },
  {
   "cell_type": "code",
   "execution_count": 15,
   "metadata": {},
   "outputs": [
    {
     "data": {
      "text/plain": [
       "Friday       268437\n",
       "Wednesday    259610\n",
       "Saturday     253848\n",
       "Tuesday      251905\n",
       "Thursday     251579\n",
       "Monday       243810\n",
       "Sunday       233122\n",
       "Name: DayOfWeek, dtype: int64"
      ]
     },
     "execution_count": 15,
     "metadata": {},
     "output_type": "execute_result"
    }
   ],
   "source": [
    "all_data[\"DayOfWeek\"].value_counts()"
   ]
  },
  {
   "cell_type": "code",
   "execution_count": 16,
   "metadata": {},
   "outputs": [
    {
     "data": {
      "text/plain": [
       "SOUTHERN      314638\n",
       "MISSION       240357\n",
       "NORTHERN      212313\n",
       "BAYVIEW       179022\n",
       "CENTRAL       171590\n",
       "TENDERLOIN    163556\n",
       "INGLESIDE     158929\n",
       "TARAVAL       132213\n",
       "PARK           99512\n",
       "RICHMOND       90181\n",
       "Name: PdDistrict, dtype: int64"
      ]
     },
     "execution_count": 16,
     "metadata": {},
     "output_type": "execute_result"
    }
   ],
   "source": [
    "all_data[\"PdDistrict\"].value_counts()"
   ]
  },
  {
   "cell_type": "code",
   "execution_count": 17,
   "metadata": {},
   "outputs": [],
   "source": [
    "all_data['block'] = all_data[\"Address\"].str.contains(\"block\", case=False)\n",
    "all_data.drop(\"Address\", axis=1, inplace=True)"
   ]
  },
  {
   "cell_type": "code",
   "execution_count": 18,
   "metadata": {},
   "outputs": [],
   "source": [
    "# extra features, provide another way to scan through the map\n",
    "all_data[\"X+Y\"] = all_data[\"X\"] + all_data[\"Y\"]\n",
    "all_data[\"X-Y\"] = all_data[\"X\"] - all_data[\"Y\"]"
   ]
  },
  {
   "cell_type": "code",
   "execution_count": 21,
   "metadata": {},
   "outputs": [],
   "source": [
    "categorical_features = [\"DayOfWeek\", \"PdDistrict\", \"block\"]\n",
    "ct = ColumnTransformer(transformers=[(\"categorical_features\", OrdinalEncoder(), categorical_features)],\n",
    "                       remainder=\"passthrough\")\n",
    "all_data = ct.fit_transform(all_data)"
   ]
  },
  {
   "cell_type": "code",
   "execution_count": 22,
   "metadata": {},
   "outputs": [],
   "source": [
    "X_train = all_data[:num_train]\n",
    "X_test = all_data[num_train:]"
   ]
  },
  {
   "cell_type": "code",
   "execution_count": 23,
   "metadata": {},
   "outputs": [],
   "source": [
    "def cross_val_score_prod(clf, X, y):\n",
    "    scores = []\n",
    "    cv = StratifiedKFold(n_splits=3, shuffle=True, random_state=0)\n",
    "    for train_index, test_index in cv.split(X, y):\n",
    "        est = clone(clf)\n",
    "        est.fit(X[train_index], y[train_index],\n",
    "                cat_features=np.arange(len(categorical_features)))\n",
    "        prob = est.predict_proba(X[test_index])\n",
    "        scores.append(log_loss(y[test_index], prob))\n",
    "    return scores"
   ]
  },
  {
   "cell_type": "code",
   "execution_count": 24,
   "metadata": {},
   "outputs": [],
   "source": [
    "clf = catboost.CatBoostClassifier(n_estimators=10, random_seed=0, task_type=\"GPU\")"
   ]
  },
  {
   "cell_type": "code",
   "execution_count": 25,
   "metadata": {},
   "outputs": [
    {
     "name": "stderr",
     "output_type": "stream",
     "text": [
      "Warning: less than 75% gpu memory available for training. Free: 6776.5 Total: 6776.5\n"
     ]
    },
    {
     "name": "stdout",
     "output_type": "stream",
     "text": [
      "0:\tlearn: 3.5469196\ttotal: 374ms\tremaining: 3.37s\n",
      "1:\tlearn: 3.4564224\ttotal: 785ms\tremaining: 3.14s\n",
      "2:\tlearn: 3.3824846\ttotal: 1.02s\tremaining: 2.38s\n",
      "3:\tlearn: 3.3187132\ttotal: 1.42s\tremaining: 2.13s\n",
      "4:\tlearn: 3.2627582\ttotal: 1.67s\tremaining: 1.67s\n",
      "5:\tlearn: 3.2128743\ttotal: 2.07s\tremaining: 1.38s\n",
      "6:\tlearn: 3.1685349\ttotal: 2.31s\tremaining: 992ms\n",
      "7:\tlearn: 3.1283301\ttotal: 2.73s\tremaining: 683ms\n",
      "8:\tlearn: 3.0912584\ttotal: 2.98s\tremaining: 331ms\n",
      "9:\tlearn: 3.0574729\ttotal: 3.38s\tremaining: 0us\n"
     ]
    },
    {
     "name": "stderr",
     "output_type": "stream",
     "text": [
      "Warning: less than 75% gpu memory available for training. Free: 6776.5 Total: 6776.5\n"
     ]
    },
    {
     "name": "stdout",
     "output_type": "stream",
     "text": [
      "0:\tlearn: 3.5472231\ttotal: 278ms\tremaining: 2.5s\n",
      "1:\tlearn: 3.4576149\ttotal: 663ms\tremaining: 2.65s\n",
      "2:\tlearn: 3.3836994\ttotal: 985ms\tremaining: 2.3s\n",
      "3:\tlearn: 3.3198007\ttotal: 1.32s\tremaining: 1.98s\n",
      "4:\tlearn: 3.2636399\ttotal: 1.61s\tremaining: 1.61s\n",
      "5:\tlearn: 3.2137461\ttotal: 1.97s\tremaining: 1.31s\n",
      "6:\tlearn: 3.1693159\ttotal: 2.28s\tremaining: 978ms\n",
      "7:\tlearn: 3.1287643\ttotal: 2.62s\tremaining: 655ms\n",
      "8:\tlearn: 3.0917071\ttotal: 2.97s\tremaining: 330ms\n",
      "9:\tlearn: 3.0574393\ttotal: 3.27s\tremaining: 0us\n"
     ]
    },
    {
     "name": "stderr",
     "output_type": "stream",
     "text": [
      "Warning: less than 75% gpu memory available for training. Free: 6776.5 Total: 6776.5\n"
     ]
    },
    {
     "name": "stdout",
     "output_type": "stream",
     "text": [
      "0:\tlearn: 3.5460966\ttotal: 334ms\tremaining: 3s\n",
      "1:\tlearn: 3.4565618\ttotal: 623ms\tremaining: 2.49s\n",
      "2:\tlearn: 3.3827121\ttotal: 976ms\tremaining: 2.28s\n",
      "3:\tlearn: 3.3190880\ttotal: 1.32s\tremaining: 1.97s\n",
      "4:\tlearn: 3.2630475\ttotal: 1.63s\tremaining: 1.63s\n",
      "5:\tlearn: 3.2132390\ttotal: 1.92s\tremaining: 1.28s\n",
      "6:\tlearn: 3.1688151\ttotal: 2.27s\tremaining: 974ms\n",
      "7:\tlearn: 3.1282253\ttotal: 2.59s\tremaining: 648ms\n",
      "8:\tlearn: 3.0911504\ttotal: 2.92s\tremaining: 325ms\n",
      "9:\tlearn: 3.0572534\ttotal: 3.25s\tremaining: 0us\n",
      "3.0578852209954897 0.0006017723480445758\n"
     ]
    }
   ],
   "source": [
    "scores = cross_val_score_prod(clf, X_train, y_train)\n",
    "print(np.mean(scores), np.std(scores))"
   ]
  },
  {
   "cell_type": "code",
   "execution_count": 26,
   "metadata": {},
   "outputs": [],
   "source": [
    "clf = catboost.CatBoostClassifier(random_seed=0, task_type=\"GPU\", verbose=50)"
   ]
  },
  {
   "cell_type": "code",
   "execution_count": 27,
   "metadata": {},
   "outputs": [
    {
     "name": "stderr",
     "output_type": "stream",
     "text": [
      "Warning: less than 75% gpu memory available for training. Free: 6776.5 Total: 6776.5\n"
     ]
    },
    {
     "name": "stdout",
     "output_type": "stream",
     "text": [
      "0:\tlearn: 3.5469200\ttotal: 304ms\tremaining: 5m 4s\n",
      "50:\tlearn: 2.5269918\ttotal: 16.6s\tremaining: 5m 9s\n",
      "100:\tlearn: 2.4142244\ttotal: 32.5s\tremaining: 4m 49s\n",
      "150:\tlearn: 2.3804444\ttotal: 48.5s\tremaining: 4m 32s\n",
      "200:\tlearn: 2.3614340\ttotal: 1m 4s\tremaining: 4m 16s\n",
      "250:\tlearn: 2.3476762\ttotal: 1m 20s\tremaining: 3m 59s\n",
      "300:\tlearn: 2.3370306\ttotal: 1m 36s\tremaining: 3m 43s\n",
      "350:\tlearn: 2.3279499\ttotal: 1m 52s\tremaining: 3m 27s\n",
      "400:\tlearn: 2.3199761\ttotal: 2m 8s\tremaining: 3m 11s\n",
      "450:\tlearn: 2.3128167\ttotal: 2m 24s\tremaining: 2m 55s\n",
      "500:\tlearn: 2.3064476\ttotal: 2m 40s\tremaining: 2m 39s\n",
      "550:\tlearn: 2.3006904\ttotal: 2m 56s\tremaining: 2m 23s\n",
      "600:\tlearn: 2.2953235\ttotal: 3m 11s\tremaining: 2m 7s\n",
      "650:\tlearn: 2.2900916\ttotal: 3m 27s\tremaining: 1m 51s\n",
      "700:\tlearn: 2.2855155\ttotal: 3m 43s\tremaining: 1m 35s\n",
      "750:\tlearn: 2.2811066\ttotal: 3m 59s\tremaining: 1m 19s\n",
      "800:\tlearn: 2.2769834\ttotal: 4m 15s\tremaining: 1m 3s\n",
      "850:\tlearn: 2.2728039\ttotal: 4m 31s\tremaining: 47.5s\n",
      "900:\tlearn: 2.2691680\ttotal: 4m 47s\tremaining: 31.6s\n",
      "950:\tlearn: 2.2659968\ttotal: 5m 3s\tremaining: 15.6s\n",
      "999:\tlearn: 2.2626025\ttotal: 5m 19s\tremaining: 0us\n"
     ]
    },
    {
     "name": "stderr",
     "output_type": "stream",
     "text": [
      "Warning: less than 75% gpu memory available for training. Free: 6776.5 Total: 6776.5\n"
     ]
    },
    {
     "name": "stdout",
     "output_type": "stream",
     "text": [
      "0:\tlearn: 3.5472224\ttotal: 365ms\tremaining: 6m 4s\n",
      "50:\tlearn: 2.5274248\ttotal: 16.7s\tremaining: 5m 11s\n",
      "100:\tlearn: 2.4139847\ttotal: 32.7s\tremaining: 4m 51s\n",
      "150:\tlearn: 2.3799262\ttotal: 48.8s\tremaining: 4m 34s\n",
      "200:\tlearn: 2.3618390\ttotal: 1m 4s\tremaining: 4m 18s\n",
      "250:\tlearn: 2.3481816\ttotal: 1m 20s\tremaining: 4m 1s\n",
      "300:\tlearn: 2.3374956\ttotal: 1m 36s\tremaining: 3m 44s\n",
      "350:\tlearn: 2.3281474\ttotal: 1m 52s\tremaining: 3m 28s\n",
      "400:\tlearn: 2.3199321\ttotal: 2m 9s\tremaining: 3m 12s\n",
      "450:\tlearn: 2.3126136\ttotal: 2m 25s\tremaining: 2m 56s\n",
      "500:\tlearn: 2.3061203\ttotal: 2m 41s\tremaining: 2m 40s\n",
      "550:\tlearn: 2.3002391\ttotal: 2m 57s\tremaining: 2m 24s\n",
      "600:\tlearn: 2.2949899\ttotal: 3m 13s\tremaining: 2m 8s\n",
      "650:\tlearn: 2.2901831\ttotal: 3m 29s\tremaining: 1m 52s\n",
      "700:\tlearn: 2.2853045\ttotal: 3m 45s\tremaining: 1m 36s\n",
      "750:\tlearn: 2.2812037\ttotal: 4m 1s\tremaining: 1m 20s\n",
      "800:\tlearn: 2.2772243\ttotal: 4m 18s\tremaining: 1m 4s\n",
      "850:\tlearn: 2.2731013\ttotal: 4m 34s\tremaining: 48s\n",
      "900:\tlearn: 2.2694837\ttotal: 4m 50s\tremaining: 31.9s\n",
      "950:\tlearn: 2.2660290\ttotal: 5m 6s\tremaining: 15.8s\n",
      "999:\tlearn: 2.2630984\ttotal: 5m 22s\tremaining: 0us\n"
     ]
    },
    {
     "name": "stderr",
     "output_type": "stream",
     "text": [
      "Warning: less than 75% gpu memory available for training. Free: 6776.5 Total: 6776.5\n"
     ]
    },
    {
     "name": "stdout",
     "output_type": "stream",
     "text": [
      "0:\tlearn: 3.5460968\ttotal: 269ms\tremaining: 4m 28s\n",
      "50:\tlearn: 2.5274804\ttotal: 16.9s\tremaining: 5m 14s\n",
      "100:\tlearn: 2.4141118\ttotal: 33.2s\tremaining: 4m 55s\n",
      "150:\tlearn: 2.3811484\ttotal: 49.4s\tremaining: 4m 37s\n",
      "200:\tlearn: 2.3622273\ttotal: 1m 5s\tremaining: 4m 20s\n",
      "250:\tlearn: 2.3477803\ttotal: 1m 22s\tremaining: 4m 4s\n",
      "300:\tlearn: 2.3374665\ttotal: 1m 38s\tremaining: 3m 48s\n",
      "350:\tlearn: 2.3275925\ttotal: 1m 55s\tremaining: 3m 32s\n",
      "400:\tlearn: 2.3201781\ttotal: 2m 11s\tremaining: 3m 15s\n",
      "450:\tlearn: 2.3126493\ttotal: 2m 27s\tremaining: 2m 59s\n",
      "500:\tlearn: 2.3060333\ttotal: 2m 43s\tremaining: 2m 43s\n",
      "550:\tlearn: 2.3001153\ttotal: 2m 59s\tremaining: 2m 26s\n",
      "600:\tlearn: 2.2948130\ttotal: 3m 16s\tremaining: 2m 10s\n",
      "650:\tlearn: 2.2899824\ttotal: 3m 32s\tremaining: 1m 53s\n",
      "700:\tlearn: 2.2852320\ttotal: 3m 48s\tremaining: 1m 37s\n",
      "750:\tlearn: 2.2810375\ttotal: 4m 4s\tremaining: 1m 21s\n",
      "800:\tlearn: 2.2767373\ttotal: 4m 21s\tremaining: 1m 4s\n",
      "850:\tlearn: 2.2727963\ttotal: 4m 37s\tremaining: 48.6s\n",
      "900:\tlearn: 2.2690991\ttotal: 4m 53s\tremaining: 32.3s\n",
      "950:\tlearn: 2.2655865\ttotal: 5m 9s\tremaining: 16s\n",
      "999:\tlearn: 2.2622841\ttotal: 5m 25s\tremaining: 0us\n",
      "2.291589201518321 0.00026743312260757543\n"
     ]
    }
   ],
   "source": [
    "scores = cross_val_score_prod(clf, X_train, y_train)\n",
    "print(np.mean(scores), np.std(scores))"
   ]
  },
  {
   "cell_type": "code",
   "execution_count": 28,
   "metadata": {},
   "outputs": [
    {
     "name": "stderr",
     "output_type": "stream",
     "text": [
      "Warning: less than 75% gpu memory available for training. Free: 6776.5 Total: 6776.5\n"
     ]
    },
    {
     "name": "stdout",
     "output_type": "stream",
     "text": [
      "0:\tlearn: 3.5465062\ttotal: 211ms\tremaining: 3m 30s\n",
      "50:\tlearn: 2.5303235\ttotal: 8.66s\tremaining: 2m 41s\n",
      "100:\tlearn: 2.4157556\ttotal: 16.8s\tremaining: 2m 29s\n",
      "150:\tlearn: 2.3824566\ttotal: 24.9s\tremaining: 2m 20s\n",
      "200:\tlearn: 2.3641908\ttotal: 33.2s\tremaining: 2m 12s\n",
      "250:\tlearn: 2.3506671\ttotal: 41.3s\tremaining: 2m 3s\n",
      "300:\tlearn: 2.3396218\ttotal: 49.6s\tremaining: 1m 55s\n",
      "350:\tlearn: 2.3302088\ttotal: 58s\tremaining: 1m 47s\n",
      "400:\tlearn: 2.3227237\ttotal: 1m 6s\tremaining: 1m 38s\n",
      "450:\tlearn: 2.3158979\ttotal: 1m 14s\tremaining: 1m 30s\n",
      "500:\tlearn: 2.3094420\ttotal: 1m 22s\tremaining: 1m 22s\n",
      "550:\tlearn: 2.3038824\ttotal: 1m 30s\tremaining: 1m 14s\n",
      "600:\tlearn: 2.2986250\ttotal: 1m 39s\tremaining: 1m 5s\n",
      "650:\tlearn: 2.2940739\ttotal: 1m 47s\tremaining: 57.4s\n",
      "700:\tlearn: 2.2897657\ttotal: 1m 55s\tremaining: 49.2s\n",
      "750:\tlearn: 2.2857990\ttotal: 2m 3s\tremaining: 41s\n",
      "800:\tlearn: 2.2816833\ttotal: 2m 11s\tremaining: 32.8s\n",
      "850:\tlearn: 2.2781491\ttotal: 2m 20s\tremaining: 24.6s\n",
      "900:\tlearn: 2.2745018\ttotal: 2m 28s\tremaining: 16.3s\n",
      "950:\tlearn: 2.2712636\ttotal: 2m 36s\tremaining: 8.06s\n",
      "999:\tlearn: 2.2682568\ttotal: 2m 44s\tremaining: 0us\n"
     ]
    }
   ],
   "source": [
    "clf.fit(X_train, y_train)\n",
    "prob = clf.predict_proba(X_test)"
   ]
  },
  {
   "cell_type": "code",
   "execution_count": 29,
   "metadata": {},
   "outputs": [
    {
     "name": "stdout",
     "output_type": "stream",
     "text": [
      "CPU times: user 2min 40s, sys: 0 ns, total: 2min 40s\n",
      "Wall time: 2min 40s\n"
     ]
    }
   ],
   "source": [
    "%%time\n",
    "submission = pd.DataFrame(np.c_[test_ID, prob], columns=[\"Id\"] + list(le.classes_))\n",
    "submission[\"Id\"] = submission[\"Id\"].astype(int)\n",
    "submission.to_csv(\"submission/v1.gz\", compression=\"gzip\", index=False)"
   ]
  }
 ],
 "metadata": {
  "kernelspec": {
   "display_name": "work",
   "language": "python",
   "name": "work"
  },
  "language_info": {
   "codemirror_mode": {
    "name": "ipython",
    "version": 3
   },
   "file_extension": ".py",
   "mimetype": "text/x-python",
   "name": "python",
   "nbconvert_exporter": "python",
   "pygments_lexer": "ipython3",
   "version": "3.7.3"
  }
 },
 "nbformat": 4,
 "nbformat_minor": 2
}
