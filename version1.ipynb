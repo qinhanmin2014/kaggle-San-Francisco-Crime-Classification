{
 "cells": [
  {
   "cell_type": "markdown",
   "metadata": {},
   "source": [
    "- Dates - timestamp of the crime incident\n",
    "- Category - category of the crime incident (only in train.csv). This is the target variable you are going to predict.\n",
    "- Descript - detailed description of the crime incident (only in train.csv)\n",
    "- DayOfWeek - the day of the week\n",
    "- PdDistrict - name of the Police Department District\n",
    "- Resolution - how the crime incident was resolved (only in train.csv)\n",
    "- Address - the approximate street address of the crime incident \n",
    "- X - Longitude\n",
    "- Y - Latitude"
   ]
  },
  {
   "cell_type": "code",
   "execution_count": 1,
   "metadata": {},
   "outputs": [],
   "source": [
    "import os\n",
    "os.environ[\"CUDA_VISIBLE_DEVICES\"] = \"0\"\n",
    "import numpy as np\n",
    "import pandas as pd\n",
    "pd.set_option(\"display.max_columns\", None)\n",
    "import matplotlib.pyplot as plt\n",
    "%matplotlib inline\n",
    "from sklearn.preprocessing import LabelEncoder, LabelBinarizer, OrdinalEncoder, OneHotEncoder\n",
    "from sklearn.compose import ColumnTransformer\n",
    "from sklearn.ensemble import RandomForestClassifier, GradientBoostingClassifier\n",
    "from sklearn.base import clone\n",
    "from sklearn.model_selection import StratifiedKFold, train_test_split\n",
    "from sklearn.metrics import log_loss\n",
    "import lightgbm as lgb\n",
    "import catboost"
   ]
  },
  {
   "cell_type": "code",
   "execution_count": 2,
   "metadata": {},
   "outputs": [],
   "source": [
    "X_train = pd.read_csv(\"data/train.csv\")\n",
    "X_test = pd.read_csv(\"data/test.csv\")"
   ]
  },
  {
   "cell_type": "code",
   "execution_count": 3,
   "metadata": {},
   "outputs": [
    {
     "data": {
      "text/html": [
       "<div>\n",
       "<style scoped>\n",
       "    .dataframe tbody tr th:only-of-type {\n",
       "        vertical-align: middle;\n",
       "    }\n",
       "\n",
       "    .dataframe tbody tr th {\n",
       "        vertical-align: top;\n",
       "    }\n",
       "\n",
       "    .dataframe thead th {\n",
       "        text-align: right;\n",
       "    }\n",
       "</style>\n",
       "<table border=\"1\" class=\"dataframe\">\n",
       "  <thead>\n",
       "    <tr style=\"text-align: right;\">\n",
       "      <th></th>\n",
       "      <th>Dates</th>\n",
       "      <th>Category</th>\n",
       "      <th>Descript</th>\n",
       "      <th>DayOfWeek</th>\n",
       "      <th>PdDistrict</th>\n",
       "      <th>Resolution</th>\n",
       "      <th>Address</th>\n",
       "      <th>X</th>\n",
       "      <th>Y</th>\n",
       "    </tr>\n",
       "  </thead>\n",
       "  <tbody>\n",
       "    <tr>\n",
       "      <th>0</th>\n",
       "      <td>2015-05-13 23:53:00</td>\n",
       "      <td>WARRANTS</td>\n",
       "      <td>WARRANT ARREST</td>\n",
       "      <td>Wednesday</td>\n",
       "      <td>NORTHERN</td>\n",
       "      <td>ARREST, BOOKED</td>\n",
       "      <td>OAK ST / LAGUNA ST</td>\n",
       "      <td>-122.425892</td>\n",
       "      <td>37.774599</td>\n",
       "    </tr>\n",
       "    <tr>\n",
       "      <th>1</th>\n",
       "      <td>2015-05-13 23:53:00</td>\n",
       "      <td>OTHER OFFENSES</td>\n",
       "      <td>TRAFFIC VIOLATION ARREST</td>\n",
       "      <td>Wednesday</td>\n",
       "      <td>NORTHERN</td>\n",
       "      <td>ARREST, BOOKED</td>\n",
       "      <td>OAK ST / LAGUNA ST</td>\n",
       "      <td>-122.425892</td>\n",
       "      <td>37.774599</td>\n",
       "    </tr>\n",
       "    <tr>\n",
       "      <th>2</th>\n",
       "      <td>2015-05-13 23:33:00</td>\n",
       "      <td>OTHER OFFENSES</td>\n",
       "      <td>TRAFFIC VIOLATION ARREST</td>\n",
       "      <td>Wednesday</td>\n",
       "      <td>NORTHERN</td>\n",
       "      <td>ARREST, BOOKED</td>\n",
       "      <td>VANNESS AV / GREENWICH ST</td>\n",
       "      <td>-122.424363</td>\n",
       "      <td>37.800414</td>\n",
       "    </tr>\n",
       "    <tr>\n",
       "      <th>3</th>\n",
       "      <td>2015-05-13 23:30:00</td>\n",
       "      <td>LARCENY/THEFT</td>\n",
       "      <td>GRAND THEFT FROM LOCKED AUTO</td>\n",
       "      <td>Wednesday</td>\n",
       "      <td>NORTHERN</td>\n",
       "      <td>NONE</td>\n",
       "      <td>1500 Block of LOMBARD ST</td>\n",
       "      <td>-122.426995</td>\n",
       "      <td>37.800873</td>\n",
       "    </tr>\n",
       "    <tr>\n",
       "      <th>4</th>\n",
       "      <td>2015-05-13 23:30:00</td>\n",
       "      <td>LARCENY/THEFT</td>\n",
       "      <td>GRAND THEFT FROM LOCKED AUTO</td>\n",
       "      <td>Wednesday</td>\n",
       "      <td>PARK</td>\n",
       "      <td>NONE</td>\n",
       "      <td>100 Block of BRODERICK ST</td>\n",
       "      <td>-122.438738</td>\n",
       "      <td>37.771541</td>\n",
       "    </tr>\n",
       "  </tbody>\n",
       "</table>\n",
       "</div>"
      ],
      "text/plain": [
       "                 Dates        Category                      Descript  \\\n",
       "0  2015-05-13 23:53:00        WARRANTS                WARRANT ARREST   \n",
       "1  2015-05-13 23:53:00  OTHER OFFENSES      TRAFFIC VIOLATION ARREST   \n",
       "2  2015-05-13 23:33:00  OTHER OFFENSES      TRAFFIC VIOLATION ARREST   \n",
       "3  2015-05-13 23:30:00   LARCENY/THEFT  GRAND THEFT FROM LOCKED AUTO   \n",
       "4  2015-05-13 23:30:00   LARCENY/THEFT  GRAND THEFT FROM LOCKED AUTO   \n",
       "\n",
       "   DayOfWeek PdDistrict      Resolution                    Address  \\\n",
       "0  Wednesday   NORTHERN  ARREST, BOOKED         OAK ST / LAGUNA ST   \n",
       "1  Wednesday   NORTHERN  ARREST, BOOKED         OAK ST / LAGUNA ST   \n",
       "2  Wednesday   NORTHERN  ARREST, BOOKED  VANNESS AV / GREENWICH ST   \n",
       "3  Wednesday   NORTHERN            NONE   1500 Block of LOMBARD ST   \n",
       "4  Wednesday       PARK            NONE  100 Block of BRODERICK ST   \n",
       "\n",
       "            X          Y  \n",
       "0 -122.425892  37.774599  \n",
       "1 -122.425892  37.774599  \n",
       "2 -122.424363  37.800414  \n",
       "3 -122.426995  37.800873  \n",
       "4 -122.438738  37.771541  "
      ]
     },
     "execution_count": 3,
     "metadata": {},
     "output_type": "execute_result"
    }
   ],
   "source": [
    "X_train[:5]"
   ]
  },
  {
   "cell_type": "code",
   "execution_count": 4,
   "metadata": {},
   "outputs": [
    {
     "name": "stdout",
     "output_type": "stream",
     "text": [
      "2323\n"
     ]
    }
   ],
   "source": [
    "print(X_train.duplicated().sum())\n",
    "X_train.drop_duplicates(inplace=True)\n",
    "assert X_train.duplicated().sum() == 0"
   ]
  },
  {
   "cell_type": "code",
   "execution_count": 5,
   "metadata": {},
   "outputs": [
    {
     "data": {
      "text/html": [
       "<div>\n",
       "<style scoped>\n",
       "    .dataframe tbody tr th:only-of-type {\n",
       "        vertical-align: middle;\n",
       "    }\n",
       "\n",
       "    .dataframe tbody tr th {\n",
       "        vertical-align: top;\n",
       "    }\n",
       "\n",
       "    .dataframe thead th {\n",
       "        text-align: right;\n",
       "    }\n",
       "</style>\n",
       "<table border=\"1\" class=\"dataframe\">\n",
       "  <thead>\n",
       "    <tr style=\"text-align: right;\">\n",
       "      <th></th>\n",
       "      <th>Id</th>\n",
       "      <th>Dates</th>\n",
       "      <th>DayOfWeek</th>\n",
       "      <th>PdDistrict</th>\n",
       "      <th>Address</th>\n",
       "      <th>X</th>\n",
       "      <th>Y</th>\n",
       "    </tr>\n",
       "  </thead>\n",
       "  <tbody>\n",
       "    <tr>\n",
       "      <th>0</th>\n",
       "      <td>0</td>\n",
       "      <td>2015-05-10 23:59:00</td>\n",
       "      <td>Sunday</td>\n",
       "      <td>BAYVIEW</td>\n",
       "      <td>2000 Block of THOMAS AV</td>\n",
       "      <td>-122.399588</td>\n",
       "      <td>37.735051</td>\n",
       "    </tr>\n",
       "    <tr>\n",
       "      <th>1</th>\n",
       "      <td>1</td>\n",
       "      <td>2015-05-10 23:51:00</td>\n",
       "      <td>Sunday</td>\n",
       "      <td>BAYVIEW</td>\n",
       "      <td>3RD ST / REVERE AV</td>\n",
       "      <td>-122.391523</td>\n",
       "      <td>37.732432</td>\n",
       "    </tr>\n",
       "    <tr>\n",
       "      <th>2</th>\n",
       "      <td>2</td>\n",
       "      <td>2015-05-10 23:50:00</td>\n",
       "      <td>Sunday</td>\n",
       "      <td>NORTHERN</td>\n",
       "      <td>2000 Block of GOUGH ST</td>\n",
       "      <td>-122.426002</td>\n",
       "      <td>37.792212</td>\n",
       "    </tr>\n",
       "    <tr>\n",
       "      <th>3</th>\n",
       "      <td>3</td>\n",
       "      <td>2015-05-10 23:45:00</td>\n",
       "      <td>Sunday</td>\n",
       "      <td>INGLESIDE</td>\n",
       "      <td>4700 Block of MISSION ST</td>\n",
       "      <td>-122.437394</td>\n",
       "      <td>37.721412</td>\n",
       "    </tr>\n",
       "    <tr>\n",
       "      <th>4</th>\n",
       "      <td>4</td>\n",
       "      <td>2015-05-10 23:45:00</td>\n",
       "      <td>Sunday</td>\n",
       "      <td>INGLESIDE</td>\n",
       "      <td>4700 Block of MISSION ST</td>\n",
       "      <td>-122.437394</td>\n",
       "      <td>37.721412</td>\n",
       "    </tr>\n",
       "  </tbody>\n",
       "</table>\n",
       "</div>"
      ],
      "text/plain": [
       "   Id                Dates DayOfWeek PdDistrict                   Address  \\\n",
       "0   0  2015-05-10 23:59:00    Sunday    BAYVIEW   2000 Block of THOMAS AV   \n",
       "1   1  2015-05-10 23:51:00    Sunday    BAYVIEW        3RD ST / REVERE AV   \n",
       "2   2  2015-05-10 23:50:00    Sunday   NORTHERN    2000 Block of GOUGH ST   \n",
       "3   3  2015-05-10 23:45:00    Sunday  INGLESIDE  4700 Block of MISSION ST   \n",
       "4   4  2015-05-10 23:45:00    Sunday  INGLESIDE  4700 Block of MISSION ST   \n",
       "\n",
       "            X          Y  \n",
       "0 -122.399588  37.735051  \n",
       "1 -122.391523  37.732432  \n",
       "2 -122.426002  37.792212  \n",
       "3 -122.437394  37.721412  \n",
       "4 -122.437394  37.721412  "
      ]
     },
     "execution_count": 5,
     "metadata": {},
     "output_type": "execute_result"
    }
   ],
   "source": [
    "X_test[:5]"
   ]
  },
  {
   "cell_type": "code",
   "execution_count": 6,
   "metadata": {},
   "outputs": [],
   "source": [
    "y_train = X_train['Category']\n",
    "X_train_description = X_train['Descript']\n",
    "X_train_resolution = X_train['Resolution']\n",
    "X_train.drop([\"Category\", \"Descript\", \"Resolution\"], axis=1, inplace=True)"
   ]
  },
  {
   "cell_type": "code",
   "execution_count": 7,
   "metadata": {},
   "outputs": [],
   "source": [
    "test_ID = X_test[\"Id\"]\n",
    "X_test.drop(\"Id\", axis=1, inplace=True)"
   ]
  },
  {
   "cell_type": "code",
   "execution_count": 8,
   "metadata": {},
   "outputs": [
    {
     "data": {
      "text/html": [
       "<div>\n",
       "<style scoped>\n",
       "    .dataframe tbody tr th:only-of-type {\n",
       "        vertical-align: middle;\n",
       "    }\n",
       "\n",
       "    .dataframe tbody tr th {\n",
       "        vertical-align: top;\n",
       "    }\n",
       "\n",
       "    .dataframe thead th {\n",
       "        text-align: right;\n",
       "    }\n",
       "</style>\n",
       "<table border=\"1\" class=\"dataframe\">\n",
       "  <thead>\n",
       "    <tr style=\"text-align: right;\">\n",
       "      <th></th>\n",
       "      <th>Dates</th>\n",
       "      <th>DayOfWeek</th>\n",
       "      <th>PdDistrict</th>\n",
       "      <th>Address</th>\n",
       "      <th>X</th>\n",
       "      <th>Y</th>\n",
       "    </tr>\n",
       "  </thead>\n",
       "  <tbody>\n",
       "    <tr>\n",
       "      <th>0</th>\n",
       "      <td>2015-05-13 23:53:00</td>\n",
       "      <td>Wednesday</td>\n",
       "      <td>NORTHERN</td>\n",
       "      <td>OAK ST / LAGUNA ST</td>\n",
       "      <td>-122.425892</td>\n",
       "      <td>37.774599</td>\n",
       "    </tr>\n",
       "    <tr>\n",
       "      <th>1</th>\n",
       "      <td>2015-05-13 23:53:00</td>\n",
       "      <td>Wednesday</td>\n",
       "      <td>NORTHERN</td>\n",
       "      <td>OAK ST / LAGUNA ST</td>\n",
       "      <td>-122.425892</td>\n",
       "      <td>37.774599</td>\n",
       "    </tr>\n",
       "    <tr>\n",
       "      <th>2</th>\n",
       "      <td>2015-05-13 23:33:00</td>\n",
       "      <td>Wednesday</td>\n",
       "      <td>NORTHERN</td>\n",
       "      <td>VANNESS AV / GREENWICH ST</td>\n",
       "      <td>-122.424363</td>\n",
       "      <td>37.800414</td>\n",
       "    </tr>\n",
       "    <tr>\n",
       "      <th>3</th>\n",
       "      <td>2015-05-13 23:30:00</td>\n",
       "      <td>Wednesday</td>\n",
       "      <td>NORTHERN</td>\n",
       "      <td>1500 Block of LOMBARD ST</td>\n",
       "      <td>-122.426995</td>\n",
       "      <td>37.800873</td>\n",
       "    </tr>\n",
       "    <tr>\n",
       "      <th>4</th>\n",
       "      <td>2015-05-13 23:30:00</td>\n",
       "      <td>Wednesday</td>\n",
       "      <td>PARK</td>\n",
       "      <td>100 Block of BRODERICK ST</td>\n",
       "      <td>-122.438738</td>\n",
       "      <td>37.771541</td>\n",
       "    </tr>\n",
       "  </tbody>\n",
       "</table>\n",
       "</div>"
      ],
      "text/plain": [
       "                 Dates  DayOfWeek PdDistrict                    Address  \\\n",
       "0  2015-05-13 23:53:00  Wednesday   NORTHERN         OAK ST / LAGUNA ST   \n",
       "1  2015-05-13 23:53:00  Wednesday   NORTHERN         OAK ST / LAGUNA ST   \n",
       "2  2015-05-13 23:33:00  Wednesday   NORTHERN  VANNESS AV / GREENWICH ST   \n",
       "3  2015-05-13 23:30:00  Wednesday   NORTHERN   1500 Block of LOMBARD ST   \n",
       "4  2015-05-13 23:30:00  Wednesday       PARK  100 Block of BRODERICK ST   \n",
       "\n",
       "            X          Y  \n",
       "0 -122.425892  37.774599  \n",
       "1 -122.425892  37.774599  \n",
       "2 -122.424363  37.800414  \n",
       "3 -122.426995  37.800873  \n",
       "4 -122.438738  37.771541  "
      ]
     },
     "execution_count": 8,
     "metadata": {},
     "output_type": "execute_result"
    }
   ],
   "source": [
    "X_train[:5]"
   ]
  },
  {
   "cell_type": "code",
   "execution_count": 9,
   "metadata": {},
   "outputs": [
    {
     "data": {
      "text/html": [
       "<div>\n",
       "<style scoped>\n",
       "    .dataframe tbody tr th:only-of-type {\n",
       "        vertical-align: middle;\n",
       "    }\n",
       "\n",
       "    .dataframe tbody tr th {\n",
       "        vertical-align: top;\n",
       "    }\n",
       "\n",
       "    .dataframe thead th {\n",
       "        text-align: right;\n",
       "    }\n",
       "</style>\n",
       "<table border=\"1\" class=\"dataframe\">\n",
       "  <thead>\n",
       "    <tr style=\"text-align: right;\">\n",
       "      <th></th>\n",
       "      <th>Dates</th>\n",
       "      <th>DayOfWeek</th>\n",
       "      <th>PdDistrict</th>\n",
       "      <th>Address</th>\n",
       "      <th>X</th>\n",
       "      <th>Y</th>\n",
       "    </tr>\n",
       "  </thead>\n",
       "  <tbody>\n",
       "    <tr>\n",
       "      <th>0</th>\n",
       "      <td>2015-05-10 23:59:00</td>\n",
       "      <td>Sunday</td>\n",
       "      <td>BAYVIEW</td>\n",
       "      <td>2000 Block of THOMAS AV</td>\n",
       "      <td>-122.399588</td>\n",
       "      <td>37.735051</td>\n",
       "    </tr>\n",
       "    <tr>\n",
       "      <th>1</th>\n",
       "      <td>2015-05-10 23:51:00</td>\n",
       "      <td>Sunday</td>\n",
       "      <td>BAYVIEW</td>\n",
       "      <td>3RD ST / REVERE AV</td>\n",
       "      <td>-122.391523</td>\n",
       "      <td>37.732432</td>\n",
       "    </tr>\n",
       "    <tr>\n",
       "      <th>2</th>\n",
       "      <td>2015-05-10 23:50:00</td>\n",
       "      <td>Sunday</td>\n",
       "      <td>NORTHERN</td>\n",
       "      <td>2000 Block of GOUGH ST</td>\n",
       "      <td>-122.426002</td>\n",
       "      <td>37.792212</td>\n",
       "    </tr>\n",
       "    <tr>\n",
       "      <th>3</th>\n",
       "      <td>2015-05-10 23:45:00</td>\n",
       "      <td>Sunday</td>\n",
       "      <td>INGLESIDE</td>\n",
       "      <td>4700 Block of MISSION ST</td>\n",
       "      <td>-122.437394</td>\n",
       "      <td>37.721412</td>\n",
       "    </tr>\n",
       "    <tr>\n",
       "      <th>4</th>\n",
       "      <td>2015-05-10 23:45:00</td>\n",
       "      <td>Sunday</td>\n",
       "      <td>INGLESIDE</td>\n",
       "      <td>4700 Block of MISSION ST</td>\n",
       "      <td>-122.437394</td>\n",
       "      <td>37.721412</td>\n",
       "    </tr>\n",
       "  </tbody>\n",
       "</table>\n",
       "</div>"
      ],
      "text/plain": [
       "                 Dates DayOfWeek PdDistrict                   Address  \\\n",
       "0  2015-05-10 23:59:00    Sunday    BAYVIEW   2000 Block of THOMAS AV   \n",
       "1  2015-05-10 23:51:00    Sunday    BAYVIEW        3RD ST / REVERE AV   \n",
       "2  2015-05-10 23:50:00    Sunday   NORTHERN    2000 Block of GOUGH ST   \n",
       "3  2015-05-10 23:45:00    Sunday  INGLESIDE  4700 Block of MISSION ST   \n",
       "4  2015-05-10 23:45:00    Sunday  INGLESIDE  4700 Block of MISSION ST   \n",
       "\n",
       "            X          Y  \n",
       "0 -122.399588  37.735051  \n",
       "1 -122.391523  37.732432  \n",
       "2 -122.426002  37.792212  \n",
       "3 -122.437394  37.721412  \n",
       "4 -122.437394  37.721412  "
      ]
     },
     "execution_count": 9,
     "metadata": {},
     "output_type": "execute_result"
    }
   ],
   "source": [
    "X_test[:5]"
   ]
  },
  {
   "cell_type": "code",
   "execution_count": 10,
   "metadata": {},
   "outputs": [
    {
     "data": {
      "text/plain": [
       "(875726, 6)"
      ]
     },
     "execution_count": 10,
     "metadata": {},
     "output_type": "execute_result"
    }
   ],
   "source": [
    "X_train.shape"
   ]
  },
  {
   "cell_type": "code",
   "execution_count": 11,
   "metadata": {},
   "outputs": [
    {
     "data": {
      "text/plain": [
       "(884262, 6)"
      ]
     },
     "execution_count": 11,
     "metadata": {},
     "output_type": "execute_result"
    }
   ],
   "source": [
    "X_test.shape"
   ]
  },
  {
   "cell_type": "code",
   "execution_count": 12,
   "metadata": {},
   "outputs": [
    {
     "data": {
      "text/plain": [
       "LARCENY/THEFT                  174320\n",
       "OTHER OFFENSES                 125960\n",
       "NON-CRIMINAL                    91915\n",
       "ASSAULT                         76815\n",
       "DRUG/NARCOTIC                   53919\n",
       "VEHICLE THEFT                   53706\n",
       "VANDALISM                       44581\n",
       "WARRANTS                        42145\n",
       "BURGLARY                        36600\n",
       "SUSPICIOUS OCC                  31394\n",
       "MISSING PERSON                  25669\n",
       "ROBBERY                         22988\n",
       "FRAUD                           16637\n",
       "FORGERY/COUNTERFEITING          10592\n",
       "SECONDARY CODES                  9979\n",
       "WEAPON LAWS                      8550\n",
       "PROSTITUTION                     7446\n",
       "TRESPASS                         7318\n",
       "STOLEN PROPERTY                  4537\n",
       "SEX OFFENSES FORCIBLE            4380\n",
       "DISORDERLY CONDUCT               4313\n",
       "DRUNKENNESS                      4277\n",
       "RECOVERED VEHICLE                3132\n",
       "KIDNAPPING                       2340\n",
       "DRIVING UNDER THE INFLUENCE      2268\n",
       "LIQUOR LAWS                      1899\n",
       "RUNAWAY                          1894\n",
       "ARSON                            1512\n",
       "LOITERING                        1207\n",
       "EMBEZZLEMENT                     1164\n",
       "SUICIDE                           508\n",
       "FAMILY OFFENSES                   488\n",
       "BAD CHECKS                        406\n",
       "BRIBERY                           289\n",
       "EXTORTION                         256\n",
       "SEX OFFENSES NON FORCIBLE         148\n",
       "GAMBLING                          146\n",
       "PORNOGRAPHY/OBSCENE MAT            22\n",
       "TREA                                6\n",
       "Name: Category, dtype: int64"
      ]
     },
     "execution_count": 12,
     "metadata": {},
     "output_type": "execute_result"
    }
   ],
   "source": [
    "y_train.value_counts()"
   ]
  },
  {
   "cell_type": "code",
   "execution_count": 13,
   "metadata": {},
   "outputs": [
    {
     "name": "stdout",
     "output_type": "stream",
     "text": [
      "['ARSON' 'ASSAULT' 'BAD CHECKS' 'BRIBERY' 'BURGLARY' 'DISORDERLY CONDUCT'\n",
      " 'DRIVING UNDER THE INFLUENCE' 'DRUG/NARCOTIC' 'DRUNKENNESS'\n",
      " 'EMBEZZLEMENT' 'EXTORTION' 'FAMILY OFFENSES' 'FORGERY/COUNTERFEITING'\n",
      " 'FRAUD' 'GAMBLING' 'KIDNAPPING' 'LARCENY/THEFT' 'LIQUOR LAWS' 'LOITERING'\n",
      " 'MISSING PERSON' 'NON-CRIMINAL' 'OTHER OFFENSES'\n",
      " 'PORNOGRAPHY/OBSCENE MAT' 'PROSTITUTION' 'RECOVERED VEHICLE' 'ROBBERY'\n",
      " 'RUNAWAY' 'SECONDARY CODES' 'SEX OFFENSES FORCIBLE'\n",
      " 'SEX OFFENSES NON FORCIBLE' 'STOLEN PROPERTY' 'SUICIDE' 'SUSPICIOUS OCC'\n",
      " 'TREA' 'TRESPASS' 'VANDALISM' 'VEHICLE THEFT' 'WARRANTS' 'WEAPON LAWS']\n"
     ]
    }
   ],
   "source": [
    "le = LabelEncoder()\n",
    "y_train = le.fit_transform(y_train)\n",
    "print(le.classes_)"
   ]
  },
  {
   "cell_type": "code",
   "execution_count": 14,
   "metadata": {},
   "outputs": [],
   "source": [
    "num_train = X_train.shape[0]\n",
    "all_data = pd.concat((X_train, X_test), ignore_index=True)"
   ]
  },
  {
   "cell_type": "code",
   "execution_count": 15,
   "metadata": {},
   "outputs": [],
   "source": [
    "date = pd.to_datetime(all_data['Dates'])\n",
    "all_data['year'] = date.dt.year\n",
    "all_data['month'] = date.dt.month\n",
    "all_data['day'] = date.dt.day\n",
    "all_data['hour'] = date.dt.hour\n",
    "all_data['minute'] = date.dt.minute\n",
    "# all_data['second'] = date.dt.second  # all zero\n",
    "all_data[\"n_days\"] = (date - date.min()).apply(lambda x: x.days)\n",
    "all_data.drop(\"Dates\", axis=1, inplace=True)"
   ]
  },
  {
   "cell_type": "code",
   "execution_count": 16,
   "metadata": {},
   "outputs": [
    {
     "data": {
      "text/plain": [
       "Friday       268074\n",
       "Wednesday    259228\n",
       "Saturday     253507\n",
       "Tuesday      251543\n",
       "Thursday     251298\n",
       "Monday       243529\n",
       "Sunday       232809\n",
       "Name: DayOfWeek, dtype: int64"
      ]
     },
     "execution_count": 16,
     "metadata": {},
     "output_type": "execute_result"
    }
   ],
   "source": [
    "all_data[\"DayOfWeek\"].value_counts()"
   ]
  },
  {
   "cell_type": "code",
   "execution_count": 17,
   "metadata": {},
   "outputs": [
    {
     "data": {
      "text/plain": [
       "SOUTHERN      313984\n",
       "MISSION       240172\n",
       "NORTHERN      212122\n",
       "BAYVIEW       178689\n",
       "CENTRAL       171397\n",
       "TENDERLOIN    163389\n",
       "INGLESIDE     158806\n",
       "TARAVAL       132017\n",
       "PARK           99360\n",
       "RICHMOND       90052\n",
       "Name: PdDistrict, dtype: int64"
      ]
     },
     "execution_count": 17,
     "metadata": {},
     "output_type": "execute_result"
    }
   ],
   "source": [
    "all_data[\"PdDistrict\"].value_counts()"
   ]
  },
  {
   "cell_type": "code",
   "execution_count": 18,
   "metadata": {},
   "outputs": [],
   "source": [
    "all_data['block'] = all_data[\"Address\"].str.contains(\"block\", case=False)\n",
    "all_data.drop(\"Address\", axis=1, inplace=True)"
   ]
  },
  {
   "cell_type": "code",
   "execution_count": 19,
   "metadata": {},
   "outputs": [],
   "source": [
    "all_data[\"X+Y\"] = all_data[\"X\"] + all_data[\"Y\"]\n",
    "all_data[\"X-Y\"] = all_data[\"X\"] - all_data[\"Y\"]\n",
    "all_data[\"XY1\"] = (all_data[\"X\"] - all_data[\"X\"].min()) ** 2 + (all_data[\"Y\"] - all_data[\"Y\"].min()) ** 2\n",
    "all_data[\"XY2\"] = (all_data[\"X\"].max() - all_data[\"X\"]) ** 2 + (all_data[\"Y\"] - all_data[\"Y\"].min()) ** 2\n",
    "all_data[\"XY3\"] = (all_data[\"X\"] - all_data[\"X\"].min()) ** 2 + (all_data[\"Y\"].max() - all_data[\"Y\"]) ** 2\n",
    "all_data[\"XY4\"] = (all_data[\"X\"].max() - all_data[\"X\"]) ** 2 + (all_data[\"Y\"].max() - all_data[\"Y\"]) ** 2"
   ]
  },
  {
   "cell_type": "code",
   "execution_count": 20,
   "metadata": {},
   "outputs": [],
   "source": [
    "categorical_features = [\"DayOfWeek\", \"PdDistrict\", \"block\"]\n",
    "ct = ColumnTransformer(transformers=[(\"categorical_features\", OrdinalEncoder(), categorical_features)],\n",
    "                       remainder=\"passthrough\")\n",
    "all_data = ct.fit_transform(all_data)"
   ]
  },
  {
   "cell_type": "code",
   "execution_count": 21,
   "metadata": {},
   "outputs": [],
   "source": [
    "X_train = all_data[:num_train]\n",
    "X_test = all_data[num_train:]"
   ]
  },
  {
   "cell_type": "code",
   "execution_count": 22,
   "metadata": {},
   "outputs": [],
   "source": [
    "def cross_val_score_prob(clf, X, y):\n",
    "    scores = []\n",
    "    cv = StratifiedKFold(n_splits=3, shuffle=True, random_state=0)\n",
    "    for train_index, test_index in cv.split(X, y):\n",
    "        est = clone(clf)\n",
    "        est.fit(X[train_index], y[train_index])\n",
    "        prob = est.predict_proba(X[test_index])\n",
    "        scores.append(log_loss(y[test_index], prob))\n",
    "    return scores"
   ]
  },
  {
   "cell_type": "code",
   "execution_count": 23,
   "metadata": {
    "scrolled": false
   },
   "outputs": [
    {
     "name": "stdout",
     "output_type": "stream",
     "text": [
      "0:\tlearn: 3.4709277\ttest: 3.4703963\tbest: 3.4703963 (0)\ttotal: 226ms\tremaining: 18m 48s\n",
      "50:\tlearn: 2.4329643\ttest: 2.4334968\tbest: 2.4334968 (50)\ttotal: 11s\tremaining: 17m 49s\n",
      "100:\tlearn: 2.3721599\ttest: 2.3743691\tbest: 2.3743691 (100)\ttotal: 21.6s\tremaining: 17m 27s\n",
      "150:\tlearn: 2.3486693\ttest: 2.3529308\tbest: 2.3529308 (150)\ttotal: 32.1s\tremaining: 17m 11s\n",
      "200:\tlearn: 2.3321422\ttest: 2.3384142\tbest: 2.3384142 (200)\ttotal: 42.7s\tremaining: 16m 58s\n",
      "250:\tlearn: 2.3193347\ttest: 2.3277720\tbest: 2.3277720 (250)\ttotal: 53.3s\tremaining: 16m 48s\n",
      "300:\tlearn: 2.3081048\ttest: 2.3185488\tbest: 2.3185488 (300)\ttotal: 1m 4s\tremaining: 16m 39s\n",
      "350:\tlearn: 2.2987179\ttest: 2.3113592\tbest: 2.3113592 (350)\ttotal: 1m 14s\tremaining: 16m 30s\n",
      "400:\tlearn: 2.2906905\ttest: 2.3053063\tbest: 2.3053063 (400)\ttotal: 1m 25s\tremaining: 16m 20s\n",
      "450:\tlearn: 2.2832250\ttest: 2.3001076\tbest: 2.3001076 (450)\ttotal: 1m 36s\tremaining: 16m 11s\n",
      "500:\tlearn: 2.2760367\ttest: 2.2950292\tbest: 2.2950292 (500)\ttotal: 1m 47s\tremaining: 16m 1s\n",
      "550:\tlearn: 2.2700858\ttest: 2.2911127\tbest: 2.2911127 (550)\ttotal: 1m 57s\tremaining: 15m 51s\n",
      "600:\tlearn: 2.2645076\ttest: 2.2876021\tbest: 2.2876021 (600)\ttotal: 2m 8s\tremaining: 15m 41s\n",
      "650:\tlearn: 2.2593401\ttest: 2.2845975\tbest: 2.2845975 (650)\ttotal: 2m 19s\tremaining: 15m 30s\n",
      "700:\tlearn: 2.2548362\ttest: 2.2820976\tbest: 2.2820976 (700)\ttotal: 2m 30s\tremaining: 15m 20s\n",
      "750:\tlearn: 2.2504697\ttest: 2.2797325\tbest: 2.2797325 (750)\ttotal: 2m 40s\tremaining: 15m 9s\n",
      "800:\tlearn: 2.2459986\ttest: 2.2771851\tbest: 2.2771851 (800)\ttotal: 2m 51s\tremaining: 14m 58s\n",
      "850:\tlearn: 2.2418492\ttest: 2.2750380\tbest: 2.2750380 (850)\ttotal: 3m 2s\tremaining: 14m 48s\n",
      "900:\tlearn: 2.2378695\ttest: 2.2730031\tbest: 2.2730031 (900)\ttotal: 3m 12s\tremaining: 14m 38s\n",
      "950:\tlearn: 2.2339386\ttest: 2.2709664\tbest: 2.2709664 (950)\ttotal: 3m 23s\tremaining: 14m 27s\n",
      "1000:\tlearn: 2.2305167\ttest: 2.2692851\tbest: 2.2692851 (1000)\ttotal: 3m 34s\tremaining: 14m 16s\n",
      "1050:\tlearn: 2.2271677\ttest: 2.2676871\tbest: 2.2676871 (1050)\ttotal: 3m 45s\tremaining: 14m 5s\n",
      "1100:\tlearn: 2.2237376\ttest: 2.2662580\tbest: 2.2662580 (1100)\ttotal: 3m 55s\tremaining: 13m 55s\n",
      "1150:\tlearn: 2.2203472\ttest: 2.2646679\tbest: 2.2646679 (1150)\ttotal: 4m 6s\tremaining: 13m 44s\n",
      "1200:\tlearn: 2.2173252\ttest: 2.2635711\tbest: 2.2635711 (1200)\ttotal: 4m 17s\tremaining: 13m 33s\n",
      "1250:\tlearn: 2.2142749\ttest: 2.2626055\tbest: 2.2626055 (1250)\ttotal: 4m 28s\tremaining: 13m 23s\n",
      "1300:\tlearn: 2.2113140\ttest: 2.2615491\tbest: 2.2615491 (1300)\ttotal: 4m 38s\tremaining: 13m 12s\n",
      "1350:\tlearn: 2.2082466\ttest: 2.2603395\tbest: 2.2603395 (1350)\ttotal: 4m 49s\tremaining: 13m 2s\n",
      "1400:\tlearn: 2.2053089\ttest: 2.2592163\tbest: 2.2592163 (1400)\ttotal: 5m\tremaining: 12m 51s\n",
      "1450:\tlearn: 2.2023471\ttest: 2.2582236\tbest: 2.2582236 (1450)\ttotal: 5m 11s\tremaining: 12m 41s\n",
      "1500:\tlearn: 2.1994330\ttest: 2.2571366\tbest: 2.2571366 (1500)\ttotal: 5m 21s\tremaining: 12m 30s\n",
      "1550:\tlearn: 2.1965940\ttest: 2.2562956\tbest: 2.2562956 (1550)\ttotal: 5m 32s\tremaining: 12m 19s\n",
      "1600:\tlearn: 2.1937594\ttest: 2.2554876\tbest: 2.2554876 (1600)\ttotal: 5m 43s\tremaining: 12m 9s\n",
      "1650:\tlearn: 2.1909830\ttest: 2.2547770\tbest: 2.2547770 (1650)\ttotal: 5m 54s\tremaining: 11m 58s\n",
      "1700:\tlearn: 2.1880213\ttest: 2.2538088\tbest: 2.2538088 (1700)\ttotal: 6m 5s\tremaining: 11m 48s\n",
      "1750:\tlearn: 2.1853524\ttest: 2.2531385\tbest: 2.2531385 (1750)\ttotal: 6m 15s\tremaining: 11m 37s\n",
      "1800:\tlearn: 2.1827917\ttest: 2.2525930\tbest: 2.2525930 (1800)\ttotal: 6m 26s\tremaining: 11m 26s\n",
      "1850:\tlearn: 2.1803062\ttest: 2.2520981\tbest: 2.2520981 (1850)\ttotal: 6m 37s\tremaining: 11m 16s\n",
      "1900:\tlearn: 2.1777553\ttest: 2.2515450\tbest: 2.2515450 (1900)\ttotal: 6m 48s\tremaining: 11m 5s\n",
      "1950:\tlearn: 2.1752618\ttest: 2.2509408\tbest: 2.2509408 (1950)\ttotal: 6m 59s\tremaining: 10m 54s\n",
      "2000:\tlearn: 2.1728320\ttest: 2.2502929\tbest: 2.2502929 (2000)\ttotal: 7m 9s\tremaining: 10m 44s\n",
      "2050:\tlearn: 2.1704566\ttest: 2.2496400\tbest: 2.2496400 (2050)\ttotal: 7m 20s\tremaining: 10m 33s\n",
      "2100:\tlearn: 2.1680257\ttest: 2.2491322\tbest: 2.2491322 (2100)\ttotal: 7m 31s\tremaining: 10m 22s\n",
      "2150:\tlearn: 2.1656362\ttest: 2.2485939\tbest: 2.2485939 (2150)\ttotal: 7m 42s\tremaining: 10m 12s\n",
      "2200:\tlearn: 2.1631419\ttest: 2.2480294\tbest: 2.2480294 (2200)\ttotal: 7m 52s\tremaining: 10m 1s\n",
      "2250:\tlearn: 2.1608236\ttest: 2.2475749\tbest: 2.2475749 (2250)\ttotal: 8m 3s\tremaining: 9m 50s\n",
      "2300:\tlearn: 2.1583257\ttest: 2.2470784\tbest: 2.2470784 (2300)\ttotal: 8m 14s\tremaining: 9m 40s\n",
      "2350:\tlearn: 2.1558356\ttest: 2.2466130\tbest: 2.2466130 (2350)\ttotal: 8m 25s\tremaining: 9m 29s\n",
      "2400:\tlearn: 2.1532467\ttest: 2.2461595\tbest: 2.2461553 (2399)\ttotal: 8m 36s\tremaining: 9m 18s\n",
      "2450:\tlearn: 2.1508964\ttest: 2.2457551\tbest: 2.2457551 (2450)\ttotal: 8m 46s\tremaining: 9m 7s\n",
      "2500:\tlearn: 2.1486431\ttest: 2.2453606\tbest: 2.2453606 (2500)\ttotal: 8m 57s\tremaining: 8m 57s\n",
      "2550:\tlearn: 2.1464224\ttest: 2.2450468\tbest: 2.2450468 (2550)\ttotal: 9m 8s\tremaining: 8m 46s\n",
      "2600:\tlearn: 2.1442037\ttest: 2.2446826\tbest: 2.2446826 (2600)\ttotal: 9m 19s\tremaining: 8m 35s\n",
      "2650:\tlearn: 2.1420354\ttest: 2.2443236\tbest: 2.2443216 (2649)\ttotal: 9m 30s\tremaining: 8m 25s\n",
      "2700:\tlearn: 2.1397463\ttest: 2.2438595\tbest: 2.2438595 (2700)\ttotal: 9m 40s\tremaining: 8m 14s\n",
      "2750:\tlearn: 2.1372468\ttest: 2.2435745\tbest: 2.2435745 (2750)\ttotal: 9m 51s\tremaining: 8m 3s\n",
      "2800:\tlearn: 2.1349712\ttest: 2.2431770\tbest: 2.2431770 (2800)\ttotal: 10m 2s\tremaining: 7m 53s\n",
      "2850:\tlearn: 2.1328457\ttest: 2.2428923\tbest: 2.2428923 (2850)\ttotal: 10m 13s\tremaining: 7m 42s\n",
      "2900:\tlearn: 2.1306144\ttest: 2.2426822\tbest: 2.2426822 (2900)\ttotal: 10m 24s\tremaining: 7m 31s\n",
      "2950:\tlearn: 2.1283589\ttest: 2.2423237\tbest: 2.2423237 (2950)\ttotal: 10m 35s\tremaining: 7m 21s\n",
      "3000:\tlearn: 2.1261141\ttest: 2.2420091\tbest: 2.2420091 (3000)\ttotal: 10m 45s\tremaining: 7m 10s\n",
      "3050:\tlearn: 2.1239652\ttest: 2.2416926\tbest: 2.2416882 (3048)\ttotal: 10m 56s\tremaining: 6m 59s\n",
      "3100:\tlearn: 2.1219100\ttest: 2.2414974\tbest: 2.2414951 (3097)\ttotal: 11m 7s\tremaining: 6m 48s\n",
      "3150:\tlearn: 2.1196991\ttest: 2.2411665\tbest: 2.2411665 (3150)\ttotal: 11m 18s\tremaining: 6m 38s\n",
      "3200:\tlearn: 2.1174417\ttest: 2.2409267\tbest: 2.2409267 (3200)\ttotal: 11m 29s\tremaining: 6m 27s\n",
      "3250:\tlearn: 2.1151773\ttest: 2.2407301\tbest: 2.2407276 (3249)\ttotal: 11m 39s\tremaining: 6m 16s\n",
      "3300:\tlearn: 2.1129123\ttest: 2.2404692\tbest: 2.2404692 (3300)\ttotal: 11m 50s\tremaining: 6m 5s\n",
      "3350:\tlearn: 2.1108765\ttest: 2.2402495\tbest: 2.2402487 (3345)\ttotal: 12m 1s\tremaining: 5m 55s\n",
      "3400:\tlearn: 2.1087346\ttest: 2.2399898\tbest: 2.2399898 (3400)\ttotal: 12m 12s\tremaining: 5m 44s\n",
      "3450:\tlearn: 2.1066798\ttest: 2.2397946\tbest: 2.2397896 (3449)\ttotal: 12m 23s\tremaining: 5m 33s\n",
      "3500:\tlearn: 2.1045299\ttest: 2.2395670\tbest: 2.2395670 (3500)\ttotal: 12m 34s\tremaining: 5m 22s\n",
      "3550:\tlearn: 2.1024617\ttest: 2.2393285\tbest: 2.2393240 (3547)\ttotal: 12m 45s\tremaining: 5m 12s\n",
      "3600:\tlearn: 2.1003540\ttest: 2.2391475\tbest: 2.2391475 (3600)\ttotal: 12m 55s\tremaining: 5m 1s\n",
      "3650:\tlearn: 2.0982393\ttest: 2.2388777\tbest: 2.2388777 (3650)\ttotal: 13m 6s\tremaining: 4m 50s\n",
      "3700:\tlearn: 2.0962663\ttest: 2.2386611\tbest: 2.2386574 (3695)\ttotal: 13m 17s\tremaining: 4m 39s\n",
      "3750:\tlearn: 2.0940811\ttest: 2.2384105\tbest: 2.2384105 (3750)\ttotal: 13m 28s\tremaining: 4m 29s\n",
      "3800:\tlearn: 2.0920808\ttest: 2.2382493\tbest: 2.2382493 (3800)\ttotal: 13m 39s\tremaining: 4m 18s\n",
      "3850:\tlearn: 2.0899279\ttest: 2.2380715\tbest: 2.2380691 (3847)\ttotal: 13m 50s\tremaining: 4m 7s\n",
      "3900:\tlearn: 2.0880158\ttest: 2.2379253\tbest: 2.2379253 (3900)\ttotal: 14m\tremaining: 3m 56s\n",
      "3950:\tlearn: 2.0860473\ttest: 2.2377550\tbest: 2.2377550 (3950)\ttotal: 14m 11s\tremaining: 3m 46s\n",
      "4000:\tlearn: 2.0840322\ttest: 2.2376252\tbest: 2.2376252 (4000)\ttotal: 14m 22s\tremaining: 3m 35s\n",
      "4050:\tlearn: 2.0820385\ttest: 2.2373758\tbest: 2.2373758 (4050)\ttotal: 14m 33s\tremaining: 3m 24s\n",
      "4100:\tlearn: 2.0799865\ttest: 2.2371934\tbest: 2.2371934 (4100)\ttotal: 14m 44s\tremaining: 3m 13s\n",
      "4150:\tlearn: 2.0780800\ttest: 2.2370254\tbest: 2.2370254 (4150)\ttotal: 14m 55s\tremaining: 3m 3s\n",
      "4200:\tlearn: 2.0760324\ttest: 2.2368863\tbest: 2.2368863 (4200)\ttotal: 15m 6s\tremaining: 2m 52s\n",
      "4250:\tlearn: 2.0741064\ttest: 2.2367340\tbest: 2.2367278 (4247)\ttotal: 15m 16s\tremaining: 2m 41s\n",
      "4300:\tlearn: 2.0721627\ttest: 2.2366357\tbest: 2.2366351 (4292)\ttotal: 15m 27s\tremaining: 2m 30s\n",
      "4350:\tlearn: 2.0702149\ttest: 2.2365984\tbest: 2.2365766 (4331)\ttotal: 15m 38s\tremaining: 2m 20s\n"
     ]
    },
    {
     "name": "stdout",
     "output_type": "stream",
     "text": [
      "4400:\tlearn: 2.0682282\ttest: 2.2365904\tbest: 2.2365766 (4331)\ttotal: 15m 49s\tremaining: 2m 9s\n",
      "4450:\tlearn: 2.0662727\ttest: 2.2364910\tbest: 2.2364887 (4436)\ttotal: 16m\tremaining: 1m 58s\n",
      "4500:\tlearn: 2.0642231\ttest: 2.2364516\tbest: 2.2364516 (4500)\ttotal: 16m 11s\tremaining: 1m 47s\n",
      "4550:\tlearn: 2.0623308\ttest: 2.2363244\tbest: 2.2363217 (4549)\ttotal: 16m 22s\tremaining: 1m 36s\n",
      "4600:\tlearn: 2.0604979\ttest: 2.2361522\tbest: 2.2361522 (4600)\ttotal: 16m 32s\tremaining: 1m 26s\n",
      "4650:\tlearn: 2.0584654\ttest: 2.2360048\tbest: 2.2360019 (4648)\ttotal: 16m 43s\tremaining: 1m 15s\n",
      "4700:\tlearn: 2.0565801\ttest: 2.2358750\tbest: 2.2358749 (4699)\ttotal: 16m 54s\tremaining: 1m 4s\n",
      "4750:\tlearn: 2.0547495\ttest: 2.2358445\tbest: 2.2358302 (4740)\ttotal: 17m 5s\tremaining: 53.8s\n",
      "4800:\tlearn: 2.0529496\ttest: 2.2357334\tbest: 2.2357300 (4798)\ttotal: 17m 16s\tremaining: 43s\n",
      "4850:\tlearn: 2.0511561\ttest: 2.2356628\tbest: 2.2356442 (4840)\ttotal: 17m 27s\tremaining: 32.2s\n",
      "4900:\tlearn: 2.0491671\ttest: 2.2355223\tbest: 2.2355209 (4896)\ttotal: 17m 38s\tremaining: 21.4s\n",
      "4950:\tlearn: 2.0474603\ttest: 2.2354527\tbest: 2.2354527 (4950)\ttotal: 17m 48s\tremaining: 10.6s\n",
      "4999:\tlearn: 2.0455651\ttest: 2.2353843\tbest: 2.2353826 (4996)\ttotal: 17m 59s\tremaining: 0us\n",
      "bestTest = 2.23538259\n",
      "bestIteration = 4996\n",
      "Shrink model to first 4997 iterations.\n"
     ]
    },
    {
     "data": {
      "text/plain": [
       "<catboost.core.CatBoostClassifier at 0x7f9756e1ec88>"
      ]
     },
     "execution_count": 23,
     "metadata": {},
     "output_type": "execute_result"
    }
   ],
   "source": [
    "X_train_1, X_train_2, y_train_1, y_train_2 = train_test_split(X_train, y_train, random_state=0, stratify=y_train)\n",
    "clf = catboost.CatBoostClassifier(n_estimators=5000, learning_rate=0.05,\n",
    "                                  cat_features=np.arange(len(categorical_features)),\n",
    "                                  random_seed=0, task_type=\"GPU\", verbose=50)\n",
    "clf.fit(X_train_1, y_train_1, eval_set=(X_train_2, y_train_2))"
   ]
  },
  {
   "cell_type": "code",
   "execution_count": 24,
   "metadata": {},
   "outputs": [],
   "source": [
    "clf = catboost.CatBoostClassifier(n_estimators=5000, learning_rate=0.05,\n",
    "                                  cat_features=np.arange(len(categorical_features)),\n",
    "                                  random_seed=0, task_type=\"GPU\", verbose=50)"
   ]
  },
  {
   "cell_type": "code",
   "execution_count": 25,
   "metadata": {},
   "outputs": [],
   "source": [
    "# scores = cross_val_score_prob(clf, X_train, y_train)\n",
    "# print(np.mean(scores), np.std(scores))"
   ]
  },
  {
   "cell_type": "code",
   "execution_count": 26,
   "metadata": {},
   "outputs": [
    {
     "name": "stdout",
     "output_type": "stream",
     "text": [
      "0:\tlearn: 3.4702610\ttotal: 294ms\tremaining: 24m 31s\n",
      "50:\tlearn: 2.4327384\ttotal: 14.6s\tremaining: 23m 36s\n",
      "100:\tlearn: 2.3704925\ttotal: 28.7s\tremaining: 23m 10s\n",
      "150:\tlearn: 2.3468701\ttotal: 42.7s\tremaining: 22m 51s\n",
      "200:\tlearn: 2.3310041\ttotal: 56.7s\tremaining: 22m 33s\n",
      "250:\tlearn: 2.3189392\ttotal: 1m 10s\tremaining: 22m 17s\n",
      "300:\tlearn: 2.3084334\ttotal: 1m 24s\tremaining: 22m 1s\n",
      "350:\tlearn: 2.2996686\ttotal: 1m 38s\tremaining: 21m 46s\n",
      "400:\tlearn: 2.2916028\ttotal: 1m 52s\tremaining: 21m 33s\n",
      "450:\tlearn: 2.2846580\ttotal: 2m 6s\tremaining: 21m 18s\n",
      "500:\tlearn: 2.2785305\ttotal: 2m 20s\tremaining: 21m 4s\n",
      "550:\tlearn: 2.2730487\ttotal: 2m 34s\tremaining: 20m 49s\n",
      "600:\tlearn: 2.2677665\ttotal: 2m 48s\tremaining: 20m 35s\n",
      "650:\tlearn: 2.2629113\ttotal: 3m 2s\tremaining: 20m 21s\n",
      "700:\tlearn: 2.2583990\ttotal: 3m 16s\tremaining: 20m 6s\n",
      "750:\tlearn: 2.2540455\ttotal: 3m 30s\tremaining: 19m 52s\n",
      "800:\tlearn: 2.2501834\ttotal: 3m 44s\tremaining: 19m 38s\n",
      "850:\tlearn: 2.2463076\ttotal: 3m 58s\tremaining: 19m 24s\n",
      "900:\tlearn: 2.2428118\ttotal: 4m 12s\tremaining: 19m 9s\n",
      "950:\tlearn: 2.2393623\ttotal: 4m 26s\tremaining: 18m 55s\n",
      "1000:\tlearn: 2.2359936\ttotal: 4m 40s\tremaining: 18m 41s\n",
      "1050:\tlearn: 2.2327546\ttotal: 4m 54s\tremaining: 18m 27s\n",
      "1100:\tlearn: 2.2297602\ttotal: 5m 8s\tremaining: 18m 13s\n",
      "1150:\tlearn: 2.2268198\ttotal: 5m 22s\tremaining: 17m 59s\n",
      "1200:\tlearn: 2.2237114\ttotal: 5m 36s\tremaining: 17m 45s\n",
      "1250:\tlearn: 2.2212102\ttotal: 5m 50s\tremaining: 17m 31s\n",
      "1300:\tlearn: 2.2184390\ttotal: 6m 4s\tremaining: 17m 17s\n",
      "1350:\tlearn: 2.2155836\ttotal: 6m 18s\tremaining: 17m 3s\n",
      "1400:\tlearn: 2.2129248\ttotal: 6m 32s\tremaining: 16m 49s\n",
      "1450:\tlearn: 2.2104084\ttotal: 6m 46s\tremaining: 16m 35s\n",
      "1500:\tlearn: 2.2078618\ttotal: 7m\tremaining: 16m 21s\n",
      "1550:\tlearn: 2.2054876\ttotal: 7m 14s\tremaining: 16m 7s\n",
      "1600:\tlearn: 2.2030784\ttotal: 7m 28s\tremaining: 15m 53s\n",
      "1650:\tlearn: 2.2006722\ttotal: 7m 43s\tremaining: 15m 39s\n",
      "1700:\tlearn: 2.1982832\ttotal: 7m 57s\tremaining: 15m 25s\n",
      "1750:\tlearn: 2.1959937\ttotal: 8m 11s\tremaining: 15m 11s\n",
      "1800:\tlearn: 2.1936328\ttotal: 8m 25s\tremaining: 14m 57s\n",
      "1850:\tlearn: 2.1912990\ttotal: 8m 39s\tremaining: 14m 43s\n",
      "1900:\tlearn: 2.1891109\ttotal: 8m 53s\tremaining: 14m 29s\n",
      "1950:\tlearn: 2.1869747\ttotal: 9m 7s\tremaining: 14m 15s\n",
      "2000:\tlearn: 2.1848699\ttotal: 9m 21s\tremaining: 14m 1s\n",
      "2050:\tlearn: 2.1826529\ttotal: 9m 35s\tremaining: 13m 47s\n",
      "2100:\tlearn: 2.1805359\ttotal: 9m 49s\tremaining: 13m 33s\n",
      "2150:\tlearn: 2.1783210\ttotal: 10m 3s\tremaining: 13m 19s\n",
      "2200:\tlearn: 2.1761134\ttotal: 10m 17s\tremaining: 13m 5s\n",
      "2250:\tlearn: 2.1740153\ttotal: 10m 31s\tremaining: 12m 51s\n",
      "2300:\tlearn: 2.1718585\ttotal: 10m 45s\tremaining: 12m 37s\n",
      "2350:\tlearn: 2.1698445\ttotal: 10m 59s\tremaining: 12m 23s\n",
      "2400:\tlearn: 2.1678089\ttotal: 11m 13s\tremaining: 12m 9s\n",
      "2450:\tlearn: 2.1658849\ttotal: 11m 27s\tremaining: 11m 55s\n",
      "2500:\tlearn: 2.1639845\ttotal: 11m 42s\tremaining: 11m 41s\n",
      "2550:\tlearn: 2.1619979\ttotal: 11m 56s\tremaining: 11m 27s\n",
      "2600:\tlearn: 2.1601247\ttotal: 12m 10s\tremaining: 11m 13s\n",
      "2650:\tlearn: 2.1583311\ttotal: 12m 24s\tremaining: 10m 59s\n",
      "2700:\tlearn: 2.1563546\ttotal: 12m 38s\tremaining: 10m 45s\n",
      "2750:\tlearn: 2.1543635\ttotal: 12m 52s\tremaining: 10m 31s\n",
      "2800:\tlearn: 2.1525035\ttotal: 13m 6s\tremaining: 10m 17s\n",
      "2850:\tlearn: 2.1505724\ttotal: 13m 20s\tremaining: 10m 3s\n",
      "2900:\tlearn: 2.1487236\ttotal: 13m 34s\tremaining: 9m 49s\n",
      "2950:\tlearn: 2.1468587\ttotal: 13m 48s\tremaining: 9m 35s\n",
      "3000:\tlearn: 2.1449363\ttotal: 14m 2s\tremaining: 9m 21s\n",
      "3050:\tlearn: 2.1431140\ttotal: 14m 17s\tremaining: 9m 7s\n",
      "3100:\tlearn: 2.1412512\ttotal: 14m 31s\tremaining: 8m 53s\n",
      "3150:\tlearn: 2.1394543\ttotal: 14m 45s\tremaining: 8m 39s\n",
      "3200:\tlearn: 2.1376142\ttotal: 14m 59s\tremaining: 8m 25s\n",
      "3250:\tlearn: 2.1357078\ttotal: 15m 13s\tremaining: 8m 11s\n",
      "3300:\tlearn: 2.1338447\ttotal: 15m 27s\tremaining: 7m 57s\n",
      "3350:\tlearn: 2.1321368\ttotal: 15m 41s\tremaining: 7m 43s\n",
      "3400:\tlearn: 2.1303888\ttotal: 15m 55s\tremaining: 7m 29s\n",
      "3450:\tlearn: 2.1285194\ttotal: 16m 9s\tremaining: 7m 15s\n",
      "3500:\tlearn: 2.1268824\ttotal: 16m 23s\tremaining: 7m 1s\n",
      "3550:\tlearn: 2.1251619\ttotal: 16m 38s\tremaining: 6m 47s\n",
      "3600:\tlearn: 2.1234997\ttotal: 16m 52s\tremaining: 6m 33s\n",
      "3650:\tlearn: 2.1217201\ttotal: 17m 6s\tremaining: 6m 19s\n",
      "3700:\tlearn: 2.1199510\ttotal: 17m 20s\tremaining: 6m 5s\n",
      "3750:\tlearn: 2.1183090\ttotal: 17m 34s\tremaining: 5m 51s\n",
      "3800:\tlearn: 2.1167326\ttotal: 17m 48s\tremaining: 5m 37s\n",
      "3850:\tlearn: 2.1150081\ttotal: 18m 2s\tremaining: 5m 23s\n",
      "3900:\tlearn: 2.1132369\ttotal: 18m 16s\tremaining: 5m 8s\n",
      "3950:\tlearn: 2.1115808\ttotal: 18m 30s\tremaining: 4m 54s\n",
      "4000:\tlearn: 2.1099269\ttotal: 18m 44s\tremaining: 4m 40s\n",
      "4050:\tlearn: 2.1081361\ttotal: 18m 59s\tremaining: 4m 26s\n",
      "4100:\tlearn: 2.1065863\ttotal: 19m 13s\tremaining: 4m 12s\n",
      "4150:\tlearn: 2.1049726\ttotal: 19m 27s\tremaining: 3m 58s\n",
      "4200:\tlearn: 2.1032853\ttotal: 19m 41s\tremaining: 3m 44s\n",
      "4250:\tlearn: 2.1017122\ttotal: 19m 55s\tremaining: 3m 30s\n",
      "4300:\tlearn: 2.1000056\ttotal: 20m 9s\tremaining: 3m 16s\n",
      "4350:\tlearn: 2.0982700\ttotal: 20m 23s\tremaining: 3m 2s\n",
      "4400:\tlearn: 2.0967060\ttotal: 20m 38s\tremaining: 2m 48s\n",
      "4450:\tlearn: 2.0950910\ttotal: 20m 52s\tremaining: 2m 34s\n",
      "4500:\tlearn: 2.0935300\ttotal: 21m 6s\tremaining: 2m 20s\n",
      "4550:\tlearn: 2.0920489\ttotal: 21m 20s\tremaining: 2m 6s\n",
      "4600:\tlearn: 2.0904645\ttotal: 21m 34s\tremaining: 1m 52s\n",
      "4650:\tlearn: 2.0889475\ttotal: 21m 48s\tremaining: 1m 38s\n",
      "4700:\tlearn: 2.0873912\ttotal: 22m 2s\tremaining: 1m 24s\n",
      "4750:\tlearn: 2.0857249\ttotal: 22m 16s\tremaining: 1m 10s\n",
      "4800:\tlearn: 2.0841026\ttotal: 22m 30s\tremaining: 56s\n",
      "4850:\tlearn: 2.0826350\ttotal: 22m 45s\tremaining: 41.9s\n",
      "4900:\tlearn: 2.0811103\ttotal: 22m 59s\tremaining: 27.9s\n",
      "4950:\tlearn: 2.0796164\ttotal: 23m 13s\tremaining: 13.8s\n",
      "4999:\tlearn: 2.0781395\ttotal: 23m 27s\tremaining: 0us\n"
     ]
    }
   ],
   "source": [
    "clf.fit(X_train, y_train)\n",
    "prob = clf.predict_proba(X_test)"
   ]
  },
  {
   "cell_type": "code",
   "execution_count": 27,
   "metadata": {},
   "outputs": [
    {
     "name": "stdout",
     "output_type": "stream",
     "text": [
      "CPU times: user 2min 30s, sys: 0 ns, total: 2min 30s\n",
      "Wall time: 2min 31s\n"
     ]
    }
   ],
   "source": [
    "%%time\n",
    "submission = pd.DataFrame(np.c_[test_ID, prob], columns=[\"Id\"] + list(le.classes_))\n",
    "submission[\"Id\"] = submission[\"Id\"].astype(int)\n",
    "submission.to_csv(\"submission/v1.gz\", compression=\"gzip\", index=False)"
   ]
  }
 ],
 "metadata": {
  "kernelspec": {
   "display_name": "work",
   "language": "python",
   "name": "work"
  },
  "language_info": {
   "codemirror_mode": {
    "name": "ipython",
    "version": 3
   },
   "file_extension": ".py",
   "mimetype": "text/x-python",
   "name": "python",
   "nbconvert_exporter": "python",
   "pygments_lexer": "ipython3",
   "version": "3.7.3"
  }
 },
 "nbformat": 4,
 "nbformat_minor": 2
}
