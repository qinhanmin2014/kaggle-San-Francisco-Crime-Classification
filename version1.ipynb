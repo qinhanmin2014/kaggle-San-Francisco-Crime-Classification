{
 "cells": [
  {
   "cell_type": "markdown",
   "metadata": {},
   "source": [
    "- Dates - timestamp of the crime incident\n",
    "- Category - category of the crime incident (only in train.csv). This is the target variable you are going to predict.\n",
    "- Descript - detailed description of the crime incident (only in train.csv)\n",
    "- DayOfWeek - the day of the week\n",
    "- PdDistrict - name of the Police Department District\n",
    "- Resolution - how the crime incident was resolved (only in train.csv)\n",
    "- Address - the approximate street address of the crime incident \n",
    "- X - Longitude\n",
    "- Y - Latitude"
   ]
  },
  {
   "cell_type": "code",
   "execution_count": 1,
   "metadata": {},
   "outputs": [],
   "source": [
    "import os\n",
    "os.environ[\"CUDA_VISIBLE_DEVICES\"] = \"0\"\n",
    "import numpy as np\n",
    "import pandas as pd\n",
    "pd.set_option(\"display.max_columns\", None)\n",
    "import matplotlib as plt\n",
    "%matplotlib inline\n",
    "from sklearn.preprocessing import LabelEncoder, LabelBinarizer, OrdinalEncoder, OneHotEncoder\n",
    "from sklearn.compose import ColumnTransformer\n",
    "from sklearn.ensemble import RandomForestClassifier, GradientBoostingClassifier\n",
    "from sklearn.base import clone\n",
    "from sklearn.model_selection import StratifiedKFold, train_test_split\n",
    "from sklearn.metrics import log_loss\n",
    "import lightgbm as lgb\n",
    "import catboost"
   ]
  },
  {
   "cell_type": "code",
   "execution_count": 2,
   "metadata": {},
   "outputs": [],
   "source": [
    "X_train = pd.read_csv(\"data/train.csv\")\n",
    "X_test = pd.read_csv(\"data/test.csv\")"
   ]
  },
  {
   "cell_type": "code",
   "execution_count": 3,
   "metadata": {},
   "outputs": [
    {
     "data": {
      "text/html": [
       "<div>\n",
       "<style scoped>\n",
       "    .dataframe tbody tr th:only-of-type {\n",
       "        vertical-align: middle;\n",
       "    }\n",
       "\n",
       "    .dataframe tbody tr th {\n",
       "        vertical-align: top;\n",
       "    }\n",
       "\n",
       "    .dataframe thead th {\n",
       "        text-align: right;\n",
       "    }\n",
       "</style>\n",
       "<table border=\"1\" class=\"dataframe\">\n",
       "  <thead>\n",
       "    <tr style=\"text-align: right;\">\n",
       "      <th></th>\n",
       "      <th>Dates</th>\n",
       "      <th>Category</th>\n",
       "      <th>Descript</th>\n",
       "      <th>DayOfWeek</th>\n",
       "      <th>PdDistrict</th>\n",
       "      <th>Resolution</th>\n",
       "      <th>Address</th>\n",
       "      <th>X</th>\n",
       "      <th>Y</th>\n",
       "    </tr>\n",
       "  </thead>\n",
       "  <tbody>\n",
       "    <tr>\n",
       "      <th>0</th>\n",
       "      <td>2015-05-13 23:53:00</td>\n",
       "      <td>WARRANTS</td>\n",
       "      <td>WARRANT ARREST</td>\n",
       "      <td>Wednesday</td>\n",
       "      <td>NORTHERN</td>\n",
       "      <td>ARREST, BOOKED</td>\n",
       "      <td>OAK ST / LAGUNA ST</td>\n",
       "      <td>-122.425892</td>\n",
       "      <td>37.774599</td>\n",
       "    </tr>\n",
       "    <tr>\n",
       "      <th>1</th>\n",
       "      <td>2015-05-13 23:53:00</td>\n",
       "      <td>OTHER OFFENSES</td>\n",
       "      <td>TRAFFIC VIOLATION ARREST</td>\n",
       "      <td>Wednesday</td>\n",
       "      <td>NORTHERN</td>\n",
       "      <td>ARREST, BOOKED</td>\n",
       "      <td>OAK ST / LAGUNA ST</td>\n",
       "      <td>-122.425892</td>\n",
       "      <td>37.774599</td>\n",
       "    </tr>\n",
       "    <tr>\n",
       "      <th>2</th>\n",
       "      <td>2015-05-13 23:33:00</td>\n",
       "      <td>OTHER OFFENSES</td>\n",
       "      <td>TRAFFIC VIOLATION ARREST</td>\n",
       "      <td>Wednesday</td>\n",
       "      <td>NORTHERN</td>\n",
       "      <td>ARREST, BOOKED</td>\n",
       "      <td>VANNESS AV / GREENWICH ST</td>\n",
       "      <td>-122.424363</td>\n",
       "      <td>37.800414</td>\n",
       "    </tr>\n",
       "    <tr>\n",
       "      <th>3</th>\n",
       "      <td>2015-05-13 23:30:00</td>\n",
       "      <td>LARCENY/THEFT</td>\n",
       "      <td>GRAND THEFT FROM LOCKED AUTO</td>\n",
       "      <td>Wednesday</td>\n",
       "      <td>NORTHERN</td>\n",
       "      <td>NONE</td>\n",
       "      <td>1500 Block of LOMBARD ST</td>\n",
       "      <td>-122.426995</td>\n",
       "      <td>37.800873</td>\n",
       "    </tr>\n",
       "    <tr>\n",
       "      <th>4</th>\n",
       "      <td>2015-05-13 23:30:00</td>\n",
       "      <td>LARCENY/THEFT</td>\n",
       "      <td>GRAND THEFT FROM LOCKED AUTO</td>\n",
       "      <td>Wednesday</td>\n",
       "      <td>PARK</td>\n",
       "      <td>NONE</td>\n",
       "      <td>100 Block of BRODERICK ST</td>\n",
       "      <td>-122.438738</td>\n",
       "      <td>37.771541</td>\n",
       "    </tr>\n",
       "  </tbody>\n",
       "</table>\n",
       "</div>"
      ],
      "text/plain": [
       "                 Dates        Category                      Descript  \\\n",
       "0  2015-05-13 23:53:00        WARRANTS                WARRANT ARREST   \n",
       "1  2015-05-13 23:53:00  OTHER OFFENSES      TRAFFIC VIOLATION ARREST   \n",
       "2  2015-05-13 23:33:00  OTHER OFFENSES      TRAFFIC VIOLATION ARREST   \n",
       "3  2015-05-13 23:30:00   LARCENY/THEFT  GRAND THEFT FROM LOCKED AUTO   \n",
       "4  2015-05-13 23:30:00   LARCENY/THEFT  GRAND THEFT FROM LOCKED AUTO   \n",
       "\n",
       "   DayOfWeek PdDistrict      Resolution                    Address  \\\n",
       "0  Wednesday   NORTHERN  ARREST, BOOKED         OAK ST / LAGUNA ST   \n",
       "1  Wednesday   NORTHERN  ARREST, BOOKED         OAK ST / LAGUNA ST   \n",
       "2  Wednesday   NORTHERN  ARREST, BOOKED  VANNESS AV / GREENWICH ST   \n",
       "3  Wednesday   NORTHERN            NONE   1500 Block of LOMBARD ST   \n",
       "4  Wednesday       PARK            NONE  100 Block of BRODERICK ST   \n",
       "\n",
       "            X          Y  \n",
       "0 -122.425892  37.774599  \n",
       "1 -122.425892  37.774599  \n",
       "2 -122.424363  37.800414  \n",
       "3 -122.426995  37.800873  \n",
       "4 -122.438738  37.771541  "
      ]
     },
     "execution_count": 3,
     "metadata": {},
     "output_type": "execute_result"
    }
   ],
   "source": [
    "X_train[:5]"
   ]
  },
  {
   "cell_type": "code",
   "execution_count": 4,
   "metadata": {},
   "outputs": [
    {
     "name": "stdout",
     "output_type": "stream",
     "text": [
      "2323\n"
     ]
    }
   ],
   "source": [
    "print(X_train.duplicated().sum())\n",
    "X_train.drop_duplicates(inplace=True)\n",
    "assert X_train.duplicated().sum() == 0"
   ]
  },
  {
   "cell_type": "code",
   "execution_count": 5,
   "metadata": {},
   "outputs": [
    {
     "data": {
      "text/html": [
       "<div>\n",
       "<style scoped>\n",
       "    .dataframe tbody tr th:only-of-type {\n",
       "        vertical-align: middle;\n",
       "    }\n",
       "\n",
       "    .dataframe tbody tr th {\n",
       "        vertical-align: top;\n",
       "    }\n",
       "\n",
       "    .dataframe thead th {\n",
       "        text-align: right;\n",
       "    }\n",
       "</style>\n",
       "<table border=\"1\" class=\"dataframe\">\n",
       "  <thead>\n",
       "    <tr style=\"text-align: right;\">\n",
       "      <th></th>\n",
       "      <th>Id</th>\n",
       "      <th>Dates</th>\n",
       "      <th>DayOfWeek</th>\n",
       "      <th>PdDistrict</th>\n",
       "      <th>Address</th>\n",
       "      <th>X</th>\n",
       "      <th>Y</th>\n",
       "    </tr>\n",
       "  </thead>\n",
       "  <tbody>\n",
       "    <tr>\n",
       "      <th>0</th>\n",
       "      <td>0</td>\n",
       "      <td>2015-05-10 23:59:00</td>\n",
       "      <td>Sunday</td>\n",
       "      <td>BAYVIEW</td>\n",
       "      <td>2000 Block of THOMAS AV</td>\n",
       "      <td>-122.399588</td>\n",
       "      <td>37.735051</td>\n",
       "    </tr>\n",
       "    <tr>\n",
       "      <th>1</th>\n",
       "      <td>1</td>\n",
       "      <td>2015-05-10 23:51:00</td>\n",
       "      <td>Sunday</td>\n",
       "      <td>BAYVIEW</td>\n",
       "      <td>3RD ST / REVERE AV</td>\n",
       "      <td>-122.391523</td>\n",
       "      <td>37.732432</td>\n",
       "    </tr>\n",
       "    <tr>\n",
       "      <th>2</th>\n",
       "      <td>2</td>\n",
       "      <td>2015-05-10 23:50:00</td>\n",
       "      <td>Sunday</td>\n",
       "      <td>NORTHERN</td>\n",
       "      <td>2000 Block of GOUGH ST</td>\n",
       "      <td>-122.426002</td>\n",
       "      <td>37.792212</td>\n",
       "    </tr>\n",
       "    <tr>\n",
       "      <th>3</th>\n",
       "      <td>3</td>\n",
       "      <td>2015-05-10 23:45:00</td>\n",
       "      <td>Sunday</td>\n",
       "      <td>INGLESIDE</td>\n",
       "      <td>4700 Block of MISSION ST</td>\n",
       "      <td>-122.437394</td>\n",
       "      <td>37.721412</td>\n",
       "    </tr>\n",
       "    <tr>\n",
       "      <th>4</th>\n",
       "      <td>4</td>\n",
       "      <td>2015-05-10 23:45:00</td>\n",
       "      <td>Sunday</td>\n",
       "      <td>INGLESIDE</td>\n",
       "      <td>4700 Block of MISSION ST</td>\n",
       "      <td>-122.437394</td>\n",
       "      <td>37.721412</td>\n",
       "    </tr>\n",
       "  </tbody>\n",
       "</table>\n",
       "</div>"
      ],
      "text/plain": [
       "   Id                Dates DayOfWeek PdDistrict                   Address  \\\n",
       "0   0  2015-05-10 23:59:00    Sunday    BAYVIEW   2000 Block of THOMAS AV   \n",
       "1   1  2015-05-10 23:51:00    Sunday    BAYVIEW        3RD ST / REVERE AV   \n",
       "2   2  2015-05-10 23:50:00    Sunday   NORTHERN    2000 Block of GOUGH ST   \n",
       "3   3  2015-05-10 23:45:00    Sunday  INGLESIDE  4700 Block of MISSION ST   \n",
       "4   4  2015-05-10 23:45:00    Sunday  INGLESIDE  4700 Block of MISSION ST   \n",
       "\n",
       "            X          Y  \n",
       "0 -122.399588  37.735051  \n",
       "1 -122.391523  37.732432  \n",
       "2 -122.426002  37.792212  \n",
       "3 -122.437394  37.721412  \n",
       "4 -122.437394  37.721412  "
      ]
     },
     "execution_count": 5,
     "metadata": {},
     "output_type": "execute_result"
    }
   ],
   "source": [
    "X_test[:5]"
   ]
  },
  {
   "cell_type": "code",
   "execution_count": 6,
   "metadata": {},
   "outputs": [],
   "source": [
    "y_train = X_train['Category']\n",
    "X_train_description = X_train['Descript']\n",
    "X_train_resolution = X_train['Resolution']\n",
    "X_train.drop([\"Category\", \"Descript\", \"Resolution\"], axis=1, inplace=True)"
   ]
  },
  {
   "cell_type": "code",
   "execution_count": 7,
   "metadata": {},
   "outputs": [],
   "source": [
    "test_ID = X_test[\"Id\"]\n",
    "X_test.drop(\"Id\", axis=1, inplace=True)"
   ]
  },
  {
   "cell_type": "code",
   "execution_count": 8,
   "metadata": {},
   "outputs": [
    {
     "data": {
      "text/html": [
       "<div>\n",
       "<style scoped>\n",
       "    .dataframe tbody tr th:only-of-type {\n",
       "        vertical-align: middle;\n",
       "    }\n",
       "\n",
       "    .dataframe tbody tr th {\n",
       "        vertical-align: top;\n",
       "    }\n",
       "\n",
       "    .dataframe thead th {\n",
       "        text-align: right;\n",
       "    }\n",
       "</style>\n",
       "<table border=\"1\" class=\"dataframe\">\n",
       "  <thead>\n",
       "    <tr style=\"text-align: right;\">\n",
       "      <th></th>\n",
       "      <th>Dates</th>\n",
       "      <th>DayOfWeek</th>\n",
       "      <th>PdDistrict</th>\n",
       "      <th>Address</th>\n",
       "      <th>X</th>\n",
       "      <th>Y</th>\n",
       "    </tr>\n",
       "  </thead>\n",
       "  <tbody>\n",
       "    <tr>\n",
       "      <th>0</th>\n",
       "      <td>2015-05-13 23:53:00</td>\n",
       "      <td>Wednesday</td>\n",
       "      <td>NORTHERN</td>\n",
       "      <td>OAK ST / LAGUNA ST</td>\n",
       "      <td>-122.425892</td>\n",
       "      <td>37.774599</td>\n",
       "    </tr>\n",
       "    <tr>\n",
       "      <th>1</th>\n",
       "      <td>2015-05-13 23:53:00</td>\n",
       "      <td>Wednesday</td>\n",
       "      <td>NORTHERN</td>\n",
       "      <td>OAK ST / LAGUNA ST</td>\n",
       "      <td>-122.425892</td>\n",
       "      <td>37.774599</td>\n",
       "    </tr>\n",
       "    <tr>\n",
       "      <th>2</th>\n",
       "      <td>2015-05-13 23:33:00</td>\n",
       "      <td>Wednesday</td>\n",
       "      <td>NORTHERN</td>\n",
       "      <td>VANNESS AV / GREENWICH ST</td>\n",
       "      <td>-122.424363</td>\n",
       "      <td>37.800414</td>\n",
       "    </tr>\n",
       "    <tr>\n",
       "      <th>3</th>\n",
       "      <td>2015-05-13 23:30:00</td>\n",
       "      <td>Wednesday</td>\n",
       "      <td>NORTHERN</td>\n",
       "      <td>1500 Block of LOMBARD ST</td>\n",
       "      <td>-122.426995</td>\n",
       "      <td>37.800873</td>\n",
       "    </tr>\n",
       "    <tr>\n",
       "      <th>4</th>\n",
       "      <td>2015-05-13 23:30:00</td>\n",
       "      <td>Wednesday</td>\n",
       "      <td>PARK</td>\n",
       "      <td>100 Block of BRODERICK ST</td>\n",
       "      <td>-122.438738</td>\n",
       "      <td>37.771541</td>\n",
       "    </tr>\n",
       "  </tbody>\n",
       "</table>\n",
       "</div>"
      ],
      "text/plain": [
       "                 Dates  DayOfWeek PdDistrict                    Address  \\\n",
       "0  2015-05-13 23:53:00  Wednesday   NORTHERN         OAK ST / LAGUNA ST   \n",
       "1  2015-05-13 23:53:00  Wednesday   NORTHERN         OAK ST / LAGUNA ST   \n",
       "2  2015-05-13 23:33:00  Wednesday   NORTHERN  VANNESS AV / GREENWICH ST   \n",
       "3  2015-05-13 23:30:00  Wednesday   NORTHERN   1500 Block of LOMBARD ST   \n",
       "4  2015-05-13 23:30:00  Wednesday       PARK  100 Block of BRODERICK ST   \n",
       "\n",
       "            X          Y  \n",
       "0 -122.425892  37.774599  \n",
       "1 -122.425892  37.774599  \n",
       "2 -122.424363  37.800414  \n",
       "3 -122.426995  37.800873  \n",
       "4 -122.438738  37.771541  "
      ]
     },
     "execution_count": 8,
     "metadata": {},
     "output_type": "execute_result"
    }
   ],
   "source": [
    "X_train[:5]"
   ]
  },
  {
   "cell_type": "code",
   "execution_count": 9,
   "metadata": {},
   "outputs": [
    {
     "data": {
      "text/html": [
       "<div>\n",
       "<style scoped>\n",
       "    .dataframe tbody tr th:only-of-type {\n",
       "        vertical-align: middle;\n",
       "    }\n",
       "\n",
       "    .dataframe tbody tr th {\n",
       "        vertical-align: top;\n",
       "    }\n",
       "\n",
       "    .dataframe thead th {\n",
       "        text-align: right;\n",
       "    }\n",
       "</style>\n",
       "<table border=\"1\" class=\"dataframe\">\n",
       "  <thead>\n",
       "    <tr style=\"text-align: right;\">\n",
       "      <th></th>\n",
       "      <th>Dates</th>\n",
       "      <th>DayOfWeek</th>\n",
       "      <th>PdDistrict</th>\n",
       "      <th>Address</th>\n",
       "      <th>X</th>\n",
       "      <th>Y</th>\n",
       "    </tr>\n",
       "  </thead>\n",
       "  <tbody>\n",
       "    <tr>\n",
       "      <th>0</th>\n",
       "      <td>2015-05-10 23:59:00</td>\n",
       "      <td>Sunday</td>\n",
       "      <td>BAYVIEW</td>\n",
       "      <td>2000 Block of THOMAS AV</td>\n",
       "      <td>-122.399588</td>\n",
       "      <td>37.735051</td>\n",
       "    </tr>\n",
       "    <tr>\n",
       "      <th>1</th>\n",
       "      <td>2015-05-10 23:51:00</td>\n",
       "      <td>Sunday</td>\n",
       "      <td>BAYVIEW</td>\n",
       "      <td>3RD ST / REVERE AV</td>\n",
       "      <td>-122.391523</td>\n",
       "      <td>37.732432</td>\n",
       "    </tr>\n",
       "    <tr>\n",
       "      <th>2</th>\n",
       "      <td>2015-05-10 23:50:00</td>\n",
       "      <td>Sunday</td>\n",
       "      <td>NORTHERN</td>\n",
       "      <td>2000 Block of GOUGH ST</td>\n",
       "      <td>-122.426002</td>\n",
       "      <td>37.792212</td>\n",
       "    </tr>\n",
       "    <tr>\n",
       "      <th>3</th>\n",
       "      <td>2015-05-10 23:45:00</td>\n",
       "      <td>Sunday</td>\n",
       "      <td>INGLESIDE</td>\n",
       "      <td>4700 Block of MISSION ST</td>\n",
       "      <td>-122.437394</td>\n",
       "      <td>37.721412</td>\n",
       "    </tr>\n",
       "    <tr>\n",
       "      <th>4</th>\n",
       "      <td>2015-05-10 23:45:00</td>\n",
       "      <td>Sunday</td>\n",
       "      <td>INGLESIDE</td>\n",
       "      <td>4700 Block of MISSION ST</td>\n",
       "      <td>-122.437394</td>\n",
       "      <td>37.721412</td>\n",
       "    </tr>\n",
       "  </tbody>\n",
       "</table>\n",
       "</div>"
      ],
      "text/plain": [
       "                 Dates DayOfWeek PdDistrict                   Address  \\\n",
       "0  2015-05-10 23:59:00    Sunday    BAYVIEW   2000 Block of THOMAS AV   \n",
       "1  2015-05-10 23:51:00    Sunday    BAYVIEW        3RD ST / REVERE AV   \n",
       "2  2015-05-10 23:50:00    Sunday   NORTHERN    2000 Block of GOUGH ST   \n",
       "3  2015-05-10 23:45:00    Sunday  INGLESIDE  4700 Block of MISSION ST   \n",
       "4  2015-05-10 23:45:00    Sunday  INGLESIDE  4700 Block of MISSION ST   \n",
       "\n",
       "            X          Y  \n",
       "0 -122.399588  37.735051  \n",
       "1 -122.391523  37.732432  \n",
       "2 -122.426002  37.792212  \n",
       "3 -122.437394  37.721412  \n",
       "4 -122.437394  37.721412  "
      ]
     },
     "execution_count": 9,
     "metadata": {},
     "output_type": "execute_result"
    }
   ],
   "source": [
    "X_test[:5]"
   ]
  },
  {
   "cell_type": "code",
   "execution_count": 10,
   "metadata": {},
   "outputs": [
    {
     "data": {
      "text/plain": [
       "(875726, 6)"
      ]
     },
     "execution_count": 10,
     "metadata": {},
     "output_type": "execute_result"
    }
   ],
   "source": [
    "X_train.shape"
   ]
  },
  {
   "cell_type": "code",
   "execution_count": 11,
   "metadata": {},
   "outputs": [
    {
     "data": {
      "text/plain": [
       "(884262, 6)"
      ]
     },
     "execution_count": 11,
     "metadata": {},
     "output_type": "execute_result"
    }
   ],
   "source": [
    "X_test.shape"
   ]
  },
  {
   "cell_type": "code",
   "execution_count": 12,
   "metadata": {},
   "outputs": [
    {
     "data": {
      "text/plain": [
       "LARCENY/THEFT                  174320\n",
       "OTHER OFFENSES                 125960\n",
       "NON-CRIMINAL                    91915\n",
       "ASSAULT                         76815\n",
       "DRUG/NARCOTIC                   53919\n",
       "VEHICLE THEFT                   53706\n",
       "VANDALISM                       44581\n",
       "WARRANTS                        42145\n",
       "BURGLARY                        36600\n",
       "SUSPICIOUS OCC                  31394\n",
       "MISSING PERSON                  25669\n",
       "ROBBERY                         22988\n",
       "FRAUD                           16637\n",
       "FORGERY/COUNTERFEITING          10592\n",
       "SECONDARY CODES                  9979\n",
       "WEAPON LAWS                      8550\n",
       "PROSTITUTION                     7446\n",
       "TRESPASS                         7318\n",
       "STOLEN PROPERTY                  4537\n",
       "SEX OFFENSES FORCIBLE            4380\n",
       "DISORDERLY CONDUCT               4313\n",
       "DRUNKENNESS                      4277\n",
       "RECOVERED VEHICLE                3132\n",
       "KIDNAPPING                       2340\n",
       "DRIVING UNDER THE INFLUENCE      2268\n",
       "LIQUOR LAWS                      1899\n",
       "RUNAWAY                          1894\n",
       "ARSON                            1512\n",
       "LOITERING                        1207\n",
       "EMBEZZLEMENT                     1164\n",
       "SUICIDE                           508\n",
       "FAMILY OFFENSES                   488\n",
       "BAD CHECKS                        406\n",
       "BRIBERY                           289\n",
       "EXTORTION                         256\n",
       "SEX OFFENSES NON FORCIBLE         148\n",
       "GAMBLING                          146\n",
       "PORNOGRAPHY/OBSCENE MAT            22\n",
       "TREA                                6\n",
       "Name: Category, dtype: int64"
      ]
     },
     "execution_count": 12,
     "metadata": {},
     "output_type": "execute_result"
    }
   ],
   "source": [
    "y_train.value_counts()"
   ]
  },
  {
   "cell_type": "code",
   "execution_count": 13,
   "metadata": {},
   "outputs": [
    {
     "name": "stdout",
     "output_type": "stream",
     "text": [
      "['ARSON' 'ASSAULT' 'BAD CHECKS' 'BRIBERY' 'BURGLARY' 'DISORDERLY CONDUCT'\n",
      " 'DRIVING UNDER THE INFLUENCE' 'DRUG/NARCOTIC' 'DRUNKENNESS'\n",
      " 'EMBEZZLEMENT' 'EXTORTION' 'FAMILY OFFENSES' 'FORGERY/COUNTERFEITING'\n",
      " 'FRAUD' 'GAMBLING' 'KIDNAPPING' 'LARCENY/THEFT' 'LIQUOR LAWS' 'LOITERING'\n",
      " 'MISSING PERSON' 'NON-CRIMINAL' 'OTHER OFFENSES'\n",
      " 'PORNOGRAPHY/OBSCENE MAT' 'PROSTITUTION' 'RECOVERED VEHICLE' 'ROBBERY'\n",
      " 'RUNAWAY' 'SECONDARY CODES' 'SEX OFFENSES FORCIBLE'\n",
      " 'SEX OFFENSES NON FORCIBLE' 'STOLEN PROPERTY' 'SUICIDE' 'SUSPICIOUS OCC'\n",
      " 'TREA' 'TRESPASS' 'VANDALISM' 'VEHICLE THEFT' 'WARRANTS' 'WEAPON LAWS']\n"
     ]
    }
   ],
   "source": [
    "le = LabelEncoder()\n",
    "y_train = le.fit_transform(y_train)\n",
    "print(le.classes_)"
   ]
  },
  {
   "cell_type": "code",
   "execution_count": 14,
   "metadata": {},
   "outputs": [],
   "source": [
    "num_train = X_train.shape[0]\n",
    "all_data = pd.concat((X_train, X_test), ignore_index=True)"
   ]
  },
  {
   "cell_type": "code",
   "execution_count": 15,
   "metadata": {},
   "outputs": [],
   "source": [
    "date = pd.to_datetime(all_data['Dates'])\n",
    "all_data['year'] = date.dt.year\n",
    "all_data['month'] = date.dt.month\n",
    "all_data['day'] = date.dt.day\n",
    "all_data['hour'] = date.dt.hour\n",
    "all_data['minute'] = date.dt.minute\n",
    "# all_data['second'] = date.dt.second  # all zero\n",
    "all_data[\"n_days\"] = (date - date.min()).apply(lambda x: x.days)\n",
    "all_data.drop(\"Dates\", axis=1, inplace=True)"
   ]
  },
  {
   "cell_type": "code",
   "execution_count": 16,
   "metadata": {},
   "outputs": [
    {
     "data": {
      "text/plain": [
       "Friday       268074\n",
       "Wednesday    259228\n",
       "Saturday     253507\n",
       "Tuesday      251543\n",
       "Thursday     251298\n",
       "Monday       243529\n",
       "Sunday       232809\n",
       "Name: DayOfWeek, dtype: int64"
      ]
     },
     "execution_count": 16,
     "metadata": {},
     "output_type": "execute_result"
    }
   ],
   "source": [
    "all_data[\"DayOfWeek\"].value_counts()"
   ]
  },
  {
   "cell_type": "code",
   "execution_count": 17,
   "metadata": {},
   "outputs": [
    {
     "data": {
      "text/plain": [
       "SOUTHERN      313984\n",
       "MISSION       240172\n",
       "NORTHERN      212122\n",
       "BAYVIEW       178689\n",
       "CENTRAL       171397\n",
       "TENDERLOIN    163389\n",
       "INGLESIDE     158806\n",
       "TARAVAL       132017\n",
       "PARK           99360\n",
       "RICHMOND       90052\n",
       "Name: PdDistrict, dtype: int64"
      ]
     },
     "execution_count": 17,
     "metadata": {},
     "output_type": "execute_result"
    }
   ],
   "source": [
    "all_data[\"PdDistrict\"].value_counts()"
   ]
  },
  {
   "cell_type": "code",
   "execution_count": 18,
   "metadata": {},
   "outputs": [],
   "source": [
    "all_data['block'] = all_data[\"Address\"].str.contains(\"block\", case=False)\n",
    "all_data.drop(\"Address\", axis=1, inplace=True)"
   ]
  },
  {
   "cell_type": "code",
   "execution_count": 19,
   "metadata": {},
   "outputs": [],
   "source": [
    "all_data[\"X+Y\"] = all_data[\"X\"] + all_data[\"Y\"]\n",
    "all_data[\"X-Y\"] = all_data[\"X\"] - all_data[\"Y\"]\n",
    "all_data[\"XY1\"] = (all_data[\"X\"] - all_data[\"X\"].min()) ** 2 + (all_data[\"Y\"] - all_data[\"Y\"].min()) ** 2\n",
    "all_data[\"XY2\"] = (all_data[\"X\"].max() - all_data[\"X\"]) ** 2 + (all_data[\"Y\"] - all_data[\"Y\"].min()) ** 2\n",
    "all_data[\"XY3\"] = (all_data[\"X\"] - all_data[\"X\"].min()) ** 2 + (all_data[\"Y\"].max() - all_data[\"Y\"]) ** 2\n",
    "all_data[\"XY4\"] = (all_data[\"X\"].max() - all_data[\"X\"]) ** 2 + (all_data[\"Y\"].max() - all_data[\"Y\"]) ** 2"
   ]
  },
  {
   "cell_type": "code",
   "execution_count": 20,
   "metadata": {},
   "outputs": [],
   "source": [
    "categorical_features = [\"DayOfWeek\", \"PdDistrict\", \"year\", \"month\", \"day\", \"hour\", \"minute\", \"block\"]\n",
    "ct = ColumnTransformer(transformers=[(\"categorical_features\", OrdinalEncoder(), categorical_features)],\n",
    "                       remainder=\"passthrough\")\n",
    "all_data = ct.fit_transform(all_data)"
   ]
  },
  {
   "cell_type": "code",
   "execution_count": 21,
   "metadata": {},
   "outputs": [],
   "source": [
    "X_train = all_data[:num_train]\n",
    "X_test = all_data[num_train:]"
   ]
  },
  {
   "cell_type": "code",
   "execution_count": 22,
   "metadata": {},
   "outputs": [],
   "source": [
    "def cross_val_score_prod(clf, X, y):\n",
    "    scores = []\n",
    "    cv = StratifiedKFold(n_splits=3, shuffle=True, random_state=0)\n",
    "    for train_index, test_index in cv.split(X, y):\n",
    "        est = clone(clf)\n",
    "        est.fit(X[train_index], y[train_index],\n",
    "                cat_features=np.arange(len(categorical_features)))\n",
    "        prob = est.predict_proba(X[test_index])\n",
    "        scores.append(log_loss(y[test_index], prob))\n",
    "    return scores"
   ]
  },
  {
   "cell_type": "code",
   "execution_count": 23,
   "metadata": {
    "scrolled": false
   },
   "outputs": [
    {
     "name": "stdout",
     "output_type": "stream",
     "text": [
      "0:\tlearn: 3.4715295\ttest: 3.4712451\tbest: 3.4712451 (0)\ttotal: 81.5ms\tremaining: 6m 47s\n",
      "50:\tlearn: 2.4366165\ttest: 2.4375908\tbest: 2.4375908 (50)\ttotal: 3.86s\tremaining: 6m 14s\n",
      "100:\tlearn: 2.3741110\ttest: 2.3767373\tbest: 2.3767373 (100)\ttotal: 7.54s\tremaining: 6m 5s\n",
      "150:\tlearn: 2.3483280\ttest: 2.3528554\tbest: 2.3528554 (150)\ttotal: 11.2s\tremaining: 5m 59s\n",
      "200:\tlearn: 2.3310937\ttest: 2.3377530\tbest: 2.3377530 (200)\ttotal: 14.9s\tremaining: 5m 55s\n",
      "250:\tlearn: 2.3180034\ttest: 2.3264521\tbest: 2.3264521 (250)\ttotal: 18.5s\tremaining: 5m 50s\n",
      "300:\tlearn: 2.3074672\ttest: 2.3176698\tbest: 2.3176698 (300)\ttotal: 22.2s\tremaining: 5m 46s\n",
      "350:\tlearn: 2.2983276\ttest: 2.3103608\tbest: 2.3103608 (350)\ttotal: 25.8s\tremaining: 5m 42s\n",
      "400:\tlearn: 2.2903115\ttest: 2.3043886\tbest: 2.3043886 (400)\ttotal: 29.5s\tremaining: 5m 38s\n",
      "450:\tlearn: 2.2830372\ttest: 2.2992941\tbest: 2.2992941 (450)\ttotal: 33.2s\tremaining: 5m 34s\n",
      "500:\tlearn: 2.2762769\ttest: 2.2946217\tbest: 2.2946217 (500)\ttotal: 36.9s\tremaining: 5m 31s\n",
      "550:\tlearn: 2.2701235\ttest: 2.2905217\tbest: 2.2905217 (550)\ttotal: 40.6s\tremaining: 5m 27s\n",
      "600:\tlearn: 2.2642783\ttest: 2.2868279\tbest: 2.2868279 (600)\ttotal: 44.3s\tremaining: 5m 24s\n",
      "650:\tlearn: 2.2589718\ttest: 2.2835605\tbest: 2.2835605 (650)\ttotal: 48s\tremaining: 5m 20s\n",
      "700:\tlearn: 2.2540831\ttest: 2.2809167\tbest: 2.2809167 (700)\ttotal: 51.7s\tremaining: 5m 17s\n",
      "750:\tlearn: 2.2494791\ttest: 2.2782212\tbest: 2.2782212 (750)\ttotal: 55.5s\tremaining: 5m 13s\n",
      "800:\tlearn: 2.2450186\ttest: 2.2761116\tbest: 2.2761116 (800)\ttotal: 59.2s\tremaining: 5m 10s\n",
      "850:\tlearn: 2.2406278\ttest: 2.2739152\tbest: 2.2739152 (850)\ttotal: 1m 2s\tremaining: 5m 7s\n",
      "900:\tlearn: 2.2365626\ttest: 2.2719407\tbest: 2.2719407 (900)\ttotal: 1m 6s\tremaining: 5m 3s\n",
      "950:\tlearn: 2.2324317\ttest: 2.2700660\tbest: 2.2700660 (950)\ttotal: 1m 10s\tremaining: 5m\n",
      "1000:\tlearn: 2.2283083\ttest: 2.2680952\tbest: 2.2680952 (1000)\ttotal: 1m 14s\tremaining: 4m 56s\n",
      "1050:\tlearn: 2.2244026\ttest: 2.2662786\tbest: 2.2662786 (1050)\ttotal: 1m 18s\tremaining: 4m 53s\n",
      "1100:\tlearn: 2.2207121\ttest: 2.2647984\tbest: 2.2647984 (1100)\ttotal: 1m 21s\tremaining: 4m 49s\n",
      "1150:\tlearn: 2.2173044\ttest: 2.2634998\tbest: 2.2634998 (1150)\ttotal: 1m 25s\tremaining: 4m 46s\n",
      "1200:\tlearn: 2.2136669\ttest: 2.2621158\tbest: 2.2621158 (1200)\ttotal: 1m 29s\tremaining: 4m 42s\n",
      "1250:\tlearn: 2.2101799\ttest: 2.2608600\tbest: 2.2608600 (1250)\ttotal: 1m 33s\tremaining: 4m 39s\n",
      "1300:\tlearn: 2.2069865\ttest: 2.2597422\tbest: 2.2597422 (1300)\ttotal: 1m 36s\tremaining: 4m 35s\n",
      "1350:\tlearn: 2.2037656\ttest: 2.2588174\tbest: 2.2588174 (1350)\ttotal: 1m 40s\tremaining: 4m 31s\n",
      "1400:\tlearn: 2.2002664\ttest: 2.2576124\tbest: 2.2576124 (1400)\ttotal: 1m 44s\tremaining: 4m 28s\n",
      "1450:\tlearn: 2.1972447\ttest: 2.2567007\tbest: 2.2567007 (1450)\ttotal: 1m 48s\tremaining: 4m 24s\n",
      "1500:\tlearn: 2.1941800\ttest: 2.2556820\tbest: 2.2556820 (1500)\ttotal: 1m 52s\tremaining: 4m 21s\n",
      "1550:\tlearn: 2.1909528\ttest: 2.2547265\tbest: 2.2547265 (1550)\ttotal: 1m 55s\tremaining: 4m 17s\n",
      "1600:\tlearn: 2.1878102\ttest: 2.2539815\tbest: 2.2539815 (1600)\ttotal: 1m 59s\tremaining: 4m 14s\n",
      "1650:\tlearn: 2.1849528\ttest: 2.2532940\tbest: 2.2532940 (1650)\ttotal: 2m 3s\tremaining: 4m 10s\n",
      "1700:\tlearn: 2.1818588\ttest: 2.2524665\tbest: 2.2524665 (1700)\ttotal: 2m 7s\tremaining: 4m 7s\n",
      "1750:\tlearn: 2.1788123\ttest: 2.2517301\tbest: 2.2517301 (1750)\ttotal: 2m 11s\tremaining: 4m 3s\n",
      "1800:\tlearn: 2.1759235\ttest: 2.2510615\tbest: 2.2510615 (1800)\ttotal: 2m 14s\tremaining: 3m 59s\n",
      "1850:\tlearn: 2.1729901\ttest: 2.2503089\tbest: 2.2503089 (1850)\ttotal: 2m 18s\tremaining: 3m 56s\n",
      "1900:\tlearn: 2.1703476\ttest: 2.2496897\tbest: 2.2496897 (1900)\ttotal: 2m 22s\tremaining: 3m 52s\n",
      "1950:\tlearn: 2.1677301\ttest: 2.2490866\tbest: 2.2490866 (1950)\ttotal: 2m 26s\tremaining: 3m 48s\n",
      "2000:\tlearn: 2.1649874\ttest: 2.2485041\tbest: 2.2485041 (2000)\ttotal: 2m 30s\tremaining: 3m 45s\n",
      "2050:\tlearn: 2.1623877\ttest: 2.2479343\tbest: 2.2479343 (2050)\ttotal: 2m 34s\tremaining: 3m 41s\n",
      "2100:\tlearn: 2.1597325\ttest: 2.2473993\tbest: 2.2473993 (2100)\ttotal: 2m 37s\tremaining: 3m 37s\n",
      "2150:\tlearn: 2.1569969\ttest: 2.2468162\tbest: 2.2468162 (2150)\ttotal: 2m 41s\tremaining: 3m 34s\n",
      "2200:\tlearn: 2.1544723\ttest: 2.2463522\tbest: 2.2463522 (2200)\ttotal: 2m 45s\tremaining: 3m 30s\n",
      "2250:\tlearn: 2.1519485\ttest: 2.2458803\tbest: 2.2458803 (2250)\ttotal: 2m 49s\tremaining: 3m 26s\n",
      "2300:\tlearn: 2.1494605\ttest: 2.2454973\tbest: 2.2454973 (2300)\ttotal: 2m 53s\tremaining: 3m 23s\n",
      "2350:\tlearn: 2.1468817\ttest: 2.2450590\tbest: 2.2450590 (2350)\ttotal: 2m 56s\tremaining: 3m 19s\n",
      "2400:\tlearn: 2.1443398\ttest: 2.2446340\tbest: 2.2446340 (2400)\ttotal: 3m\tremaining: 3m 15s\n",
      "2450:\tlearn: 2.1417612\ttest: 2.2443109\tbest: 2.2443109 (2450)\ttotal: 3m 4s\tremaining: 3m 12s\n",
      "2500:\tlearn: 2.1392166\ttest: 2.2437970\tbest: 2.2437970 (2500)\ttotal: 3m 8s\tremaining: 3m 8s\n",
      "2550:\tlearn: 2.1368174\ttest: 2.2434205\tbest: 2.2434205 (2550)\ttotal: 3m 12s\tremaining: 3m 4s\n",
      "2600:\tlearn: 2.1343865\ttest: 2.2429973\tbest: 2.2429973 (2600)\ttotal: 3m 16s\tremaining: 3m\n",
      "2650:\tlearn: 2.1319611\ttest: 2.2427295\tbest: 2.2427295 (2650)\ttotal: 3m 19s\tremaining: 2m 57s\n",
      "2700:\tlearn: 2.1295433\ttest: 2.2424259\tbest: 2.2424259 (2700)\ttotal: 3m 23s\tremaining: 2m 53s\n",
      "2750:\tlearn: 2.1271626\ttest: 2.2420766\tbest: 2.2420766 (2750)\ttotal: 3m 27s\tremaining: 2m 49s\n",
      "2800:\tlearn: 2.1247657\ttest: 2.2417567\tbest: 2.2417567 (2800)\ttotal: 3m 31s\tremaining: 2m 46s\n",
      "2850:\tlearn: 2.1223565\ttest: 2.2414244\tbest: 2.2414244 (2850)\ttotal: 3m 35s\tremaining: 2m 42s\n",
      "2900:\tlearn: 2.1198917\ttest: 2.2410891\tbest: 2.2410891 (2900)\ttotal: 3m 39s\tremaining: 2m 38s\n",
      "2950:\tlearn: 2.1174489\ttest: 2.2408707\tbest: 2.2408707 (2950)\ttotal: 3m 43s\tremaining: 2m 35s\n",
      "3000:\tlearn: 2.1150574\ttest: 2.2405984\tbest: 2.2405984 (3000)\ttotal: 3m 47s\tremaining: 2m 31s\n",
      "3050:\tlearn: 2.1127452\ttest: 2.2403066\tbest: 2.2403066 (3050)\ttotal: 3m 51s\tremaining: 2m 27s\n",
      "3100:\tlearn: 2.1104422\ttest: 2.2400765\tbest: 2.2400761 (3099)\ttotal: 3m 55s\tremaining: 2m 24s\n",
      "3150:\tlearn: 2.1080961\ttest: 2.2398557\tbest: 2.2398520 (3145)\ttotal: 3m 58s\tremaining: 2m 20s\n",
      "3200:\tlearn: 2.1057558\ttest: 2.2396352\tbest: 2.2396288 (3195)\ttotal: 4m 2s\tremaining: 2m 16s\n",
      "3250:\tlearn: 2.1036054\ttest: 2.2393493\tbest: 2.2393493 (3250)\ttotal: 4m 6s\tremaining: 2m 12s\n",
      "3300:\tlearn: 2.1013101\ttest: 2.2391101\tbest: 2.2391101 (3300)\ttotal: 4m 10s\tremaining: 2m 8s\n",
      "3350:\tlearn: 2.0991645\ttest: 2.2388685\tbest: 2.2388685 (3350)\ttotal: 4m 14s\tremaining: 2m 5s\n",
      "3400:\tlearn: 2.0970093\ttest: 2.2386357\tbest: 2.2386357 (3400)\ttotal: 4m 18s\tremaining: 2m 1s\n",
      "3450:\tlearn: 2.0948536\ttest: 2.2384693\tbest: 2.2384652 (3448)\ttotal: 4m 21s\tremaining: 1m 57s\n",
      "3500:\tlearn: 2.0926550\ttest: 2.2382234\tbest: 2.2382234 (3500)\ttotal: 4m 25s\tremaining: 1m 53s\n",
      "3550:\tlearn: 2.0904793\ttest: 2.2380544\tbest: 2.2380544 (3550)\ttotal: 4m 29s\tremaining: 1m 50s\n",
      "3600:\tlearn: 2.0883565\ttest: 2.2379016\tbest: 2.2378945 (3599)\ttotal: 4m 33s\tremaining: 1m 46s\n",
      "3650:\tlearn: 2.0863014\ttest: 2.2377478\tbest: 2.2377419 (3646)\ttotal: 4m 37s\tremaining: 1m 42s\n",
      "3700:\tlearn: 2.0841877\ttest: 2.2375367\tbest: 2.2375327 (3698)\ttotal: 4m 41s\tremaining: 1m 38s\n",
      "3750:\tlearn: 2.0821372\ttest: 2.2373651\tbest: 2.2373651 (3750)\ttotal: 4m 45s\tremaining: 1m 35s\n",
      "3800:\tlearn: 2.0800797\ttest: 2.2371787\tbest: 2.2371787 (3800)\ttotal: 4m 49s\tremaining: 1m 31s\n",
      "3850:\tlearn: 2.0778793\ttest: 2.2369499\tbest: 2.2369487 (3848)\ttotal: 4m 53s\tremaining: 1m 27s\n",
      "3900:\tlearn: 2.0758693\ttest: 2.2368599\tbest: 2.2368524 (3897)\ttotal: 4m 57s\tremaining: 1m 23s\n",
      "3950:\tlearn: 2.0739012\ttest: 2.2367269\tbest: 2.2367248 (3949)\ttotal: 5m 1s\tremaining: 1m 20s\n",
      "4000:\tlearn: 2.0718416\ttest: 2.2365837\tbest: 2.2365783 (3999)\ttotal: 5m 5s\tremaining: 1m 16s\n",
      "4050:\tlearn: 2.0698092\ttest: 2.2364677\tbest: 2.2364677 (4050)\ttotal: 5m 9s\tremaining: 1m 12s\n",
      "4100:\tlearn: 2.0676308\ttest: 2.2363623\tbest: 2.2363591 (4099)\ttotal: 5m 12s\tremaining: 1m 8s\n",
      "4150:\tlearn: 2.0655105\ttest: 2.2362796\tbest: 2.2362796 (4150)\ttotal: 5m 16s\tremaining: 1m 4s\n",
      "4200:\tlearn: 2.0635625\ttest: 2.2361822\tbest: 2.2361822 (4200)\ttotal: 5m 20s\tremaining: 1m\n",
      "4250:\tlearn: 2.0615615\ttest: 2.2360336\tbest: 2.2360336 (4250)\ttotal: 5m 24s\tremaining: 57.2s\n",
      "4300:\tlearn: 2.0596707\ttest: 2.2359143\tbest: 2.2359143 (4300)\ttotal: 5m 28s\tremaining: 53.3s\n",
      "4350:\tlearn: 2.0577156\ttest: 2.2358541\tbest: 2.2358493 (4344)\ttotal: 5m 32s\tremaining: 49.5s\n",
      "4400:\tlearn: 2.0557300\ttest: 2.2357897\tbest: 2.2357824 (4396)\ttotal: 5m 36s\tremaining: 45.7s\n"
     ]
    },
    {
     "name": "stdout",
     "output_type": "stream",
     "text": [
      "4450:\tlearn: 2.0537505\ttest: 2.2356875\tbest: 2.2356875 (4450)\ttotal: 5m 39s\tremaining: 41.9s\n",
      "4500:\tlearn: 2.0518298\ttest: 2.2355839\tbest: 2.2355771 (4494)\ttotal: 5m 43s\tremaining: 38.1s\n",
      "4550:\tlearn: 2.0499255\ttest: 2.2356055\tbest: 2.2355653 (4529)\ttotal: 5m 47s\tremaining: 34.3s\n",
      "4600:\tlearn: 2.0480109\ttest: 2.2355203\tbest: 2.2355190 (4599)\ttotal: 5m 51s\tremaining: 30.5s\n",
      "4650:\tlearn: 2.0460291\ttest: 2.2354240\tbest: 2.2354240 (4650)\ttotal: 5m 55s\tremaining: 26.7s\n",
      "4700:\tlearn: 2.0440627\ttest: 2.2353616\tbest: 2.2353616 (4700)\ttotal: 5m 59s\tremaining: 22.9s\n",
      "4750:\tlearn: 2.0420697\ttest: 2.2352661\tbest: 2.2352530 (4736)\ttotal: 6m 3s\tremaining: 19.1s\n",
      "4800:\tlearn: 2.0401334\ttest: 2.2351912\tbest: 2.2351912 (4800)\ttotal: 6m 7s\tremaining: 15.2s\n",
      "4850:\tlearn: 2.0382473\ttest: 2.2350858\tbest: 2.2350780 (4848)\ttotal: 6m 11s\tremaining: 11.4s\n",
      "4900:\tlearn: 2.0363723\ttest: 2.2350333\tbest: 2.2350333 (4900)\ttotal: 6m 15s\tremaining: 7.59s\n",
      "4950:\tlearn: 2.0345266\ttest: 2.2349474\tbest: 2.2349474 (4950)\ttotal: 6m 19s\tremaining: 3.76s\n",
      "4999:\tlearn: 2.0327500\ttest: 2.2349468\tbest: 2.2349148 (4981)\ttotal: 6m 23s\tremaining: 0us\n",
      "bestTest = 2.234914837\n",
      "bestIteration = 4981\n",
      "Shrink model to first 4982 iterations.\n"
     ]
    },
    {
     "data": {
      "text/plain": [
       "<catboost.core.CatBoostClassifier at 0x7fcee1e04da0>"
      ]
     },
     "execution_count": 23,
     "metadata": {},
     "output_type": "execute_result"
    }
   ],
   "source": [
    "X_train_1, X_train_2, y_train_1, y_train_2 = train_test_split(X_train, y_train, random_state=0, stratify=y_train)\n",
    "clf = catboost.CatBoostClassifier(n_estimators=5000, learning_rate=0.05, random_seed=0, task_type=\"GPU\", verbose=50)\n",
    "clf.fit(X_train_1, y_train_1, eval_set=(X_train_2, y_train_2))"
   ]
  },
  {
   "cell_type": "code",
   "execution_count": 24,
   "metadata": {},
   "outputs": [],
   "source": [
    "clf = catboost.CatBoostClassifier(n_estimators=5000, learning_rate=0.05, random_seed=0, task_type=\"GPU\", verbose=50)"
   ]
  },
  {
   "cell_type": "code",
   "execution_count": 25,
   "metadata": {},
   "outputs": [],
   "source": [
    "# scores = cross_val_score_prod(clf, X_train, y_train)\n",
    "# print(np.mean(scores), np.std(scores))"
   ]
  },
  {
   "cell_type": "code",
   "execution_count": 26,
   "metadata": {},
   "outputs": [
    {
     "name": "stdout",
     "output_type": "stream",
     "text": [
      "0:\tlearn: 3.4710514\ttotal: 104ms\tremaining: 8m 39s\n",
      "50:\tlearn: 2.4351041\ttotal: 4.93s\tremaining: 7m 58s\n",
      "100:\tlearn: 2.3735662\ttotal: 9.65s\tremaining: 7m 47s\n",
      "150:\tlearn: 2.3498073\ttotal: 14.4s\tremaining: 7m 41s\n",
      "200:\tlearn: 2.3325451\ttotal: 19.1s\tremaining: 7m 37s\n",
      "250:\tlearn: 2.3202509\ttotal: 23.9s\tremaining: 7m 32s\n",
      "300:\tlearn: 2.3098051\ttotal: 28.7s\tremaining: 7m 28s\n",
      "350:\tlearn: 2.3000980\ttotal: 33.6s\tremaining: 7m 24s\n",
      "400:\tlearn: 2.2922514\ttotal: 38.4s\tremaining: 7m 20s\n",
      "450:\tlearn: 2.2851027\ttotal: 43.2s\tremaining: 7m 15s\n",
      "500:\tlearn: 2.2788887\ttotal: 48s\tremaining: 7m 10s\n",
      "550:\tlearn: 2.2730053\ttotal: 52.7s\tremaining: 7m 5s\n",
      "600:\tlearn: 2.2678372\ttotal: 57.6s\tremaining: 7m 1s\n",
      "650:\tlearn: 2.2628399\ttotal: 1m 2s\tremaining: 6m 57s\n",
      "700:\tlearn: 2.2581450\ttotal: 1m 7s\tremaining: 6m 52s\n",
      "750:\tlearn: 2.2535406\ttotal: 1m 12s\tremaining: 6m 47s\n",
      "800:\tlearn: 2.2494025\ttotal: 1m 16s\tremaining: 6m 42s\n",
      "850:\tlearn: 2.2454679\ttotal: 1m 21s\tremaining: 6m 37s\n",
      "900:\tlearn: 2.2417394\ttotal: 1m 26s\tremaining: 6m 33s\n",
      "950:\tlearn: 2.2378726\ttotal: 1m 31s\tremaining: 6m 28s\n",
      "1000:\tlearn: 2.2342195\ttotal: 1m 36s\tremaining: 6m 23s\n",
      "1050:\tlearn: 2.2306887\ttotal: 1m 40s\tremaining: 6m 19s\n",
      "1100:\tlearn: 2.2273389\ttotal: 1m 45s\tremaining: 6m 14s\n",
      "1150:\tlearn: 2.2242274\ttotal: 1m 50s\tremaining: 6m 9s\n",
      "1200:\tlearn: 2.2211616\ttotal: 1m 55s\tremaining: 6m 4s\n",
      "1250:\tlearn: 2.2181350\ttotal: 2m\tremaining: 5m 59s\n",
      "1300:\tlearn: 2.2150964\ttotal: 2m 4s\tremaining: 5m 55s\n",
      "1350:\tlearn: 2.2121891\ttotal: 2m 9s\tremaining: 5m 50s\n",
      "1400:\tlearn: 2.2092672\ttotal: 2m 14s\tremaining: 5m 45s\n",
      "1450:\tlearn: 2.2063691\ttotal: 2m 19s\tremaining: 5m 40s\n",
      "1500:\tlearn: 2.2035010\ttotal: 2m 24s\tremaining: 5m 36s\n",
      "1550:\tlearn: 2.2008312\ttotal: 2m 28s\tremaining: 5m 31s\n",
      "1600:\tlearn: 2.1982745\ttotal: 2m 33s\tremaining: 5m 26s\n",
      "1650:\tlearn: 2.1957320\ttotal: 2m 38s\tremaining: 5m 21s\n",
      "1700:\tlearn: 2.1932485\ttotal: 2m 43s\tremaining: 5m 16s\n",
      "1750:\tlearn: 2.1907290\ttotal: 2m 48s\tremaining: 5m 12s\n",
      "1800:\tlearn: 2.1882901\ttotal: 2m 52s\tremaining: 5m 7s\n",
      "1850:\tlearn: 2.1857986\ttotal: 2m 57s\tremaining: 5m 2s\n",
      "1900:\tlearn: 2.1833347\ttotal: 3m 2s\tremaining: 4m 57s\n",
      "1950:\tlearn: 2.1809118\ttotal: 3m 7s\tremaining: 4m 52s\n",
      "2000:\tlearn: 2.1785507\ttotal: 3m 12s\tremaining: 4m 48s\n",
      "2050:\tlearn: 2.1761645\ttotal: 3m 17s\tremaining: 4m 43s\n",
      "2100:\tlearn: 2.1738345\ttotal: 3m 21s\tremaining: 4m 38s\n",
      "2150:\tlearn: 2.1716109\ttotal: 3m 26s\tremaining: 4m 33s\n",
      "2200:\tlearn: 2.1693679\ttotal: 3m 31s\tremaining: 4m 28s\n",
      "2250:\tlearn: 2.1670110\ttotal: 3m 36s\tremaining: 4m 24s\n",
      "2300:\tlearn: 2.1648878\ttotal: 3m 41s\tremaining: 4m 19s\n",
      "2350:\tlearn: 2.1625520\ttotal: 3m 45s\tremaining: 4m 14s\n",
      "2400:\tlearn: 2.1603771\ttotal: 3m 50s\tremaining: 4m 9s\n",
      "2450:\tlearn: 2.1582304\ttotal: 3m 55s\tremaining: 4m 4s\n",
      "2500:\tlearn: 2.1561978\ttotal: 4m\tremaining: 4m\n",
      "2550:\tlearn: 2.1539715\ttotal: 4m 5s\tremaining: 3m 55s\n",
      "2600:\tlearn: 2.1519229\ttotal: 4m 10s\tremaining: 3m 50s\n",
      "2650:\tlearn: 2.1498106\ttotal: 4m 14s\tremaining: 3m 45s\n",
      "2700:\tlearn: 2.1477931\ttotal: 4m 19s\tremaining: 3m 40s\n",
      "2750:\tlearn: 2.1457358\ttotal: 4m 24s\tremaining: 3m 36s\n",
      "2800:\tlearn: 2.1437176\ttotal: 4m 29s\tremaining: 3m 31s\n",
      "2850:\tlearn: 2.1418051\ttotal: 4m 34s\tremaining: 3m 26s\n",
      "2900:\tlearn: 2.1399075\ttotal: 4m 38s\tremaining: 3m 21s\n",
      "2950:\tlearn: 2.1380266\ttotal: 4m 43s\tremaining: 3m 16s\n",
      "3000:\tlearn: 2.1360294\ttotal: 4m 48s\tremaining: 3m 12s\n",
      "3050:\tlearn: 2.1340117\ttotal: 4m 53s\tremaining: 3m 7s\n",
      "3100:\tlearn: 2.1321556\ttotal: 4m 58s\tremaining: 3m 2s\n",
      "3150:\tlearn: 2.1302622\ttotal: 5m 2s\tremaining: 2m 57s\n",
      "3200:\tlearn: 2.1283195\ttotal: 5m 7s\tremaining: 2m 52s\n",
      "3250:\tlearn: 2.1264469\ttotal: 5m 12s\tremaining: 2m 48s\n",
      "3300:\tlearn: 2.1245878\ttotal: 5m 17s\tremaining: 2m 43s\n",
      "3350:\tlearn: 2.1226822\ttotal: 5m 22s\tremaining: 2m 38s\n",
      "3400:\tlearn: 2.1207971\ttotal: 5m 27s\tremaining: 2m 33s\n",
      "3450:\tlearn: 2.1189790\ttotal: 5m 31s\tremaining: 2m 28s\n",
      "3500:\tlearn: 2.1171438\ttotal: 5m 36s\tremaining: 2m 24s\n",
      "3550:\tlearn: 2.1153247\ttotal: 5m 41s\tremaining: 2m 19s\n",
      "3600:\tlearn: 2.1135249\ttotal: 5m 46s\tremaining: 2m 14s\n",
      "3650:\tlearn: 2.1116762\ttotal: 5m 51s\tremaining: 2m 9s\n",
      "3700:\tlearn: 2.1098324\ttotal: 5m 55s\tremaining: 2m 4s\n",
      "3750:\tlearn: 2.1080486\ttotal: 6m\tremaining: 2m\n",
      "3800:\tlearn: 2.1063753\ttotal: 6m 5s\tremaining: 1m 55s\n",
      "3850:\tlearn: 2.1047016\ttotal: 6m 10s\tremaining: 1m 50s\n",
      "3900:\tlearn: 2.1030044\ttotal: 6m 15s\tremaining: 1m 45s\n",
      "3950:\tlearn: 2.1013185\ttotal: 6m 20s\tremaining: 1m 40s\n",
      "4000:\tlearn: 2.0995321\ttotal: 6m 24s\tremaining: 1m 36s\n",
      "4050:\tlearn: 2.0978388\ttotal: 6m 29s\tremaining: 1m 31s\n",
      "4100:\tlearn: 2.0961722\ttotal: 6m 34s\tremaining: 1m 26s\n",
      "4150:\tlearn: 2.0944525\ttotal: 6m 39s\tremaining: 1m 21s\n",
      "4200:\tlearn: 2.0927332\ttotal: 6m 44s\tremaining: 1m 16s\n",
      "4250:\tlearn: 2.0911084\ttotal: 6m 48s\tremaining: 1m 12s\n",
      "4300:\tlearn: 2.0894756\ttotal: 6m 53s\tremaining: 1m 7s\n",
      "4350:\tlearn: 2.0877656\ttotal: 6m 58s\tremaining: 1m 2s\n",
      "4400:\tlearn: 2.0861270\ttotal: 7m 3s\tremaining: 57.6s\n",
      "4450:\tlearn: 2.0844157\ttotal: 7m 8s\tremaining: 52.8s\n",
      "4500:\tlearn: 2.0827189\ttotal: 7m 12s\tremaining: 48s\n",
      "4550:\tlearn: 2.0811215\ttotal: 7m 17s\tremaining: 43.2s\n",
      "4600:\tlearn: 2.0794566\ttotal: 7m 22s\tremaining: 38.4s\n",
      "4650:\tlearn: 2.0778207\ttotal: 7m 27s\tremaining: 33.6s\n",
      "4700:\tlearn: 2.0761876\ttotal: 7m 32s\tremaining: 28.8s\n",
      "4750:\tlearn: 2.0746060\ttotal: 7m 37s\tremaining: 24s\n",
      "4800:\tlearn: 2.0729622\ttotal: 7m 41s\tremaining: 19.1s\n",
      "4850:\tlearn: 2.0713935\ttotal: 7m 46s\tremaining: 14.3s\n",
      "4900:\tlearn: 2.0697978\ttotal: 7m 51s\tremaining: 9.53s\n",
      "4950:\tlearn: 2.0682354\ttotal: 7m 56s\tremaining: 4.71s\n",
      "4999:\tlearn: 2.0667422\ttotal: 8m 1s\tremaining: 0us\n"
     ]
    }
   ],
   "source": [
    "clf.fit(X_train, y_train)\n",
    "prob = clf.predict_proba(X_test)"
   ]
  },
  {
   "cell_type": "code",
   "execution_count": 27,
   "metadata": {},
   "outputs": [
    {
     "name": "stdout",
     "output_type": "stream",
     "text": [
      "CPU times: user 2min 32s, sys: 109 ms, total: 2min 32s\n",
      "Wall time: 2min 32s\n"
     ]
    }
   ],
   "source": [
    "%%time\n",
    "submission = pd.DataFrame(np.c_[test_ID, prob], columns=[\"Id\"] + list(le.classes_))\n",
    "submission[\"Id\"] = submission[\"Id\"].astype(int)\n",
    "submission.to_csv(\"submission/v5.gz\", compression=\"gzip\", index=False)"
   ]
  }
 ],
 "metadata": {
  "kernelspec": {
   "display_name": "work",
   "language": "python",
   "name": "work"
  },
  "language_info": {
   "codemirror_mode": {
    "name": "ipython",
    "version": 3
   },
   "file_extension": ".py",
   "mimetype": "text/x-python",
   "name": "python",
   "nbconvert_exporter": "python",
   "pygments_lexer": "ipython3",
   "version": "3.7.3"
  }
 },
 "nbformat": 4,
 "nbformat_minor": 2
}
