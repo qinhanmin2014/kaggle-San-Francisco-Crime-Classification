{
 "cells": [
  {
   "cell_type": "markdown",
   "metadata": {},
   "source": [
    "- Dates - timestamp of the crime incident\n",
    "- Category - category of the crime incident (only in train.csv). This is the target variable you are going to predict.\n",
    "- Descript - detailed description of the crime incident (only in train.csv)\n",
    "- DayOfWeek - the day of the week\n",
    "- PdDistrict - name of the Police Department District\n",
    "- Resolution - how the crime incident was resolved (only in train.csv)\n",
    "- Address - the approximate street address of the crime incident \n",
    "- X - Longitude\n",
    "- Y - Latitude"
   ]
  },
  {
   "cell_type": "code",
   "execution_count": 1,
   "metadata": {},
   "outputs": [],
   "source": [
    "import os\n",
    "os.environ[\"CUDA_VISIBLE_DEVICES\"] = \"0\"\n",
    "import numpy as np\n",
    "import pandas as pd\n",
    "pd.set_option(\"display.max_columns\", None)\n",
    "import matplotlib as plt\n",
    "%matplotlib inline\n",
    "from sklearn.preprocessing import LabelEncoder, LabelBinarizer, OrdinalEncoder, OneHotEncoder\n",
    "from sklearn.compose import ColumnTransformer\n",
    "from sklearn.ensemble import RandomForestClassifier, GradientBoostingClassifier\n",
    "from sklearn.base import clone\n",
    "from sklearn.model_selection import StratifiedKFold\n",
    "from sklearn.metrics import log_loss\n",
    "import lightgbm as lgb\n",
    "import catboost"
   ]
  },
  {
   "cell_type": "code",
   "execution_count": 2,
   "metadata": {},
   "outputs": [],
   "source": [
    "X_train = pd.read_csv(\"data/train.csv\")\n",
    "X_test = pd.read_csv(\"data/test.csv\")"
   ]
  },
  {
   "cell_type": "code",
   "execution_count": 3,
   "metadata": {},
   "outputs": [
    {
     "data": {
      "text/html": [
       "<div>\n",
       "<style scoped>\n",
       "    .dataframe tbody tr th:only-of-type {\n",
       "        vertical-align: middle;\n",
       "    }\n",
       "\n",
       "    .dataframe tbody tr th {\n",
       "        vertical-align: top;\n",
       "    }\n",
       "\n",
       "    .dataframe thead th {\n",
       "        text-align: right;\n",
       "    }\n",
       "</style>\n",
       "<table border=\"1\" class=\"dataframe\">\n",
       "  <thead>\n",
       "    <tr style=\"text-align: right;\">\n",
       "      <th></th>\n",
       "      <th>Dates</th>\n",
       "      <th>Category</th>\n",
       "      <th>Descript</th>\n",
       "      <th>DayOfWeek</th>\n",
       "      <th>PdDistrict</th>\n",
       "      <th>Resolution</th>\n",
       "      <th>Address</th>\n",
       "      <th>X</th>\n",
       "      <th>Y</th>\n",
       "    </tr>\n",
       "  </thead>\n",
       "  <tbody>\n",
       "    <tr>\n",
       "      <th>0</th>\n",
       "      <td>2015-05-13 23:53:00</td>\n",
       "      <td>WARRANTS</td>\n",
       "      <td>WARRANT ARREST</td>\n",
       "      <td>Wednesday</td>\n",
       "      <td>NORTHERN</td>\n",
       "      <td>ARREST, BOOKED</td>\n",
       "      <td>OAK ST / LAGUNA ST</td>\n",
       "      <td>-122.425892</td>\n",
       "      <td>37.774599</td>\n",
       "    </tr>\n",
       "    <tr>\n",
       "      <th>1</th>\n",
       "      <td>2015-05-13 23:53:00</td>\n",
       "      <td>OTHER OFFENSES</td>\n",
       "      <td>TRAFFIC VIOLATION ARREST</td>\n",
       "      <td>Wednesday</td>\n",
       "      <td>NORTHERN</td>\n",
       "      <td>ARREST, BOOKED</td>\n",
       "      <td>OAK ST / LAGUNA ST</td>\n",
       "      <td>-122.425892</td>\n",
       "      <td>37.774599</td>\n",
       "    </tr>\n",
       "    <tr>\n",
       "      <th>2</th>\n",
       "      <td>2015-05-13 23:33:00</td>\n",
       "      <td>OTHER OFFENSES</td>\n",
       "      <td>TRAFFIC VIOLATION ARREST</td>\n",
       "      <td>Wednesday</td>\n",
       "      <td>NORTHERN</td>\n",
       "      <td>ARREST, BOOKED</td>\n",
       "      <td>VANNESS AV / GREENWICH ST</td>\n",
       "      <td>-122.424363</td>\n",
       "      <td>37.800414</td>\n",
       "    </tr>\n",
       "    <tr>\n",
       "      <th>3</th>\n",
       "      <td>2015-05-13 23:30:00</td>\n",
       "      <td>LARCENY/THEFT</td>\n",
       "      <td>GRAND THEFT FROM LOCKED AUTO</td>\n",
       "      <td>Wednesday</td>\n",
       "      <td>NORTHERN</td>\n",
       "      <td>NONE</td>\n",
       "      <td>1500 Block of LOMBARD ST</td>\n",
       "      <td>-122.426995</td>\n",
       "      <td>37.800873</td>\n",
       "    </tr>\n",
       "    <tr>\n",
       "      <th>4</th>\n",
       "      <td>2015-05-13 23:30:00</td>\n",
       "      <td>LARCENY/THEFT</td>\n",
       "      <td>GRAND THEFT FROM LOCKED AUTO</td>\n",
       "      <td>Wednesday</td>\n",
       "      <td>PARK</td>\n",
       "      <td>NONE</td>\n",
       "      <td>100 Block of BRODERICK ST</td>\n",
       "      <td>-122.438738</td>\n",
       "      <td>37.771541</td>\n",
       "    </tr>\n",
       "  </tbody>\n",
       "</table>\n",
       "</div>"
      ],
      "text/plain": [
       "                 Dates        Category                      Descript  \\\n",
       "0  2015-05-13 23:53:00        WARRANTS                WARRANT ARREST   \n",
       "1  2015-05-13 23:53:00  OTHER OFFENSES      TRAFFIC VIOLATION ARREST   \n",
       "2  2015-05-13 23:33:00  OTHER OFFENSES      TRAFFIC VIOLATION ARREST   \n",
       "3  2015-05-13 23:30:00   LARCENY/THEFT  GRAND THEFT FROM LOCKED AUTO   \n",
       "4  2015-05-13 23:30:00   LARCENY/THEFT  GRAND THEFT FROM LOCKED AUTO   \n",
       "\n",
       "   DayOfWeek PdDistrict      Resolution                    Address  \\\n",
       "0  Wednesday   NORTHERN  ARREST, BOOKED         OAK ST / LAGUNA ST   \n",
       "1  Wednesday   NORTHERN  ARREST, BOOKED         OAK ST / LAGUNA ST   \n",
       "2  Wednesday   NORTHERN  ARREST, BOOKED  VANNESS AV / GREENWICH ST   \n",
       "3  Wednesday   NORTHERN            NONE   1500 Block of LOMBARD ST   \n",
       "4  Wednesday       PARK            NONE  100 Block of BRODERICK ST   \n",
       "\n",
       "            X          Y  \n",
       "0 -122.425892  37.774599  \n",
       "1 -122.425892  37.774599  \n",
       "2 -122.424363  37.800414  \n",
       "3 -122.426995  37.800873  \n",
       "4 -122.438738  37.771541  "
      ]
     },
     "execution_count": 3,
     "metadata": {},
     "output_type": "execute_result"
    }
   ],
   "source": [
    "X_train[:5]"
   ]
  },
  {
   "cell_type": "code",
   "execution_count": 4,
   "metadata": {},
   "outputs": [
    {
     "data": {
      "text/html": [
       "<div>\n",
       "<style scoped>\n",
       "    .dataframe tbody tr th:only-of-type {\n",
       "        vertical-align: middle;\n",
       "    }\n",
       "\n",
       "    .dataframe tbody tr th {\n",
       "        vertical-align: top;\n",
       "    }\n",
       "\n",
       "    .dataframe thead th {\n",
       "        text-align: right;\n",
       "    }\n",
       "</style>\n",
       "<table border=\"1\" class=\"dataframe\">\n",
       "  <thead>\n",
       "    <tr style=\"text-align: right;\">\n",
       "      <th></th>\n",
       "      <th>Id</th>\n",
       "      <th>Dates</th>\n",
       "      <th>DayOfWeek</th>\n",
       "      <th>PdDistrict</th>\n",
       "      <th>Address</th>\n",
       "      <th>X</th>\n",
       "      <th>Y</th>\n",
       "    </tr>\n",
       "  </thead>\n",
       "  <tbody>\n",
       "    <tr>\n",
       "      <th>0</th>\n",
       "      <td>0</td>\n",
       "      <td>2015-05-10 23:59:00</td>\n",
       "      <td>Sunday</td>\n",
       "      <td>BAYVIEW</td>\n",
       "      <td>2000 Block of THOMAS AV</td>\n",
       "      <td>-122.399588</td>\n",
       "      <td>37.735051</td>\n",
       "    </tr>\n",
       "    <tr>\n",
       "      <th>1</th>\n",
       "      <td>1</td>\n",
       "      <td>2015-05-10 23:51:00</td>\n",
       "      <td>Sunday</td>\n",
       "      <td>BAYVIEW</td>\n",
       "      <td>3RD ST / REVERE AV</td>\n",
       "      <td>-122.391523</td>\n",
       "      <td>37.732432</td>\n",
       "    </tr>\n",
       "    <tr>\n",
       "      <th>2</th>\n",
       "      <td>2</td>\n",
       "      <td>2015-05-10 23:50:00</td>\n",
       "      <td>Sunday</td>\n",
       "      <td>NORTHERN</td>\n",
       "      <td>2000 Block of GOUGH ST</td>\n",
       "      <td>-122.426002</td>\n",
       "      <td>37.792212</td>\n",
       "    </tr>\n",
       "    <tr>\n",
       "      <th>3</th>\n",
       "      <td>3</td>\n",
       "      <td>2015-05-10 23:45:00</td>\n",
       "      <td>Sunday</td>\n",
       "      <td>INGLESIDE</td>\n",
       "      <td>4700 Block of MISSION ST</td>\n",
       "      <td>-122.437394</td>\n",
       "      <td>37.721412</td>\n",
       "    </tr>\n",
       "    <tr>\n",
       "      <th>4</th>\n",
       "      <td>4</td>\n",
       "      <td>2015-05-10 23:45:00</td>\n",
       "      <td>Sunday</td>\n",
       "      <td>INGLESIDE</td>\n",
       "      <td>4700 Block of MISSION ST</td>\n",
       "      <td>-122.437394</td>\n",
       "      <td>37.721412</td>\n",
       "    </tr>\n",
       "  </tbody>\n",
       "</table>\n",
       "</div>"
      ],
      "text/plain": [
       "   Id                Dates DayOfWeek PdDistrict                   Address  \\\n",
       "0   0  2015-05-10 23:59:00    Sunday    BAYVIEW   2000 Block of THOMAS AV   \n",
       "1   1  2015-05-10 23:51:00    Sunday    BAYVIEW        3RD ST / REVERE AV   \n",
       "2   2  2015-05-10 23:50:00    Sunday   NORTHERN    2000 Block of GOUGH ST   \n",
       "3   3  2015-05-10 23:45:00    Sunday  INGLESIDE  4700 Block of MISSION ST   \n",
       "4   4  2015-05-10 23:45:00    Sunday  INGLESIDE  4700 Block of MISSION ST   \n",
       "\n",
       "            X          Y  \n",
       "0 -122.399588  37.735051  \n",
       "1 -122.391523  37.732432  \n",
       "2 -122.426002  37.792212  \n",
       "3 -122.437394  37.721412  \n",
       "4 -122.437394  37.721412  "
      ]
     },
     "execution_count": 4,
     "metadata": {},
     "output_type": "execute_result"
    }
   ],
   "source": [
    "X_test[:5]"
   ]
  },
  {
   "cell_type": "code",
   "execution_count": 5,
   "metadata": {},
   "outputs": [],
   "source": [
    "y_train = X_train['Category']\n",
    "X_train_description = X_train['Descript']\n",
    "X_train_resolution = X_train['Resolution']\n",
    "X_train.drop([\"Category\", \"Descript\", \"Resolution\"], axis=1, inplace=True)"
   ]
  },
  {
   "cell_type": "code",
   "execution_count": 6,
   "metadata": {},
   "outputs": [],
   "source": [
    "test_ID = X_test[\"Id\"]\n",
    "X_test.drop(\"Id\", axis=1, inplace=True)"
   ]
  },
  {
   "cell_type": "code",
   "execution_count": 7,
   "metadata": {},
   "outputs": [
    {
     "data": {
      "text/html": [
       "<div>\n",
       "<style scoped>\n",
       "    .dataframe tbody tr th:only-of-type {\n",
       "        vertical-align: middle;\n",
       "    }\n",
       "\n",
       "    .dataframe tbody tr th {\n",
       "        vertical-align: top;\n",
       "    }\n",
       "\n",
       "    .dataframe thead th {\n",
       "        text-align: right;\n",
       "    }\n",
       "</style>\n",
       "<table border=\"1\" class=\"dataframe\">\n",
       "  <thead>\n",
       "    <tr style=\"text-align: right;\">\n",
       "      <th></th>\n",
       "      <th>Dates</th>\n",
       "      <th>DayOfWeek</th>\n",
       "      <th>PdDistrict</th>\n",
       "      <th>Address</th>\n",
       "      <th>X</th>\n",
       "      <th>Y</th>\n",
       "    </tr>\n",
       "  </thead>\n",
       "  <tbody>\n",
       "    <tr>\n",
       "      <th>0</th>\n",
       "      <td>2015-05-13 23:53:00</td>\n",
       "      <td>Wednesday</td>\n",
       "      <td>NORTHERN</td>\n",
       "      <td>OAK ST / LAGUNA ST</td>\n",
       "      <td>-122.425892</td>\n",
       "      <td>37.774599</td>\n",
       "    </tr>\n",
       "    <tr>\n",
       "      <th>1</th>\n",
       "      <td>2015-05-13 23:53:00</td>\n",
       "      <td>Wednesday</td>\n",
       "      <td>NORTHERN</td>\n",
       "      <td>OAK ST / LAGUNA ST</td>\n",
       "      <td>-122.425892</td>\n",
       "      <td>37.774599</td>\n",
       "    </tr>\n",
       "    <tr>\n",
       "      <th>2</th>\n",
       "      <td>2015-05-13 23:33:00</td>\n",
       "      <td>Wednesday</td>\n",
       "      <td>NORTHERN</td>\n",
       "      <td>VANNESS AV / GREENWICH ST</td>\n",
       "      <td>-122.424363</td>\n",
       "      <td>37.800414</td>\n",
       "    </tr>\n",
       "    <tr>\n",
       "      <th>3</th>\n",
       "      <td>2015-05-13 23:30:00</td>\n",
       "      <td>Wednesday</td>\n",
       "      <td>NORTHERN</td>\n",
       "      <td>1500 Block of LOMBARD ST</td>\n",
       "      <td>-122.426995</td>\n",
       "      <td>37.800873</td>\n",
       "    </tr>\n",
       "    <tr>\n",
       "      <th>4</th>\n",
       "      <td>2015-05-13 23:30:00</td>\n",
       "      <td>Wednesday</td>\n",
       "      <td>PARK</td>\n",
       "      <td>100 Block of BRODERICK ST</td>\n",
       "      <td>-122.438738</td>\n",
       "      <td>37.771541</td>\n",
       "    </tr>\n",
       "  </tbody>\n",
       "</table>\n",
       "</div>"
      ],
      "text/plain": [
       "                 Dates  DayOfWeek PdDistrict                    Address  \\\n",
       "0  2015-05-13 23:53:00  Wednesday   NORTHERN         OAK ST / LAGUNA ST   \n",
       "1  2015-05-13 23:53:00  Wednesday   NORTHERN         OAK ST / LAGUNA ST   \n",
       "2  2015-05-13 23:33:00  Wednesday   NORTHERN  VANNESS AV / GREENWICH ST   \n",
       "3  2015-05-13 23:30:00  Wednesday   NORTHERN   1500 Block of LOMBARD ST   \n",
       "4  2015-05-13 23:30:00  Wednesday       PARK  100 Block of BRODERICK ST   \n",
       "\n",
       "            X          Y  \n",
       "0 -122.425892  37.774599  \n",
       "1 -122.425892  37.774599  \n",
       "2 -122.424363  37.800414  \n",
       "3 -122.426995  37.800873  \n",
       "4 -122.438738  37.771541  "
      ]
     },
     "execution_count": 7,
     "metadata": {},
     "output_type": "execute_result"
    }
   ],
   "source": [
    "X_train[:5]"
   ]
  },
  {
   "cell_type": "code",
   "execution_count": 8,
   "metadata": {},
   "outputs": [
    {
     "data": {
      "text/html": [
       "<div>\n",
       "<style scoped>\n",
       "    .dataframe tbody tr th:only-of-type {\n",
       "        vertical-align: middle;\n",
       "    }\n",
       "\n",
       "    .dataframe tbody tr th {\n",
       "        vertical-align: top;\n",
       "    }\n",
       "\n",
       "    .dataframe thead th {\n",
       "        text-align: right;\n",
       "    }\n",
       "</style>\n",
       "<table border=\"1\" class=\"dataframe\">\n",
       "  <thead>\n",
       "    <tr style=\"text-align: right;\">\n",
       "      <th></th>\n",
       "      <th>Dates</th>\n",
       "      <th>DayOfWeek</th>\n",
       "      <th>PdDistrict</th>\n",
       "      <th>Address</th>\n",
       "      <th>X</th>\n",
       "      <th>Y</th>\n",
       "    </tr>\n",
       "  </thead>\n",
       "  <tbody>\n",
       "    <tr>\n",
       "      <th>0</th>\n",
       "      <td>2015-05-10 23:59:00</td>\n",
       "      <td>Sunday</td>\n",
       "      <td>BAYVIEW</td>\n",
       "      <td>2000 Block of THOMAS AV</td>\n",
       "      <td>-122.399588</td>\n",
       "      <td>37.735051</td>\n",
       "    </tr>\n",
       "    <tr>\n",
       "      <th>1</th>\n",
       "      <td>2015-05-10 23:51:00</td>\n",
       "      <td>Sunday</td>\n",
       "      <td>BAYVIEW</td>\n",
       "      <td>3RD ST / REVERE AV</td>\n",
       "      <td>-122.391523</td>\n",
       "      <td>37.732432</td>\n",
       "    </tr>\n",
       "    <tr>\n",
       "      <th>2</th>\n",
       "      <td>2015-05-10 23:50:00</td>\n",
       "      <td>Sunday</td>\n",
       "      <td>NORTHERN</td>\n",
       "      <td>2000 Block of GOUGH ST</td>\n",
       "      <td>-122.426002</td>\n",
       "      <td>37.792212</td>\n",
       "    </tr>\n",
       "    <tr>\n",
       "      <th>3</th>\n",
       "      <td>2015-05-10 23:45:00</td>\n",
       "      <td>Sunday</td>\n",
       "      <td>INGLESIDE</td>\n",
       "      <td>4700 Block of MISSION ST</td>\n",
       "      <td>-122.437394</td>\n",
       "      <td>37.721412</td>\n",
       "    </tr>\n",
       "    <tr>\n",
       "      <th>4</th>\n",
       "      <td>2015-05-10 23:45:00</td>\n",
       "      <td>Sunday</td>\n",
       "      <td>INGLESIDE</td>\n",
       "      <td>4700 Block of MISSION ST</td>\n",
       "      <td>-122.437394</td>\n",
       "      <td>37.721412</td>\n",
       "    </tr>\n",
       "  </tbody>\n",
       "</table>\n",
       "</div>"
      ],
      "text/plain": [
       "                 Dates DayOfWeek PdDistrict                   Address  \\\n",
       "0  2015-05-10 23:59:00    Sunday    BAYVIEW   2000 Block of THOMAS AV   \n",
       "1  2015-05-10 23:51:00    Sunday    BAYVIEW        3RD ST / REVERE AV   \n",
       "2  2015-05-10 23:50:00    Sunday   NORTHERN    2000 Block of GOUGH ST   \n",
       "3  2015-05-10 23:45:00    Sunday  INGLESIDE  4700 Block of MISSION ST   \n",
       "4  2015-05-10 23:45:00    Sunday  INGLESIDE  4700 Block of MISSION ST   \n",
       "\n",
       "            X          Y  \n",
       "0 -122.399588  37.735051  \n",
       "1 -122.391523  37.732432  \n",
       "2 -122.426002  37.792212  \n",
       "3 -122.437394  37.721412  \n",
       "4 -122.437394  37.721412  "
      ]
     },
     "execution_count": 8,
     "metadata": {},
     "output_type": "execute_result"
    }
   ],
   "source": [
    "X_test[:5]"
   ]
  },
  {
   "cell_type": "code",
   "execution_count": 9,
   "metadata": {},
   "outputs": [
    {
     "data": {
      "text/plain": [
       "(878049, 6)"
      ]
     },
     "execution_count": 9,
     "metadata": {},
     "output_type": "execute_result"
    }
   ],
   "source": [
    "X_train.shape"
   ]
  },
  {
   "cell_type": "code",
   "execution_count": 10,
   "metadata": {},
   "outputs": [
    {
     "data": {
      "text/plain": [
       "(884262, 6)"
      ]
     },
     "execution_count": 10,
     "metadata": {},
     "output_type": "execute_result"
    }
   ],
   "source": [
    "X_test.shape"
   ]
  },
  {
   "cell_type": "code",
   "execution_count": 11,
   "metadata": {},
   "outputs": [
    {
     "data": {
      "text/plain": [
       "LARCENY/THEFT                  174900\n",
       "OTHER OFFENSES                 126182\n",
       "NON-CRIMINAL                    92304\n",
       "ASSAULT                         76876\n",
       "DRUG/NARCOTIC                   53971\n",
       "VEHICLE THEFT                   53781\n",
       "VANDALISM                       44725\n",
       "WARRANTS                        42214\n",
       "BURGLARY                        36755\n",
       "SUSPICIOUS OCC                  31414\n",
       "MISSING PERSON                  25989\n",
       "ROBBERY                         23000\n",
       "FRAUD                           16679\n",
       "FORGERY/COUNTERFEITING          10609\n",
       "SECONDARY CODES                  9985\n",
       "WEAPON LAWS                      8555\n",
       "PROSTITUTION                     7484\n",
       "TRESPASS                         7326\n",
       "STOLEN PROPERTY                  4540\n",
       "SEX OFFENSES FORCIBLE            4388\n",
       "DISORDERLY CONDUCT               4320\n",
       "DRUNKENNESS                      4280\n",
       "RECOVERED VEHICLE                3138\n",
       "KIDNAPPING                       2341\n",
       "DRIVING UNDER THE INFLUENCE      2268\n",
       "RUNAWAY                          1946\n",
       "LIQUOR LAWS                      1903\n",
       "ARSON                            1513\n",
       "LOITERING                        1225\n",
       "EMBEZZLEMENT                     1166\n",
       "SUICIDE                           508\n",
       "FAMILY OFFENSES                   491\n",
       "BAD CHECKS                        406\n",
       "BRIBERY                           289\n",
       "EXTORTION                         256\n",
       "SEX OFFENSES NON FORCIBLE         148\n",
       "GAMBLING                          146\n",
       "PORNOGRAPHY/OBSCENE MAT            22\n",
       "TREA                                6\n",
       "Name: Category, dtype: int64"
      ]
     },
     "execution_count": 11,
     "metadata": {},
     "output_type": "execute_result"
    }
   ],
   "source": [
    "y_train.value_counts()"
   ]
  },
  {
   "cell_type": "code",
   "execution_count": 12,
   "metadata": {},
   "outputs": [
    {
     "name": "stdout",
     "output_type": "stream",
     "text": [
      "['ARSON' 'ASSAULT' 'BAD CHECKS' 'BRIBERY' 'BURGLARY' 'DISORDERLY CONDUCT'\n",
      " 'DRIVING UNDER THE INFLUENCE' 'DRUG/NARCOTIC' 'DRUNKENNESS'\n",
      " 'EMBEZZLEMENT' 'EXTORTION' 'FAMILY OFFENSES' 'FORGERY/COUNTERFEITING'\n",
      " 'FRAUD' 'GAMBLING' 'KIDNAPPING' 'LARCENY/THEFT' 'LIQUOR LAWS' 'LOITERING'\n",
      " 'MISSING PERSON' 'NON-CRIMINAL' 'OTHER OFFENSES'\n",
      " 'PORNOGRAPHY/OBSCENE MAT' 'PROSTITUTION' 'RECOVERED VEHICLE' 'ROBBERY'\n",
      " 'RUNAWAY' 'SECONDARY CODES' 'SEX OFFENSES FORCIBLE'\n",
      " 'SEX OFFENSES NON FORCIBLE' 'STOLEN PROPERTY' 'SUICIDE' 'SUSPICIOUS OCC'\n",
      " 'TREA' 'TRESPASS' 'VANDALISM' 'VEHICLE THEFT' 'WARRANTS' 'WEAPON LAWS']\n"
     ]
    }
   ],
   "source": [
    "le = LabelEncoder()\n",
    "y_train = le.fit_transform(y_train)\n",
    "print(le.classes_)"
   ]
  },
  {
   "cell_type": "code",
   "execution_count": 13,
   "metadata": {},
   "outputs": [],
   "source": [
    "num_train = X_train.shape[0]\n",
    "all_data = pd.concat((X_train, X_test), ignore_index=True)"
   ]
  },
  {
   "cell_type": "code",
   "execution_count": 14,
   "metadata": {},
   "outputs": [],
   "source": [
    "date = pd.DatetimeIndex(all_data['Dates'])\n",
    "all_data['year'] = date.year\n",
    "all_data['month'] = date.month\n",
    "all_data['day'] = date.day\n",
    "all_data['hour'] = date.hour\n",
    "all_data['minute'] = date.minute\n",
    "# all_data['second'] = date.second  # all zero\n",
    "all_data.drop(\"Dates\", axis=1, inplace=True)"
   ]
  },
  {
   "cell_type": "code",
   "execution_count": 15,
   "metadata": {},
   "outputs": [
    {
     "data": {
      "text/plain": [
       "Friday       268437\n",
       "Wednesday    259610\n",
       "Saturday     253848\n",
       "Tuesday      251905\n",
       "Thursday     251579\n",
       "Monday       243810\n",
       "Sunday       233122\n",
       "Name: DayOfWeek, dtype: int64"
      ]
     },
     "execution_count": 15,
     "metadata": {},
     "output_type": "execute_result"
    }
   ],
   "source": [
    "all_data[\"DayOfWeek\"].value_counts()"
   ]
  },
  {
   "cell_type": "code",
   "execution_count": 16,
   "metadata": {},
   "outputs": [
    {
     "data": {
      "text/plain": [
       "SOUTHERN      314638\n",
       "MISSION       240357\n",
       "NORTHERN      212313\n",
       "BAYVIEW       179022\n",
       "CENTRAL       171590\n",
       "TENDERLOIN    163556\n",
       "INGLESIDE     158929\n",
       "TARAVAL       132213\n",
       "PARK           99512\n",
       "RICHMOND       90181\n",
       "Name: PdDistrict, dtype: int64"
      ]
     },
     "execution_count": 16,
     "metadata": {},
     "output_type": "execute_result"
    }
   ],
   "source": [
    "all_data[\"PdDistrict\"].value_counts()"
   ]
  },
  {
   "cell_type": "code",
   "execution_count": 17,
   "metadata": {},
   "outputs": [],
   "source": [
    "all_data['block'] = all_data[\"Address\"].str.contains(\"block\", case=False)\n",
    "all_data.drop(\"Address\", axis=1, inplace=True)"
   ]
  },
  {
   "cell_type": "code",
   "execution_count": 18,
   "metadata": {},
   "outputs": [],
   "source": [
    "# categorical_features = [\"DayOfWeek\", \"PdDistrict\"]\n",
    "# all_data = pd.get_dummies(all_data, columns=categorical_features)"
   ]
  },
  {
   "cell_type": "code",
   "execution_count": 19,
   "metadata": {},
   "outputs": [],
   "source": [
    "# X_train = all_data[:num_train].values\n",
    "# X_test = all_data[num_train:].values"
   ]
  },
  {
   "cell_type": "code",
   "execution_count": 20,
   "metadata": {},
   "outputs": [],
   "source": [
    "categorical_features = [\"DayOfWeek\", \"PdDistrict\", \"block\"]\n",
    "ct = ColumnTransformer(transformers=[(\"categorical_features\", OrdinalEncoder(), categorical_features)],\n",
    "                       remainder=\"passthrough\")\n",
    "all_data = ct.fit_transform(all_data)"
   ]
  },
  {
   "cell_type": "code",
   "execution_count": 21,
   "metadata": {},
   "outputs": [],
   "source": [
    "X_train = all_data[:num_train]\n",
    "X_test = all_data[num_train:]"
   ]
  },
  {
   "cell_type": "code",
   "execution_count": 22,
   "metadata": {},
   "outputs": [],
   "source": [
    "def cross_val_score_prod(clf, X, y):\n",
    "    scores = []\n",
    "    cv = StratifiedKFold(n_splits=3, shuffle=True, random_state=0)\n",
    "    for train_index, test_index in cv.split(X, y):\n",
    "        est = clone(clf)\n",
    "        est.fit(X[train_index], y[train_index],\n",
    "                cat_features=np.arange(len(categorical_features)))\n",
    "        prob = est.predict_proba(X[test_index])\n",
    "        scores.append(log_loss(y[test_index], prob))\n",
    "    return scores"
   ]
  },
  {
   "cell_type": "code",
   "execution_count": 23,
   "metadata": {},
   "outputs": [],
   "source": [
    "clf = catboost.CatBoostClassifier(n_estimators=10, random_seed=0, task_type=\"GPU\")"
   ]
  },
  {
   "cell_type": "code",
   "execution_count": 24,
   "metadata": {},
   "outputs": [
    {
     "name": "stderr",
     "output_type": "stream",
     "text": [
      "Warning: less than 75% gpu memory available for training. Free: 4217.5 Total: 4217.5\n"
     ]
    },
    {
     "name": "stdout",
     "output_type": "stream",
     "text": [
      "0:\tlearn: 3.5472508\ttotal: 315ms\tremaining: 2.83s\n",
      "1:\tlearn: 3.4577693\ttotal: 747ms\tremaining: 2.99s\n",
      "2:\tlearn: 3.3840382\ttotal: 1.02s\tremaining: 2.38s\n",
      "3:\tlearn: 3.3208290\ttotal: 1.47s\tremaining: 2.2s\n",
      "4:\tlearn: 3.2656582\ttotal: 1.75s\tremaining: 1.75s\n",
      "5:\tlearn: 3.2166879\ttotal: 2.2s\tremaining: 1.47s\n",
      "6:\tlearn: 3.1725448\ttotal: 2.47s\tremaining: 1.06s\n",
      "7:\tlearn: 3.1322111\ttotal: 2.84s\tremaining: 709ms\n",
      "8:\tlearn: 3.0955264\ttotal: 3.2s\tremaining: 355ms\n",
      "9:\tlearn: 3.0607752\ttotal: 3.6s\tremaining: 0us\n"
     ]
    },
    {
     "name": "stderr",
     "output_type": "stream",
     "text": [
      "Warning: less than 75% gpu memory available for training. Free: 4217.5 Total: 4217.5\n"
     ]
    },
    {
     "name": "stdout",
     "output_type": "stream",
     "text": [
      "0:\tlearn: 3.5473783\ttotal: 348ms\tremaining: 3.13s\n",
      "1:\tlearn: 3.4582504\ttotal: 714ms\tremaining: 2.85s\n",
      "2:\tlearn: 3.3844607\ttotal: 1.07s\tremaining: 2.49s\n",
      "3:\tlearn: 3.3211862\ttotal: 1.43s\tremaining: 2.14s\n",
      "4:\tlearn: 3.2657183\ttotal: 1.8s\tremaining: 1.8s\n",
      "5:\tlearn: 3.2166462\ttotal: 2.15s\tremaining: 1.43s\n",
      "6:\tlearn: 3.1724061\ttotal: 2.54s\tremaining: 1.09s\n",
      "7:\tlearn: 3.1321073\ttotal: 3s\tremaining: 751ms\n",
      "8:\tlearn: 3.0953511\ttotal: 3.37s\tremaining: 375ms\n",
      "9:\tlearn: 3.0608045\ttotal: 3.77s\tremaining: 0us\n"
     ]
    },
    {
     "name": "stderr",
     "output_type": "stream",
     "text": [
      "Warning: less than 75% gpu memory available for training. Free: 4217.5 Total: 4217.5\n"
     ]
    },
    {
     "name": "stdout",
     "output_type": "stream",
     "text": [
      "0:\tlearn: 3.5472817\ttotal: 348ms\tremaining: 3.13s\n",
      "1:\tlearn: 3.4586954\ttotal: 688ms\tremaining: 2.75s\n",
      "2:\tlearn: 3.3850097\ttotal: 1.06s\tremaining: 2.47s\n",
      "3:\tlearn: 3.3216266\ttotal: 1.4s\tremaining: 2.1s\n",
      "4:\tlearn: 3.2657381\ttotal: 1.76s\tremaining: 1.76s\n",
      "5:\tlearn: 3.2166917\ttotal: 2.11s\tremaining: 1.4s\n",
      "6:\tlearn: 3.1722469\ttotal: 2.5s\tremaining: 1.07s\n",
      "7:\tlearn: 3.1317460\ttotal: 2.84s\tremaining: 710ms\n",
      "8:\tlearn: 3.0947664\ttotal: 3.21s\tremaining: 357ms\n",
      "9:\tlearn: 3.0602856\ttotal: 3.56s\tremaining: 0us\n",
      "3.0609510885266817 0.0006858602100685234\n"
     ]
    }
   ],
   "source": [
    "scores = cross_val_score_prod(clf, X_train, y_train)\n",
    "print(np.mean(scores), np.std(scores))"
   ]
  },
  {
   "cell_type": "code",
   "execution_count": 25,
   "metadata": {},
   "outputs": [],
   "source": [
    "clf = catboost.CatBoostClassifier(random_seed=0, task_type=\"GPU\", verbose=50)"
   ]
  },
  {
   "cell_type": "code",
   "execution_count": 26,
   "metadata": {},
   "outputs": [
    {
     "name": "stderr",
     "output_type": "stream",
     "text": [
      "Warning: less than 75% gpu memory available for training. Free: 4664.5 Total: 4664.5\n"
     ]
    },
    {
     "name": "stdout",
     "output_type": "stream",
     "text": [
      "0:\tlearn: 3.5472512\ttotal: 348ms\tremaining: 5m 47s\n",
      "50:\tlearn: 2.5326386\ttotal: 18.4s\tremaining: 5m 42s\n",
      "100:\tlearn: 2.4225850\ttotal: 36.1s\tremaining: 5m 21s\n",
      "150:\tlearn: 2.3880597\ttotal: 53.9s\tremaining: 5m 3s\n",
      "200:\tlearn: 2.3693517\ttotal: 1m 11s\tremaining: 4m 45s\n",
      "250:\tlearn: 2.3553229\ttotal: 1m 29s\tremaining: 4m 26s\n",
      "300:\tlearn: 2.3447621\ttotal: 1m 47s\tremaining: 4m 8s\n",
      "350:\tlearn: 2.3358546\ttotal: 2m 5s\tremaining: 3m 51s\n",
      "400:\tlearn: 2.3278483\ttotal: 2m 22s\tremaining: 3m 33s\n",
      "450:\tlearn: 2.3205262\ttotal: 2m 40s\tremaining: 3m 15s\n",
      "500:\tlearn: 2.3142586\ttotal: 2m 58s\tremaining: 2m 57s\n",
      "550:\tlearn: 2.3084099\ttotal: 3m 15s\tremaining: 2m 39s\n",
      "600:\tlearn: 2.3029638\ttotal: 3m 33s\tremaining: 2m 21s\n",
      "650:\tlearn: 2.2976602\ttotal: 3m 51s\tremaining: 2m 3s\n",
      "700:\tlearn: 2.2927163\ttotal: 4m 9s\tremaining: 1m 46s\n",
      "750:\tlearn: 2.2884808\ttotal: 4m 27s\tremaining: 1m 28s\n",
      "800:\tlearn: 2.2842703\ttotal: 4m 44s\tremaining: 1m 10s\n",
      "850:\tlearn: 2.2805768\ttotal: 5m 2s\tremaining: 52.9s\n",
      "900:\tlearn: 2.2766368\ttotal: 5m 20s\tremaining: 35.2s\n",
      "950:\tlearn: 2.2733732\ttotal: 5m 37s\tremaining: 17.4s\n",
      "999:\tlearn: 2.2699720\ttotal: 5m 54s\tremaining: 0us\n"
     ]
    },
    {
     "name": "stderr",
     "output_type": "stream",
     "text": [
      "Warning: less than 75% gpu memory available for training. Free: 4664.5 Total: 4664.5\n"
     ]
    },
    {
     "name": "stdout",
     "output_type": "stream",
     "text": [
      "0:\tlearn: 3.5473781\ttotal: 348ms\tremaining: 5m 47s\n",
      "50:\tlearn: 2.5330918\ttotal: 18.3s\tremaining: 5m 41s\n",
      "100:\tlearn: 2.4234620\ttotal: 36.3s\tremaining: 5m 23s\n",
      "150:\tlearn: 2.3884070\ttotal: 54.1s\tremaining: 5m 4s\n",
      "200:\tlearn: 2.3693751\ttotal: 1m 11s\tremaining: 4m 44s\n",
      "250:\tlearn: 2.3559739\ttotal: 1m 29s\tremaining: 4m 27s\n",
      "300:\tlearn: 2.3448807\ttotal: 1m 47s\tremaining: 4m 9s\n",
      "350:\tlearn: 2.3359338\ttotal: 2m 5s\tremaining: 3m 51s\n",
      "400:\tlearn: 2.3277099\ttotal: 2m 22s\tremaining: 3m 32s\n",
      "450:\tlearn: 2.3205328\ttotal: 2m 40s\tremaining: 3m 15s\n",
      "500:\tlearn: 2.3139775\ttotal: 2m 58s\tremaining: 2m 57s\n",
      "550:\tlearn: 2.3081196\ttotal: 3m 16s\tremaining: 2m 40s\n",
      "600:\tlearn: 2.3027764\ttotal: 3m 34s\tremaining: 2m 22s\n",
      "650:\tlearn: 2.2977990\ttotal: 3m 51s\tremaining: 2m 4s\n",
      "700:\tlearn: 2.2931763\ttotal: 4m 9s\tremaining: 1m 46s\n",
      "750:\tlearn: 2.2886202\ttotal: 4m 27s\tremaining: 1m 28s\n",
      "800:\tlearn: 2.2842191\ttotal: 4m 45s\tremaining: 1m 10s\n",
      "850:\tlearn: 2.2802395\ttotal: 5m 2s\tremaining: 53s\n",
      "900:\tlearn: 2.2765224\ttotal: 5m 20s\tremaining: 35.3s\n",
      "950:\tlearn: 2.2732230\ttotal: 5m 38s\tremaining: 17.5s\n",
      "999:\tlearn: 2.2701630\ttotal: 5m 56s\tremaining: 0us\n"
     ]
    },
    {
     "name": "stderr",
     "output_type": "stream",
     "text": [
      "Warning: less than 75% gpu memory available for training. Free: 4664.5 Total: 4664.5\n"
     ]
    },
    {
     "name": "stdout",
     "output_type": "stream",
     "text": [
      "0:\tlearn: 3.5472817\ttotal: 346ms\tremaining: 5m 45s\n",
      "50:\tlearn: 2.5336245\ttotal: 18.2s\tremaining: 5m 38s\n",
      "100:\tlearn: 2.4231068\ttotal: 36.2s\tremaining: 5m 22s\n",
      "150:\tlearn: 2.3880812\ttotal: 54.3s\tremaining: 5m 5s\n",
      "200:\tlearn: 2.3705025\ttotal: 1m 11s\tremaining: 4m 46s\n",
      "250:\tlearn: 2.3554121\ttotal: 1m 29s\tremaining: 4m 27s\n",
      "300:\tlearn: 2.3451068\ttotal: 1m 47s\tremaining: 4m 10s\n",
      "350:\tlearn: 2.3356224\ttotal: 2m 5s\tremaining: 3m 52s\n",
      "400:\tlearn: 2.3273621\ttotal: 2m 23s\tremaining: 3m 34s\n",
      "450:\tlearn: 2.3195365\ttotal: 2m 41s\tremaining: 3m 16s\n",
      "500:\tlearn: 2.3131487\ttotal: 2m 58s\tremaining: 2m 58s\n",
      "550:\tlearn: 2.3072822\ttotal: 3m 16s\tremaining: 2m 40s\n",
      "600:\tlearn: 2.3021501\ttotal: 3m 34s\tremaining: 2m 22s\n",
      "650:\tlearn: 2.2976191\ttotal: 3m 52s\tremaining: 2m 4s\n",
      "700:\tlearn: 2.2929119\ttotal: 4m 9s\tremaining: 1m 46s\n",
      "750:\tlearn: 2.2886115\ttotal: 4m 27s\tremaining: 1m 28s\n",
      "800:\tlearn: 2.2843954\ttotal: 4m 45s\tremaining: 1m 10s\n",
      "850:\tlearn: 2.2805133\ttotal: 5m 3s\tremaining: 53.1s\n",
      "900:\tlearn: 2.2769479\ttotal: 5m 20s\tremaining: 35.2s\n",
      "950:\tlearn: 2.2735898\ttotal: 5m 38s\tremaining: 17.4s\n",
      "999:\tlearn: 2.2704457\ttotal: 5m 55s\tremaining: 0us\n",
      "2.2988280701295305 0.0002933095460084415\n"
     ]
    }
   ],
   "source": [
    "scores = cross_val_score_prod(clf, X_train, y_train)\n",
    "print(np.mean(scores), np.std(scores))"
   ]
  },
  {
   "cell_type": "code",
   "execution_count": 27,
   "metadata": {},
   "outputs": [
    {
     "name": "stderr",
     "output_type": "stream",
     "text": [
      "Warning: less than 75% gpu memory available for training. Free: 4664.5 Total: 4664.5\n"
     ]
    },
    {
     "name": "stdout",
     "output_type": "stream",
     "text": [
      "0:\tlearn: 3.5477371\ttotal: 180ms\tremaining: 3m\n",
      "50:\tlearn: 2.5349226\ttotal: 9.4s\tremaining: 2m 54s\n",
      "100:\tlearn: 2.4226979\ttotal: 18.3s\tremaining: 2m 43s\n",
      "150:\tlearn: 2.3885899\ttotal: 27.2s\tremaining: 2m 32s\n",
      "200:\tlearn: 2.3710492\ttotal: 36.1s\tremaining: 2m 23s\n",
      "250:\tlearn: 2.3569136\ttotal: 45.1s\tremaining: 2m 14s\n",
      "300:\tlearn: 2.3462448\ttotal: 53.8s\tremaining: 2m 4s\n",
      "350:\tlearn: 2.3365924\ttotal: 1m 3s\tremaining: 1m 56s\n",
      "400:\tlearn: 2.3285360\ttotal: 1m 12s\tremaining: 1m 47s\n",
      "450:\tlearn: 2.3217701\ttotal: 1m 21s\tremaining: 1m 39s\n",
      "500:\tlearn: 2.3154838\ttotal: 1m 30s\tremaining: 1m 30s\n",
      "550:\tlearn: 2.3100650\ttotal: 1m 39s\tremaining: 1m 21s\n",
      "600:\tlearn: 2.3048074\ttotal: 1m 48s\tremaining: 1m 11s\n",
      "650:\tlearn: 2.3000547\ttotal: 1m 57s\tremaining: 1m 2s\n",
      "700:\tlearn: 2.2958509\ttotal: 2m 6s\tremaining: 53.9s\n",
      "750:\tlearn: 2.2918009\ttotal: 2m 15s\tremaining: 44.9s\n",
      "800:\tlearn: 2.2881807\ttotal: 2m 24s\tremaining: 35.9s\n",
      "850:\tlearn: 2.2849393\ttotal: 2m 33s\tremaining: 26.9s\n",
      "900:\tlearn: 2.2816040\ttotal: 2m 42s\tremaining: 17.9s\n",
      "950:\tlearn: 2.2785014\ttotal: 2m 51s\tremaining: 8.83s\n",
      "999:\tlearn: 2.2753737\ttotal: 2m 59s\tremaining: 0us\n"
     ]
    }
   ],
   "source": [
    "clf.fit(X_train, y_train)\n",
    "prob = clf.predict_proba(X_test)"
   ]
  },
  {
   "cell_type": "code",
   "execution_count": 28,
   "metadata": {},
   "outputs": [
    {
     "name": "stdout",
     "output_type": "stream",
     "text": [
      "CPU times: user 2min 41s, sys: 53.7 ms, total: 2min 41s\n",
      "Wall time: 2min 41s\n"
     ]
    }
   ],
   "source": [
    "%%time\n",
    "submission = pd.DataFrame(np.c_[test_ID, prob], columns=[\"Id\"] + list(le.classes_))\n",
    "submission[\"Id\"] = submission[\"Id\"].astype(int)\n",
    "submission.to_csv(\"submission/v4.gz\", compression=\"gzip\", index=False)"
   ]
  }
 ],
 "metadata": {
  "kernelspec": {
   "display_name": "work",
   "language": "python",
   "name": "work"
  },
  "language_info": {
   "codemirror_mode": {
    "name": "ipython",
    "version": 3
   },
   "file_extension": ".py",
   "mimetype": "text/x-python",
   "name": "python",
   "nbconvert_exporter": "python",
   "pygments_lexer": "ipython3",
   "version": "3.7.3"
  }
 },
 "nbformat": 4,
 "nbformat_minor": 2
}
